{
 "cells": [
  {
   "cell_type": "code",
   "execution_count": 20,
   "metadata": {},
   "outputs": [],
   "source": [
    "\n",
    "import re\n",
    "import os, os.path\n",
    "from os.path import splitext\n",
    "import pydicom as dicom\n",
    "import numpy as np\n",
    "from pydicom.uid import UID, generate_uid\n",
    "import shutil\n",
    "from multiprocessing import dummy as multiprocessing\n",
    "import time\n",
    "import subprocess\n",
    "import datetime\n",
    "from datetime import date\n",
    "import sys\n",
    "import cv2\n",
    "import matplotlib.pyplot as plt\n",
    "import sys\n",
    "from shutil import copy\n",
    "import math\n",
    "import torch\n",
    "import torchvision\n",
    "import echonet\n",
    "import tqdm"
   ]
  },
  {
   "cell_type": "code",
   "execution_count": 24,
   "metadata": {},
   "outputs": [],
   "source": [
    "if not os.path.exists('/workspace/data/drives/Local_SSD/sdc/Weights-20201103T193519Z-001/Weights'):\n",
    "    os.system(\"cp -r /workspace/data/NAS/Weights-20201103T193519Z-001/ /workspace/data/drives/Local_SSD/sdc/\")"
   ]
  },
  {
   "cell_type": "code",
   "execution_count": 25,
   "metadata": {},
   "outputs": [
    {
     "name": "stdout",
     "output_type": "stream",
     "text": [
      "[31.834011 31.95879  32.082172] [48.866325 49.137333 49.361984]\n"
     ]
    }
   ],
   "source": [
    "mean = np.array([31.834011, 31.95879,  32.082172])\n",
    "std = np.array([48.866325, 49.137333, 49.361984])\n",
    "print(mean, std)"
   ]
  },
  {
   "cell_type": "code",
   "execution_count": 26,
   "metadata": {},
   "outputs": [
    {
     "name": "stdout",
     "output_type": "stream",
     "text": [
      "cuda is available, original weights\n"
     ]
    }
   ],
   "source": [
    "# From https://github.com/echonet/dynamic/blob/master/scripts/InitializationNotebook.ipynb\n",
    "data = \"Example Analysis\"\n",
    "regression_model_checkpoint = \"/workspace/data/drives/Local_SSD/sdc/Weights-20201103T193519Z-001/Weights/r2plus1d_18_32_2_pretrained.pt\"\n",
    "\n",
    "# Initialize and Run EF model\n",
    "\n",
    "frames = 32\n",
    "period = 2\n",
    "batch_size = 20\n",
    "model = torchvision.models.video.r2plus1d_18(pretrained=False)\n",
    "model.fc = torch.nn.Linear(model.fc.in_features, 1)\n",
    "\n",
    "\n",
    "if torch.cuda.is_available():\n",
    "    print(\"cuda is available, original weights\")\n",
    "    device = torch.device(\"cuda\")\n",
    "    model = torch.nn.DataParallel(model)\n",
    "    model.to(device)\n",
    "    checkpoint = torch.load(regression_model_checkpoint)\n",
    "    model.load_state_dict(checkpoint['state_dict'])\n",
    "    "
   ]
  },
  {
   "cell_type": "code",
   "execution_count": 27,
   "metadata": {},
   "outputs": [
    {
     "name": "stdout",
     "output_type": "stream",
     "text": [
      "removed duplicates, 0\n"
     ]
    }
   ],
   "source": [
    "unique_firstrun =  \"/Example Analysis\"\n",
    "\n",
    "kwargs = {\"target_type\": \"Filename\",\n",
    "          \"mean\": mean,\n",
    "          \"std\": std,\n",
    "          \"length\": frames,\n",
    "          \"period\": period\n",
    "          }\n",
    "\n",
    "test_ds = echonet.datasets.Echo(split = \"external_test\", external_test_location = data, **kwargs, clips=\"all\") # unique_fnames) #\n",
    "#print(test_ds.split, test_ds.fnames)\n",
    "\n",
    "#ds = echonet.datasets.Echo(root = \"C:\\\\Datasets\\\\ReleasedData\", **kwargs, split = \"all\", clips = \"all\")\n",
    "\n",
    "test_dataloader = torch.utils.data.DataLoader(test_ds, batch_size = 1, num_workers = 5, shuffle = False, pin_memory=(device.type == \"cuda\"))\n",
    "# loss, yhat, y = echonet.utils.video.run_epoch(model, test_dataloader, train = False, optim = None, device = device, save_all=True, block_size = 20)\n",
    "\n",
    "# with tqdm.tqdm(total = len(test_dataloader)) as pbar:\n",
    "#     for X, outcome in test_dataloader:\n",
    "#         print(X.shape, outcome)\n",
    "\n",
    "# with open(output, \"w\") as g:\n",
    "#     for (filename, pred) in zip(ds.fnames, yhat):\n",
    "#         for (i,p) in enumerate(pred):\n",
    "#             g.write(\"{},{},{:.4f}\\n\".format(filename, i, p))"
   ]
  },
  {
   "cell_type": "code",
   "execution_count": 28,
   "metadata": {},
   "outputs": [
    {
     "data": {
      "text/plain": [
       "{'target_type': 'Filename',\n",
       " 'mean': array([31.834011, 31.95879 , 32.082172]),\n",
       " 'std': array([48.866325, 49.137333, 49.361984]),\n",
       " 'length': 32,\n",
       " 'period': 2}"
      ]
     },
     "execution_count": 28,
     "metadata": {},
     "output_type": "execute_result"
    }
   ],
   "source": [
    "kwargs"
   ]
  },
  {
   "cell_type": "code",
   "execution_count": 41,
   "metadata": {},
   "outputs": [
    {
     "name": "stderr",
     "output_type": "stream",
     "text": [
      "\r",
      "  0%|          | 0/3 [00:00<?, ?it/s]"
     ]
    },
    {
     "name": "stdout",
     "output_type": "stream",
     "text": [
      "63\n"
     ]
    },
    {
     "name": "stderr",
     "output_type": "stream",
     "text": [
      " 33%|███▎      | 1/3 [00:06<00:12,  6.08s/it, 63.00 (0.00)]"
     ]
    },
    {
     "name": "stdout",
     "output_type": "stream",
     "text": [
      "122\n"
     ]
    },
    {
     "name": "stderr",
     "output_type": "stream",
     "text": [
      " 67%|██████▋   | 2/3 [00:15<00:07,  7.10s/it, 185.00 (1.00)]"
     ]
    },
    {
     "name": "stdout",
     "output_type": "stream",
     "text": [
      "134\n"
     ]
    },
    {
     "name": "stderr",
     "output_type": "stream",
     "text": [
      "100%|██████████| 3/3 [00:25<00:00,  8.08s/it, 319.00 (2.00)]\n"
     ]
    }
   ],
   "source": [
    "torch.cuda.empty_cache()\n",
    "\n",
    "save_all = True\n",
    "block_size = 1\n",
    "train = False\n",
    "n = 0      # number of videos processed\n",
    "\n",
    "errorLog = \"allA4c_ef_output_ERROR_FILES.csv\"\n",
    "regression_output = \"allA4c_ef_output.csv\"\n",
    "\n",
    "with open(errorLog, 'w') as errors:\n",
    "    with open(regression_output, 'w') as g:\n",
    "        with torch.set_grad_enabled(train):\n",
    "            with tqdm.tqdm(total=len(test_dataloader)) as pbar:\n",
    "                for i, (X, outcome) in enumerate(test_dataloader):\n",
    "                    #try:\n",
    "                    #print(X.shape, flush = True)\n",
    "\n",
    "                    #y.append(outcome.numpy())\n",
    "                    #X = X.to(device)\n",
    "                    #outcome = outcome.to(device)\n",
    "                    X = torch.flip(X,[3])\n",
    "                    #block_size = X.shape[1]\n",
    "                    print(X.shape[1])\n",
    "                    average = (len(X.shape) == 6)\n",
    "                    if average:\n",
    "                        batch, n_clips, c, f, h, w = X.shape\n",
    "                        X = X.view(-1, c, f, h, w)\n",
    "\n",
    "                    if block_size is None:\n",
    "                        outputs = model(X)\n",
    "                    else:\n",
    "\n",
    "                        for j in range(0, X.shape[0], block_size):\n",
    "                            thisX = X[j:(j + block_size)].to(device)\n",
    "                            thisOutput = model(thisX).detach().cpu()\n",
    "\n",
    "                            for k, l in enumerate(thisOutput):\n",
    "                                #print(outcome[0], (j + k), l)\n",
    "                                g.write(outcome[0] + \",\" + str(j + k) + \",\" + str(l.item()) + \"\\n\")\n",
    "\n",
    "                    n += X.size(0)\n",
    "\n",
    "                    pbar.set_postfix_str(\"{:.2f} ({:.2f})\".format( n, i))\n",
    "                    pbar.update()\n",
    "\n",
    "                        #print(s1, s2, total)\n",
    "                    #except:\n",
    "                    #    print(X.shape, flush = True)\n",
    "                    #    print(\"something did not go right with\", outcome)\n",
    "                    #    errors.write(outcome[0] + \"\\n\")\n",
    "\n",
    "                    torch.cuda.empty_cache()\n",
    "                    #    print(\"cache cleared!\", torch.cuda.memory_allocated(0))\n",
    "\n"
   ]
  },
  {
   "cell_type": "code",
   "execution_count": 40,
   "metadata": {},
   "outputs": [
    {
     "name": "stdout",
     "output_type": "stream",
     "text": [
      "Mon Jan 25 22:34:08 2021       \r\n",
      "+-----------------------------------------------------------------------------+\r\n",
      "| NVIDIA-SMI 455.23.04    Driver Version: 455.23.04    CUDA Version: 11.1     |\r\n",
      "|-------------------------------+----------------------+----------------------+\r\n",
      "| GPU  Name        Persistence-M| Bus-Id        Disp.A | Volatile Uncorr. ECC |\r\n",
      "| Fan  Temp  Perf  Pwr:Usage/Cap|         Memory-Usage | GPU-Util  Compute M. |\r\n",
      "|                               |                      |               MIG M. |\r\n",
      "|===============================+======================+======================|\r\n",
      "|   0  GeForce RTX 3090    Off  | 00000000:01:00.0 Off |                  N/A |\r\n",
      "| 37%   57C    P2   115W / 350W |  12592MiB / 24263MiB |      0%      Default |\r\n",
      "|                               |                      |                  N/A |\r\n",
      "+-------------------------------+----------------------+----------------------+\r\n",
      "|   1  GeForce RTX 3090    Off  | 00000000:21:00.0 Off |                  N/A |\r\n",
      "| 36%   56C    P2   120W / 350W |   5490MiB / 24268MiB |      0%      Default |\r\n",
      "|                               |                      |                  N/A |\r\n",
      "+-------------------------------+----------------------+----------------------+\r\n",
      "                                                                               \r\n",
      "+-----------------------------------------------------------------------------+\r\n",
      "| Processes:                                                                  |\r\n",
      "|  GPU   GI   CI        PID   Type   Process name                  GPU Memory |\r\n",
      "|        ID   ID                                                   Usage      |\r\n",
      "|=============================================================================|\r\n",
      "+-----------------------------------------------------------------------------+\r\n"
     ]
    }
   ],
   "source": [
    "!nvidia-smi"
   ]
  },
  {
   "cell_type": "code",
   "execution_count": 12,
   "metadata": {},
   "outputs": [
    {
     "name": "stdout",
     "output_type": "stream",
     "text": [
      "Requirement already satisfied: torch==1.7.0 in /opt/conda/lib/python3.6/site-packages (1.7.0)\n",
      "Requirement already satisfied: torchvision===0.8.1 in /opt/conda/lib/python3.6/site-packages (0.8.1)\n",
      "Collecting tqdm==4.50.2\n",
      "  Downloading tqdm-4.50.2-py2.py3-none-any.whl (70 kB)\n",
      "\u001b[K     |████████████████████████████████| 70 kB 822 kB/s eta 0:00:01\n",
      "\u001b[?25hRequirement already satisfied: numpy in /opt/conda/lib/python3.6/site-packages (from torch==1.7.0) (1.18.1)\n",
      "Requirement already satisfied: dataclasses in /opt/conda/lib/python3.6/site-packages (from torch==1.7.0) (0.8)\n",
      "Requirement already satisfied: future in /opt/conda/lib/python3.6/site-packages (from torch==1.7.0) (0.18.2)\n",
      "Requirement already satisfied: typing-extensions in /opt/conda/lib/python3.6/site-packages (from torch==1.7.0) (3.7.4.2)\n",
      "Requirement already satisfied: pillow>=4.1.1 in /opt/conda/lib/python3.6/site-packages (from torchvision===0.8.1) (8.1.0)\n",
      "\u001b[31mERROR: thinc 6.12.1 has requirement msgpack<0.6.0,>=0.5.6, but you'll have msgpack 0.6.1 which is incompatible.\u001b[0m\n",
      "\u001b[31mERROR: spacy 2.0.16 has requirement regex==2018.01.10, but you'll have regex 2020.5.14 which is incompatible.\u001b[0m\n",
      "Installing collected packages: tqdm\n",
      "  Attempting uninstall: tqdm\n",
      "    Found existing installation: tqdm 4.31.1\n",
      "    Uninstalling tqdm-4.31.1:\n",
      "      Successfully uninstalled tqdm-4.31.1\n",
      "Successfully installed tqdm-4.50.2\n"
     ]
    }
   ],
   "source": [
    "!pip install torch==1.7.0 torchvision===0.8.1 tqdm==4.50.2"
   ]
  },
  {
   "cell_type": "code",
   "execution_count": null,
   "metadata": {},
   "outputs": [],
   "source": []
  },
  {
   "cell_type": "code",
   "execution_count": null,
   "metadata": {},
   "outputs": [],
   "source": []
  },
  {
   "cell_type": "code",
   "execution_count": null,
   "metadata": {},
   "outputs": [],
   "source": []
  },
  {
   "cell_type": "code",
   "execution_count": null,
   "metadata": {},
   "outputs": [],
   "source": []
  },
  {
   "cell_type": "code",
   "execution_count": null,
   "metadata": {},
   "outputs": [],
   "source": []
  },
  {
   "cell_type": "code",
   "execution_count": null,
   "metadata": {},
   "outputs": [],
   "source": []
  },
  {
   "cell_type": "code",
   "execution_count": null,
   "metadata": {},
   "outputs": [],
   "source": []
  },
  {
   "cell_type": "code",
   "execution_count": null,
   "metadata": {},
   "outputs": [],
   "source": []
  },
  {
   "cell_type": "code",
   "execution_count": null,
   "metadata": {},
   "outputs": [],
   "source": [
    "# Load already processed, to ignore in dataloader"
   ]
  },
  {
   "cell_type": "code",
   "execution_count": null,
   "metadata": {},
   "outputs": [],
   "source": [
    "#Make a file with name of all files already run\n",
    "\n",
    "firstrun = \"C:\\\\Datasets\\\\All A4c Videos from Database Query\\\\allA4c_ef_output_thirdrun.csv\"\n",
    "unique_firstrun =  \"C:\\\\Datasets\\\\All A4c Videos from Database Query\\\\alreadyProcessedFiles-new2.csv\"\n",
    "unique_firstrun_previous =  \"C:\\\\Datasets\\\\All A4c Videos from Database Query\\\\alreadyProcessedFiles-new.csv\"\n",
    "\n",
    "unique_fnames = []\n",
    "\n",
    "with open(unique_firstrun_previous) as previous:\n",
    "    with open(firstrun, 'r') as f:\n",
    "        with open(unique_firstrun, 'w') as fout:\n",
    "            for line in previous.readlines():\n",
    "                fout.write(line)\n",
    "                unique_fnames.append(line.strip())\n",
    "            \n",
    "            print(\"previous files loaded\")#, unique_fnames)\n",
    "            \n",
    "            for line in f.readlines():\n",
    "                fname = line.split(',')[0]\n",
    "                if fname not in unique_fnames:\n",
    "                    unique_fnames.append(fname)\n",
    "                    fout.write(fname + \"\\n\")\n",
    "\n",
    "print(len(unique_fnames))\n",
    "    "
   ]
  },
  {
   "cell_type": "code",
   "execution_count": null,
   "metadata": {},
   "outputs": [],
   "source": [
    "# Previous runs"
   ]
  },
  {
   "cell_type": "code",
   "execution_count": null,
   "metadata": {},
   "outputs": [],
   "source": [
    "save_all = True\n",
    "block_size = 20\n",
    "train = False\n",
    "n = 0      # number of videos processed\n",
    "\n",
    "errorLog = os.path.join(\"C:\\\\Datasets\\\\All A4c Videos from Database Query\", \"allA4c_ef_output_ERROR_FILES.csv\")\n",
    "regression_output = os.path.join(\"C:\\\\Datasets\\\\All A4c Videos from Database Query\", \"allA4c_ef_output.csv\")\n",
    "\n",
    "with open(errorLog, 'w') as errors:\n",
    "    with open(regression_output, 'w') as g:\n",
    "        with torch.set_grad_enabled(train):\n",
    "            with tqdm.tqdm(total=len(test_dataloader)) as pbar:\n",
    "                for i, (X, outcome) in enumerate(test_dataloader):\n",
    "                    try:\n",
    "                        #print(X.shape, flush = True)\n",
    "\n",
    "                        #y.append(outcome.numpy())\n",
    "                        #X = X.to(device)\n",
    "                        #outcome = outcome.to(device)\n",
    "\n",
    "                        average = (len(X.shape) == 6)\n",
    "                        if average:\n",
    "                            batch, n_clips, c, f, h, w = X.shape\n",
    "                            X = X.view(-1, c, f, h, w)\n",
    "\n",
    "                        if block_size is None:\n",
    "                            outputs = model(X)\n",
    "                        else:\n",
    "\n",
    "                            for j in range(0, X.shape[0], block_size):\n",
    "                                thisX = X[j:(j + block_size)].to(device)\n",
    "                                thisOutput = model(thisX).detach().cpu()\n",
    "\n",
    "                                for k, l in enumerate(thisOutput):\n",
    "                                    #print(outcome[0], (j + k), l)\n",
    "                                    g.write(outcome[0] + \",\" + str(j + k) + \",\" + str(l.item()) + \"\\n\")\n",
    "\n",
    "                        n += X.size(0)\n",
    "\n",
    "                        pbar.set_postfix_str(\"{:.2f} ({:.2f})\".format( n, i))\n",
    "                        pbar.update()\n",
    "\n",
    "                        #print(s1, s2, total)\n",
    "                    except:\n",
    "                        print(X.shape, flush = True)\n",
    "                        print(\"something did not go right with\", outcome)\n",
    "                        errors.write(outcome[0] + \"\\n\")\n",
    "\n",
    "                    torch.cuda.empty_cache()\n",
    "                    #    print(\"cache cleared!\", torch.cuda.memory_allocated(0))\n",
    "\n"
   ]
  },
  {
   "cell_type": "code",
   "execution_count": null,
   "metadata": {},
   "outputs": [],
   "source": []
  },
  {
   "cell_type": "code",
   "execution_count": null,
   "metadata": {},
   "outputs": [],
   "source": [
    "torch.cuda.empty_cache()\n",
    "\n",
    "save_all = True\n",
    "block_size = 30\n",
    "train = False\n",
    "n = 0      # number of videos processed\n",
    "\n",
    "errorLog = os.path.join(\"C:\\\\Datasets\\\\All A4c Videos from Database Query\", \"allA4c_ef_output_ERROR_FILES.csv\")\n",
    "regression_output = os.path.join(\"C:\\\\Datasets\\\\All A4c Videos from Database Query\", \"allA4c_ef_output.csv\")\n",
    "\n",
    "with open(errorLog, 'w') as errors:\n",
    "    with open(regression_output, 'w') as g:\n",
    "        with torch.set_grad_enabled(train):\n",
    "            with tqdm.tqdm(total=len(test_dataloader)) as pbar:\n",
    "                for i, (X, outcome) in enumerate(test_dataloader):\n",
    "                    try:\n",
    "                        #print(X.shape, flush = True)\n",
    "\n",
    "                        #y.append(outcome.numpy())\n",
    "                        #X = X.to(device)\n",
    "                        #outcome = outcome.to(device)\n",
    "\n",
    "                        average = (len(X.shape) == 6)\n",
    "                        if average:\n",
    "                            batch, n_clips, c, f, h, w = X.shape\n",
    "                            X = X.view(-1, c, f, h, w)\n",
    "\n",
    "                        if block_size is None:\n",
    "                            outputs = model(X)\n",
    "                        else:\n",
    "\n",
    "                            for j in range(0, X.shape[0], block_size):\n",
    "                                thisX = X[j:(j + block_size)].to(device)\n",
    "                                thisOutput = model(thisX).detach().cpu()\n",
    "\n",
    "                                for k, l in enumerate(thisOutput):\n",
    "                                    #print(outcome[0], (j + k), l)\n",
    "                                    g.write(outcome[0] + \",\" + str(j + k) + \",\" + str(l.item()) + \"\\n\")\n",
    "\n",
    "                        n += X.size(0)\n",
    "\n",
    "                        pbar.set_postfix_str(\"{:.2f} ({:.2f})\".format( n, i))\n",
    "                        pbar.update()\n",
    "\n",
    "                        #print(s1, s2, total)\n",
    "                    except:\n",
    "                        print(X.shape, flush = True)\n",
    "                        print(\"something did not go right with\", outcome)\n",
    "                        errors.write(outcome[0] + \"\\n\")\n",
    "\n",
    "                    torch.cuda.empty_cache()\n",
    "                    #    print(\"cache cleared!\", torch.cuda.memory_allocated(0))\n",
    "\n"
   ]
  }
 ],
 "metadata": {
  "kernelspec": {
   "display_name": "Python 3",
   "language": "python",
   "name": "python3"
  },
  "language_info": {
   "codemirror_mode": {
    "name": "ipython",
    "version": 3
   },
   "file_extension": ".py",
   "mimetype": "text/x-python",
   "name": "python",
   "nbconvert_exporter": "python",
   "pygments_lexer": "ipython3",
   "version": "3.6.10"
  }
 },
 "nbformat": 4,
 "nbformat_minor": 4
}
