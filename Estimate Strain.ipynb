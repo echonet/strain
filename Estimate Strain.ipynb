{
 "cells": [
  {
   "cell_type": "code",
   "execution_count": 1,
   "metadata": {},
   "outputs": [],
   "source": [
    "import cv2\n",
    "import cv2\n",
    "import numpy as np\n",
    "import math\n",
    "import typing\n",
    "import matplotlib.pyplot as plt\n",
    "import os\n",
    "import pandas as pd\n",
    "from tqdm import tqdm\n",
    "def show(frame):\n",
    "    cv2.imshow(\"test\", frame)\n",
    "    cv2.waitKey(0)\n",
    "    cv2.destroyAllWindows()\n",
    "def plot_point(frame,x,y,color=(0,255,0),radius = 0):\n",
    "    thickness = -1\n",
    "    return cv2.circle(frame, (x,y), radius, color, thickness)\n",
    "def plot_line(frame,p1,p2,color=(0,191,255)):\n",
    "    thickness = 2\n",
    "    return cv2.line(frame, (p1[0],p1[1]), (p2[0],p2[1]), color, thickness)\n",
    "\n",
    "# Gets all the contours for certain image\n",
    "\n",
    "def loadvideo(filename: str) -> np.ndarray:\n",
    "    \"\"\"Loads a video from a file.\n",
    "\n",
    "    Args:\n",
    "        filename (str): filename of video\n",
    "\n",
    "    Returns:\n",
    "        A np.ndarray with dimensions (channels=3, frames, height, width). The\n",
    "        values will be uint8's ranging from 0 to 255.\n",
    "\n",
    "    Raises:\n",
    "        FileNotFoundError: Could not find `filename`\n",
    "        ValueError: An error occurred while reading the video\n",
    "    \"\"\"\n",
    "\n",
    "    if not os.path.exists(filename):\n",
    "        raise FileNotFoundError(filename)\n",
    "    capture = cv2.VideoCapture(filename)\n",
    "\n",
    "    frame_count = int(capture.get(cv2.CAP_PROP_FRAME_COUNT))\n",
    "    frame_width = int(capture.get(cv2.CAP_PROP_FRAME_WIDTH))\n",
    "    frame_height = int(capture.get(cv2.CAP_PROP_FRAME_HEIGHT))\n",
    "\n",
    "    v = np.zeros((frame_count, frame_height, frame_width, 3), np.uint8)\n",
    "\n",
    "    for count in range(frame_count):\n",
    "        ret, frame = capture.read()\n",
    "        if not ret:\n",
    "            raise ValueError(\"Failed to load frame #{} of {}.\".format(count, filename))\n",
    "\n",
    "        frame = cv2.cvtColor(frame, cv2.COLOR_BGR2RGB)\n",
    "        v[count] = frame\n",
    "\n",
    "    v = v.transpose((3, 0, 1, 2))\n",
    "\n",
    "    return v\n",
    "def savevideo(filename: str, array: np.ndarray, fps: typing.Union[float, int] = 1):\n",
    "    \"\"\"Saves a video to a file.\n",
    "\n",
    "    Args:\n",
    "        filename (str): filename of video\n",
    "        array (np.ndarray): video of uint8's with shape (channels=3, frames, height, width)\n",
    "        fps (float or int): frames per second\n",
    "\n",
    "    Returns:\n",
    "        None\n",
    "    \"\"\"\n",
    "\n",
    "    c, f, height, width = array.shape\n",
    "\n",
    "    if c != 3:\n",
    "        raise ValueError(\"savevideo expects array of shape (channels=3, frames, height, width), got shape ({})\".format(\", \".join(map(str, array.shape))))\n",
    "    fourcc = cv2.VideoWriter_fourcc('M', 'J', 'P', 'G')\n",
    "    out = cv2.VideoWriter(filename, fourcc, fps, (width, height))\n",
    "\n",
    "    for i in range(f):\n",
    "        out.write(array[:, i, :, :].transpose((1, 2, 0)))\n",
    "\n",
    "        \n",
    "def obtainContourPoints(img):\n",
    "  # read image\n",
    "\n",
    "  rgb = cv2.cvtColor(img, cv2.COLOR_BGR2RGB)\n",
    "\n",
    "  # set lower and upper bounds on blue color\n",
    "  lower = (200,0,0)\n",
    "  upper = (255,200,200)\n",
    "\n",
    "  # threshold and invert so hexagon is white on black background\n",
    "  thresh = cv2.inRange(rgb, lower, upper)\n",
    "  # print(thresh.shape,np.min(thresh),np.max(thresh),type(thresh))\n",
    "  # show(thresh)\n",
    "  # get contours\n",
    "  result = np.zeros_like(thresh)\n",
    "  im2, contours = cv2.findContours(thresh, cv2.RETR_EXTERNAL, cv2.CHAIN_APPROX_SIMPLE)\n",
    "  #print(im2,contours)\n",
    "  #cv2.drawContours(img, im2, -1, (0,255,0), 3)\n",
    "\n",
    "  im2 = np.array(im2)\n",
    "  index_1 = 0\n",
    "  index_2 = 0\n",
    "  for i in im2:\n",
    "    if i.shape[0]>im2[index_1].shape[0]:\n",
    "      index_1=index_2\n",
    "    index_2+=1\n",
    "  rec = cv2.minAreaRect(im2[index_1])\n",
    "  color = (0, 0, 255) \n",
    "  thickness = 2\n",
    "  box = cv2.boxPoints(rec)\n",
    "  box = np.int0(box)\n",
    "  indexes = [0,1]\n",
    "  for i in range(0,len(box)):\n",
    "    for k in range(0,len(indexes)):\n",
    "      if box[i][1]>box[indexes[k]][1] and not i in indexes:\n",
    "        indexes[k]=i\n",
    "\n",
    "  #cv2.drawContours(img,[box],0,(191,0,255),2)\n",
    "  #img = plot_line(img,box[indexes[0]],box[indexes[1]])\n",
    "  #img = plot_point(img,box[indexes[0],0],box[indexes[0],1])\n",
    "  #img = plot_point(img,box[indexes[1],0],box[indexes[1],1])\n",
    "  #cv2.rectangle(img,rec,color,thickness)\n",
    "  return img, [box[indexes[0]].tolist(),box[indexes[1]].tolist()]\n",
    "\n",
    "def calc_ratio(array,vid=None,save = False):\n",
    "    if save:\n",
    "        plt.plot(array)\n",
    "    x = scipy.signal.find_peaks(-array,distance=32)[0]\n",
    "    ratios = []\n",
    "    for i in range(0,len(x)):\n",
    "        if save:\n",
    "            plt.scatter(x[i],array[x[i]],color='orange')\n",
    "        if i==len(x)-1:\n",
    "            y = np.argmax(array[x[i]:])\n",
    "        else:\n",
    "            y = np.argmax(array[x[i]:x[i+1]])\n",
    "        if save:\n",
    "            plt.scatter(y+x[i],array[y+x[i]],color='red')\n",
    "        x_val = array[x[i]]\n",
    "        y_val = array[y+x[i]]\n",
    "        ratios.append(x_val/y_val)\n",
    "    if save:\n",
    "        plt.savefig(os.path.join('Ratio_Calc',vid[:-4]+'.png'))\n",
    "    return ratios"
   ]
  },
  {
   "cell_type": "code",
   "execution_count": 2,
   "metadata": {},
   "outputs": [],
   "source": [
    "def obtainThreshPoints(img,iterations = 1):\n",
    "  # read image\n",
    "\n",
    "  rgb = cv2.cvtColor(img, cv2.COLOR_BGR2RGB)\n",
    "\n",
    "  # set lower and upper bounds on blue color\n",
    "  lower = (250,0,0)\n",
    "  upper = (255,200,200)\n",
    "\n",
    "  # threshold and invert so hexagon is white on black background\n",
    "  thresh = cv2.inRange(rgb, lower, upper)\n",
    "  \n",
    "  #print(np.min(thresh),np.max(thresh),thresh.shape)\n",
    "\n",
    "  # show(thresh)\n",
    "  # get contours\n",
    "  result = np.zeros_like(thresh)\n",
    "  im2, contours = cv2.findContours(thresh, cv2.RETR_EXTERNAL, cv2.CHAIN_APPROX_SIMPLE)\n",
    "  thresh = cv2.dilate(thresh, None, iterations=iterations)\n",
    "  #thresh = np.array([thresh,thresh,thresh])\n",
    "  #thresh = np.transpose(thresh,(1,2,0))\n",
    "  spare = thresh\n",
    "  thresh = thresh==255\n",
    "\n",
    "  img[thresh]=[255,255,255]\n",
    "\n",
    "  #cv2.drawContours(img, im2, -1, (0,255,0), 3)\n",
    "\n",
    "  im2 = np.array(im2)\n",
    "  index_1 = 0\n",
    "  index_2 = 0\n",
    "  for i in im2:\n",
    "    if i.shape[0]>im2[index_1].shape[0]:\n",
    "      index_1=index_2\n",
    "    index_2+=1\n",
    "  rec = cv2.minAreaRect(im2[index_1])\n",
    "  color = (0, 0, 255) \n",
    "  thickness = 2\n",
    "  box = cv2.boxPoints(rec)\n",
    "  box = np.int0(box)\n",
    "  indexes = [0,1]\n",
    "  for i in range(0,len(box)):\n",
    "    for k in range(0,len(indexes)):\n",
    "      if box[i][1]>box[indexes[k]][1] and not i in indexes:\n",
    "        indexes[k]=i\n",
    "\n",
    "  # cv2.drawContours(img,[box],0,(191,0,255),2)\n",
    "  #thresh = plot_line(img,box[indexes[0]],box[indexes[1]])\n",
    "  #print(np.min(thresh),np.max(thresh),thresh.shape,type(thresh))\n",
    "  #print(np.min(img),np.max(img),img.shape,type(img))\n",
    "  #print(iterations,box[indexes[0],1],box[indexes[0],0],spare[box[indexes[0],1],box[indexes[0],0]],box[indexes[1],1],box[indexes[1],0],spare[box[indexes[1],1],box[indexes[1],0]])\n",
    "  img = plot_point(img,box[indexes[0],0],box[indexes[0],1])\n",
    "  img = plot_point(img,box[indexes[1],0],box[indexes[1],1])\n",
    "  #cv2.rectangle(img,rec,color,thickness)\n",
    "  #show(img)\n",
    "  x1 = min(box[indexes[0],1],111)\n",
    "  y1 = min(box[indexes[0],0],111)\n",
    "  x2 = min(box[indexes[1],1],111)\n",
    "  y2 = min(box[indexes[1],0],111)\n",
    "  pair = (not thresh[x1,y1]) or (not thresh[x2,y2])\n",
    "  return img,thresh, x1,y1,x2,y2, pair"
   ]
  },
  {
   "cell_type": "code",
   "execution_count": 3,
   "metadata": {},
   "outputs": [],
   "source": [
    "def no_dilation(img,iterations = 1):\n",
    "  # read image\n",
    "\n",
    "  rgb = cv2.cvtColor(img, cv2.COLOR_BGR2RGB)\n",
    "\n",
    "  # set lower and upper bounds on blue color\n",
    "  lower = (250,0,0)\n",
    "  upper = (255,200,200)\n",
    "\n",
    "  # threshold and invert so hexagon is white on black background\n",
    "  thresh = cv2.inRange(rgb, lower, upper)\n",
    "  spare = thresh\n",
    "  thresh = cv2.dilate(thresh, None, iterations=iterations)\n",
    "  thresh = cv2.erode(thresh, None, iterations=iterations)\n",
    "  thresh = thresh==255\n",
    "  \n",
    "  return thresh"
   ]
  },
  {
   "cell_type": "code",
   "execution_count": 4,
   "metadata": {},
   "outputs": [],
   "source": [
    "def midpoint(point1,point2):\n",
    "    return (point1+point2)/2\n",
    "def change(points):\n",
    "    point_arr = [points[0]]\n",
    "    for i in points[1:]:\n",
    "        point_arr.append(midpoint(point_arr[-1],i))\n",
    "    return np.array(point_arr)"
   ]
  },
  {
   "cell_type": "code",
   "execution_count": 5,
   "metadata": {},
   "outputs": [],
   "source": [
    "def get_points(vid):\n",
    "    first = np.transpose(vid,(1,2,3,0))\n",
    "    video = []\n",
    "    guess = None\n",
    "    vertexes = []\n",
    "    for frame in range(0,len(first)):\n",
    "        #print(temp.Frame==frame,frame)\n",
    "        img,points = obtainContourPoints(first[frame])\n",
    "        if np.linalg.norm(points[0])>np.linalg.norm(points[1]):\n",
    "            c = points[0].copy()\n",
    "            points[0] = points[1].copy()\n",
    "            points[1] = c\n",
    "        vertexes.append(points)\n",
    "\n",
    "        # video.append(img)\n",
    "        #show(img)\n",
    "\n",
    "    #for point in vertexes:\n",
    "    #change(np.array(vertexes))\n",
    "    ok = np.array(vertexes)\n",
    "    # print(ok.shape)\n",
    "    first_points = change(ok[:,0,:])\n",
    "    second_points = change(ok[:,1,:])\n",
    "    return first_points,second_points"
   ]
  },
  {
   "cell_type": "code",
   "execution_count": 6,
   "metadata": {},
   "outputs": [],
   "source": [
    "def get_dilation(vid,dilations = 5):\n",
    "    first = np.transpose(vid,(1,2,3,0))\n",
    "    threshes = []\n",
    "    vertexes = []\n",
    "    for frame in first:\n",
    "        pair = True\n",
    "        start = 1\n",
    "        for i in range(0,dilations):#(pair and start<50):\n",
    "            wow = frame.copy()\n",
    "            img,thresh,x1,y1,x2,y2,pair = obtainThreshPoints(wow,iterations=start)\n",
    "            start+=1\n",
    "        if dilations == 0:\n",
    "            wow = frame.copy()\n",
    "            thresh = no_dilation(wow,iterations=1)\n",
    "        threshes.append(thresh)\n",
    "    \n",
    "    return np.array(threshes)"
   ]
  },
  {
   "cell_type": "code",
   "execution_count": 7,
   "metadata": {},
   "outputs": [],
   "source": [
    "def strain_lengths(vid,threshes,first_points,second_points,filename,output_folder):\n",
    "    \n",
    "    first = np.transpose(vid,(1,2,3,0))\n",
    "    spare = first.copy()\n",
    "    thresh = threshes\n",
    "    #print(first.shape,thresh.shape)\n",
    "    filenames = []\n",
    "    frame_num = []\n",
    "    x1s = []\n",
    "    y1s = []\n",
    "    error1 = []\n",
    "    x2s = []\n",
    "    y2s = []\n",
    "    error2 = []\n",
    "    length = []\n",
    "    angle = []\n",
    "    \n",
    "    for frame in range(0,len(first)):\n",
    "        rgb = cv2.cvtColor(first[frame,:,:], cv2.COLOR_BGR2RGB)\n",
    "        t = (thresh[frame,:,:]*255).copy()\n",
    "        t = cv2.inRange(t, 250, 255)\n",
    "        # print(t.shape,np.min(t),np.max(t),type(t))\n",
    "        # show(t)\n",
    "        im2, contours = cv2.findContours(t, cv2.RETR_EXTERNAL, cv2.CHAIN_APPROX_NONE)\n",
    "        # print(shortcut,frame,shortcut.index[frame])\n",
    "        # cv2.drawContours(first[frame], im2, -1, (0,255,0), 3)\n",
    "        x1 = int(first_points[frame,0])\n",
    "        y1 = int(first_points[frame,1])\n",
    "        x2 = int(second_points[frame,0])\n",
    "        y2 = int(second_points[frame,1])\n",
    "        def calc_degrees(point):\n",
    "            return math.atan2(point[1], point[0])\n",
    "        deg = calc_degrees([x1-x2,y1-y2])\n",
    "        angle.append(deg)\n",
    "        final_point = im2[0][0][0]\n",
    "        index = 0\n",
    "        count = 0\n",
    "        for j in im2[0]:\n",
    "            count+=1\n",
    "            if np.linalg.norm(j[0]-np.array([x1,y1]))< np.linalg.norm(final_point-np.array([x1,y1])):\n",
    "                final_point = j[0]\n",
    "                index = count\n",
    "        # print(final_point,np.array([x1,y1]), np.linalg.norm(final_point-np.array([x1,y1])),index)\n",
    "        \n",
    "        final_point2 = im2[0][0][0]\n",
    "        index2 = 0\n",
    "        count2 = 0\n",
    "        for j in im2[0]:\n",
    "            count2+=1\n",
    "            if np.linalg.norm(j[0]-np.array([x2,y2]))< np.linalg.norm(final_point2-np.array([x2,y2])):\n",
    "                final_point2 = j[0]\n",
    "                index2 = count2\n",
    "        # print(final_point2,np.array([x2,y2]), np.linalg.norm(final_point2-np.array([x2,y2])),index2)\n",
    "        # plot_point(first[frame],x1,y1,color=(255,0,0))\n",
    "        # plot_point(first[frame],x2,y2,color=(255,0,0))\n",
    "        # print(im2)\n",
    "        for k in range(0,index):\n",
    "            plot_point(first[frame],im2[0][k][0][0],im2[0][k][0][1])\n",
    "        for k in range(index2,len(im2[0])):\n",
    "            plot_point(first[frame],im2[0][k][0][0],im2[0][k][0][1])\n",
    "        for k in range(index,index2):\n",
    "            plot_point(first[frame],im2[0][k][0][0],im2[0][k][0][1],color=(0,191,255))\n",
    "        plot_point(first[frame],x1,y1,color=(255,0,255),radius=1)\n",
    "        plot_point(first[frame],x2,y2,color=(255,0,255),radius=1)\n",
    "        \n",
    "        filenames.append(filename)\n",
    "        frame_num.append(frame)\n",
    "        x1s.append(final_point[0])\n",
    "        y1s.append(final_point[1])\n",
    "        error1.append(np.linalg.norm(final_point-np.array([x1,y1])))\n",
    "        x2s.append(final_point2[0])\n",
    "        y2s.append(final_point2[1])\n",
    "        error2.append(np.linalg.norm(final_point2-np.array([x2,y2])))\n",
    "        length.append(len(im2[0])-index2+index)\n",
    "    video = np.transpose(np.array(first),(3,0,1,2))\n",
    "\n",
    "    savevideo(os.path.join(output_folder,\"Strain_Videos\",filename),video,fps=30)\n",
    "    final = pd.DataFrame({\"filenames\":filenames,'frame_num':frame_num,'x1':x1s,'y1':y1s,'error_1':error1,'x2':x2s,'y2':y2s,'error_2':error2,'length':length,'angle':angle})\n",
    "    plt.clf()\n",
    "    plt.plot(frame_num,length)\n",
    "    plt.title(filename)\n",
    "    plt.xlabel(\"Frame\")\n",
    "    plt.ylabel(\"Length\")\n",
    "    plt.savefig(os.path.join(output_folder,\"Strain_Plots\",filename[:-4]+'.png'))\n",
    "    plt.clf()\n",
    "    return final,calc_ratio(length)"
   ]
  },
  {
   "cell_type": "code",
   "execution_count": 8,
   "metadata": {},
   "outputs": [],
   "source": [
    "def script(input_folder,output_folder,dilations):\n",
    "    try:\n",
    "        os.mkdir(output_folder)\n",
    "    except:\n",
    "        print(\"output folder exists\")\n",
    "    try:\n",
    "        os.mkdir(os.path.join(output_folder,\"Strain_Plots\"))\n",
    "        os.mkdir(os.path.join(output_folder,\"Strain_Videos\"))\n",
    "    except:\n",
    "        print(\"This folder has been used before\")\n",
    "    output = 'Dilation_5_new'\n",
    "    iter_num = []\n",
    "    df = pd.DataFrame()\n",
    "    Filenames,frame_nums,x1s,y1s,x2s,y2s = [],[],[],[],[],[]\n",
    "    for vid in tqdm(os.listdir(folder)):\n",
    "        try:\n",
    "            video_file = os.path.join(folder,vid)\n",
    "            first = loadvideo(video_file)[:,:,:,:112]\n",
    "            left,right = get_points(first)\n",
    "            thresh = get_dilation(first,dilations = dilations)\n",
    "            df = df.append(strain_lengths(first,thresh,left,right,vid,output_folder)[0])\n",
    "        except:\n",
    "            print(vid)\n",
    "    df.to_csv(os.path.join(output_folder,\"Strain.csv\"))"
   ]
  },
  {
   "cell_type": "code",
   "execution_count": 9,
   "metadata": {},
   "outputs": [],
   "source": [
    "folder = 'J:\\\\segmented'"
   ]
  },
  {
   "cell_type": "code",
   "execution_count": 10,
   "metadata": {
    "scrolled": true
   },
   "outputs": [
    {
     "name": "stderr",
     "output_type": "stream",
     "text": [
      "\r",
      "  0%|                                                                                         | 0/3229 [00:00<?, ?it/s]"
     ]
    },
    {
     "name": "stdout",
     "output_type": "stream",
     "text": [
      "output folder exists\n",
      "This folder has been used before\n"
     ]
    },
    {
     "name": "stderr",
     "output_type": "stream",
     "text": [
      "<ipython-input-1-aec5041280ef>:103: VisibleDeprecationWarning: Creating an ndarray from ragged nested sequences (which is a list-or-tuple of lists-or-tuples-or ndarrays with different lengths or shapes) is deprecated. If you meant to do this, you must specify 'dtype=object' when creating the ndarray\n",
      "  im2 = np.array(im2)\n",
      "  0%|                                                                                 | 1/3229 [00:00<41:54,  1.28it/s]"
     ]
    },
    {
     "name": "stdout",
     "output_type": "stream",
     "text": [
      "0X100009310A3BD7FC.avi\n"
     ]
    },
    {
     "name": "stderr",
     "output_type": "stream",
     "text": [
      "\r",
      "  0%|                                                                                 | 2/3229 [00:01<44:11,  1.22it/s]"
     ]
    },
    {
     "name": "stdout",
     "output_type": "stream",
     "text": [
      "0X1002E8FBACD08477.avi\n"
     ]
    },
    {
     "name": "stderr",
     "output_type": "stream",
     "text": [
      "\r",
      "  0%|                                                                                 | 3/3229 [00:02<37:53,  1.42it/s]"
     ]
    },
    {
     "name": "stdout",
     "output_type": "stream",
     "text": [
      "0X1005D03EED19C65B.avi\n"
     ]
    },
    {
     "name": "stderr",
     "output_type": "stream",
     "text": [
      "\r",
      "  0%|                                                                                 | 4/3229 [00:02<35:11,  1.53it/s]"
     ]
    },
    {
     "name": "stdout",
     "output_type": "stream",
     "text": [
      "0X10075961BC11C88E.avi\n"
     ]
    },
    {
     "name": "stderr",
     "output_type": "stream",
     "text": [
      "\r",
      "  0%|▏                                                                                | 5/3229 [00:03<42:48,  1.26it/s]"
     ]
    },
    {
     "name": "stdout",
     "output_type": "stream",
     "text": [
      "0X10094BA0A028EAC3.avi\n"
     ]
    },
    {
     "name": "stderr",
     "output_type": "stream",
     "text": [
      "\r",
      "  0%|▏                                                                                | 6/3229 [00:04<48:36,  1.10it/s]"
     ]
    },
    {
     "name": "stdout",
     "output_type": "stream",
     "text": [
      "0X100CF05D141FF143.avi\n"
     ]
    },
    {
     "name": "stderr",
     "output_type": "stream",
     "text": [
      "\r",
      "  0%|▏                                                                                | 7/3229 [00:05<41:43,  1.29it/s]"
     ]
    },
    {
     "name": "stdout",
     "output_type": "stream",
     "text": [
      "0X100E3B8D3280BEC5.avi\n"
     ]
    },
    {
     "name": "stderr",
     "output_type": "stream",
     "text": [
      "\r",
      "  0%|▏                                                                                | 8/3229 [00:06<46:28,  1.15it/s]"
     ]
    },
    {
     "name": "stdout",
     "output_type": "stream",
     "text": [
      "0X100E491B3CD58DE2.avi\n"
     ]
    },
    {
     "name": "stderr",
     "output_type": "stream",
     "text": [
      "\r",
      "  0%|▏                                                                                | 9/3229 [00:07<48:36,  1.10it/s]"
     ]
    },
    {
     "name": "stdout",
     "output_type": "stream",
     "text": [
      "0X100F044876B98F90.avi\n"
     ]
    },
    {
     "name": "stderr",
     "output_type": "stream",
     "text": [
      "\r",
      "  0%|▏                                                                               | 10/3229 [00:08<45:56,  1.17it/s]"
     ]
    },
    {
     "name": "stdout",
     "output_type": "stream",
     "text": [
      "0X101026B90DAE7E95.avi\n"
     ]
    },
    {
     "name": "stderr",
     "output_type": "stream",
     "text": [
      "\r",
      "  0%|▎                                                                               | 11/3229 [00:09<50:20,  1.07it/s]"
     ]
    },
    {
     "name": "stdout",
     "output_type": "stream",
     "text": [
      "0X1012703CDC1436FE.avi\n"
     ]
    },
    {
     "name": "stderr",
     "output_type": "stream",
     "text": [
      "\r",
      "  0%|▎                                                                               | 12/3229 [00:09<43:30,  1.23it/s]"
     ]
    },
    {
     "name": "stdout",
     "output_type": "stream",
     "text": [
      "0X1013E8A4864781B.avi\n"
     ]
    },
    {
     "name": "stderr",
     "output_type": "stream",
     "text": [
      "\r",
      "  0%|▎                                                                               | 13/3229 [00:10<41:40,  1.29it/s]"
     ]
    },
    {
     "name": "stdout",
     "output_type": "stream",
     "text": [
      "0X1018521A3BC5CDBA.avi\n"
     ]
    },
    {
     "name": "stderr",
     "output_type": "stream",
     "text": [
      "\r",
      "  0%|▎                                                                               | 14/3229 [00:11<44:23,  1.21it/s]"
     ]
    },
    {
     "name": "stdout",
     "output_type": "stream",
     "text": [
      "0X101C388397F66EDB.avi\n"
     ]
    },
    {
     "name": "stderr",
     "output_type": "stream",
     "text": [
      "\r",
      "  0%|▎                                                                               | 15/3229 [00:12<41:26,  1.29it/s]"
     ]
    },
    {
     "name": "stdout",
     "output_type": "stream",
     "text": [
      "0X101CFC9C5351DCBE.avi\n"
     ]
    },
    {
     "name": "stderr",
     "output_type": "stream",
     "text": [
      "\r",
      "  0%|▍                                                                               | 16/3229 [00:12<37:59,  1.41it/s]"
     ]
    },
    {
     "name": "stdout",
     "output_type": "stream",
     "text": [
      "0X101E654AF3FC07A8.avi\n"
     ]
    },
    {
     "name": "stderr",
     "output_type": "stream",
     "text": [
      "\r",
      "  1%|▍                                                                               | 17/3229 [00:13<41:09,  1.30it/s]"
     ]
    },
    {
     "name": "stdout",
     "output_type": "stream",
     "text": [
      "0X10267ADF2E644E0.avi\n"
     ]
    },
    {
     "name": "stderr",
     "output_type": "stream",
     "text": [
      "\r",
      "  1%|▍                                                                               | 18/3229 [00:14<39:52,  1.34it/s]"
     ]
    },
    {
     "name": "stdout",
     "output_type": "stream",
     "text": [
      "0X102AE9C68B2C46DA.avi\n"
     ]
    },
    {
     "name": "stderr",
     "output_type": "stream",
     "text": [
      "\r",
      "  1%|▍                                                                               | 19/3229 [00:15<39:17,  1.36it/s]"
     ]
    },
    {
     "name": "stdout",
     "output_type": "stream",
     "text": [
      "0X102C51641C321436.avi\n"
     ]
    },
    {
     "name": "stderr",
     "output_type": "stream",
     "text": [
      "\r",
      "  1%|▍                                                                               | 20/3229 [00:16<43:41,  1.22it/s]"
     ]
    },
    {
     "name": "stdout",
     "output_type": "stream",
     "text": [
      "0X102CFB07F752AAE6.avi\n"
     ]
    },
    {
     "name": "stderr",
     "output_type": "stream",
     "text": [
      "\r",
      "  1%|▌                                                                               | 21/3229 [00:17<48:10,  1.11it/s]"
     ]
    },
    {
     "name": "stdout",
     "output_type": "stream",
     "text": [
      "0X102DD1B9BE03716.avi\n"
     ]
    },
    {
     "name": "stderr",
     "output_type": "stream",
     "text": [
      "\r",
      "  1%|▌                                                                               | 22/3229 [00:17<47:02,  1.14it/s]"
     ]
    },
    {
     "name": "stdout",
     "output_type": "stream",
     "text": [
      "0X102E453603FA1440.avi\n"
     ]
    },
    {
     "name": "stderr",
     "output_type": "stream",
     "text": [
      "\r",
      "  1%|▌                                                                               | 23/3229 [00:18<43:11,  1.24it/s]"
     ]
    },
    {
     "name": "stdout",
     "output_type": "stream",
     "text": [
      "0X102E94908346DE1D.avi\n"
     ]
    },
    {
     "name": "stderr",
     "output_type": "stream",
     "text": [
      "\r",
      "  1%|▌                                                                               | 24/3229 [00:19<45:53,  1.16it/s]"
     ]
    },
    {
     "name": "stdout",
     "output_type": "stream",
     "text": [
      "0X102F3D4CD5E10801.avi\n"
     ]
    },
    {
     "name": "stderr",
     "output_type": "stream",
     "text": [
      "\r",
      "  1%|▌                                                                               | 25/3229 [00:20<40:35,  1.32it/s]"
     ]
    },
    {
     "name": "stdout",
     "output_type": "stream",
     "text": [
      "0X10365E52F01510B4.avi\n"
     ]
    },
    {
     "name": "stderr",
     "output_type": "stream",
     "text": [
      "\r",
      "  1%|▋                                                                               | 26/3229 [00:21<48:43,  1.10it/s]"
     ]
    },
    {
     "name": "stdout",
     "output_type": "stream",
     "text": [
      "0X1039108E17193B1C.avi\n"
     ]
    },
    {
     "name": "stderr",
     "output_type": "stream",
     "text": [
      "\r",
      "  1%|▋                                                                               | 27/3229 [00:22<44:21,  1.20it/s]"
     ]
    },
    {
     "name": "stdout",
     "output_type": "stream",
     "text": [
      "0X1039B49145DF4F25.avi\n"
     ]
    },
    {
     "name": "stderr",
     "output_type": "stream",
     "text": [
      "\r",
      "  1%|▋                                                                               | 28/3229 [00:23<54:37,  1.02s/it]"
     ]
    },
    {
     "name": "stdout",
     "output_type": "stream",
     "text": [
      "0X103A55B2546EF36E.avi\n"
     ]
    },
    {
     "name": "stderr",
     "output_type": "stream",
     "text": [
      "\r",
      "  1%|▋                                                                               | 29/3229 [00:24<51:48,  1.03it/s]"
     ]
    },
    {
     "name": "stdout",
     "output_type": "stream",
     "text": [
      "0X103BE163257D663A.avi\n"
     ]
    },
    {
     "name": "stderr",
     "output_type": "stream",
     "text": [
      "\r",
      "  1%|▋                                                                               | 30/3229 [00:24<45:04,  1.18it/s]"
     ]
    },
    {
     "name": "stdout",
     "output_type": "stream",
     "text": [
      "0X1040C376CF369A01.avi\n"
     ]
    },
    {
     "name": "stderr",
     "output_type": "stream",
     "text": [
      "\r",
      "  1%|▊                                                                               | 31/3229 [00:25<45:34,  1.17it/s]"
     ]
    },
    {
     "name": "stdout",
     "output_type": "stream",
     "text": [
      "0X1040D64234D3E916.avi\n"
     ]
    },
    {
     "name": "stderr",
     "output_type": "stream",
     "text": [
      "\r",
      "  1%|▊                                                                               | 32/3229 [00:26<47:40,  1.12it/s]"
     ]
    },
    {
     "name": "stdout",
     "output_type": "stream",
     "text": [
      "0X1043D3D352972862.avi\n"
     ]
    },
    {
     "name": "stderr",
     "output_type": "stream",
     "text": [
      "\r",
      "  1%|▊                                                                               | 33/3229 [00:27<48:37,  1.10it/s]"
     ]
    },
    {
     "name": "stdout",
     "output_type": "stream",
     "text": [
      "0X1045F1B5A0A5EA54.avi\n"
     ]
    },
    {
     "name": "stderr",
     "output_type": "stream",
     "text": [
      "\r",
      "  1%|▊                                                                               | 34/3229 [00:29<58:17,  1.09s/it]"
     ]
    },
    {
     "name": "stdout",
     "output_type": "stream",
     "text": [
      "0X104D2C3D60AE3DE8.avi\n"
     ]
    },
    {
     "name": "stderr",
     "output_type": "stream",
     "text": [
      "\r",
      "  1%|▊                                                                               | 35/3229 [00:30<57:10,  1.07s/it]"
     ]
    },
    {
     "name": "stdout",
     "output_type": "stream",
     "text": [
      "0X105039B849CDB1CD.avi\n"
     ]
    },
    {
     "name": "stderr",
     "output_type": "stream",
     "text": [
      "\r",
      "  1%|▉                                                                               | 36/3229 [00:31<55:36,  1.04s/it]"
     ]
    },
    {
     "name": "stdout",
     "output_type": "stream",
     "text": [
      "0X10516E63208D8EA1.avi\n"
     ]
    },
    {
     "name": "stderr",
     "output_type": "stream",
     "text": [
      "\r",
      "  1%|▉                                                                               | 37/3229 [00:31<48:58,  1.09it/s]"
     ]
    },
    {
     "name": "stdout",
     "output_type": "stream",
     "text": [
      "0X1055D6B76E5D7556.avi\n",
      "0X10569E00E4DFFF7D.avi\n"
     ]
    },
    {
     "name": "stderr",
     "output_type": "stream",
     "text": [
      "\r",
      "  1%|▉                                                                               | 39/3229 [00:32<42:04,  1.26it/s]"
     ]
    },
    {
     "name": "stdout",
     "output_type": "stream",
     "text": [
      "0X1059077339EF0869.avi\n"
     ]
    },
    {
     "name": "stderr",
     "output_type": "stream",
     "text": [
      "\r",
      "  1%|▉                                                                               | 40/3229 [00:34<48:46,  1.09it/s]"
     ]
    },
    {
     "name": "stdout",
     "output_type": "stream",
     "text": [
      "0X105B9EF57DE45DCB.avi\n"
     ]
    },
    {
     "name": "stderr",
     "output_type": "stream",
     "text": [
      "\r",
      "  1%|█                                                                               | 41/3229 [00:34<45:09,  1.18it/s]"
     ]
    },
    {
     "name": "stdout",
     "output_type": "stream",
     "text": [
      "0X105CDF495F9A9A43.avi\n"
     ]
    },
    {
     "name": "stderr",
     "output_type": "stream",
     "text": [
      "\r",
      "  1%|█                                                                               | 42/3229 [00:35<44:47,  1.19it/s]"
     ]
    },
    {
     "name": "stdout",
     "output_type": "stream",
     "text": [
      "0X105D400DBDB7A1FA.avi\n"
     ]
    },
    {
     "name": "stderr",
     "output_type": "stream",
     "text": [
      "\r",
      "  1%|█                                                                               | 43/3229 [00:36<53:09,  1.00s/it]"
     ]
    },
    {
     "name": "stdout",
     "output_type": "stream",
     "text": [
      "0X105E0E36E611D657.avi\n"
     ]
    },
    {
     "name": "stderr",
     "output_type": "stream",
     "text": [
      "\r",
      "  1%|█                                                                               | 44/3229 [00:37<48:59,  1.08it/s]"
     ]
    },
    {
     "name": "stdout",
     "output_type": "stream",
     "text": [
      "0X10623D3AF96AC271.avi\n"
     ]
    },
    {
     "name": "stderr",
     "output_type": "stream",
     "text": [
      "\r",
      "  1%|█                                                                               | 45/3229 [00:38<44:58,  1.18it/s]"
     ]
    },
    {
     "name": "stdout",
     "output_type": "stream",
     "text": [
      "0X1062E316DF137FDB.avi\n"
     ]
    },
    {
     "name": "stderr",
     "output_type": "stream",
     "text": [
      "\r",
      "  1%|█▏                                                                              | 46/3229 [00:38<40:51,  1.30it/s]"
     ]
    },
    {
     "name": "stdout",
     "output_type": "stream",
     "text": [
      "0X10648BFB1458861.avi\n"
     ]
    },
    {
     "name": "stderr",
     "output_type": "stream",
     "text": [
      "\r",
      "  1%|█▏                                                                              | 47/3229 [00:39<34:34,  1.53it/s]"
     ]
    },
    {
     "name": "stdout",
     "output_type": "stream",
     "text": [
      "0X106766224781FAE2.avi\n"
     ]
    },
    {
     "name": "stderr",
     "output_type": "stream",
     "text": [
      "\r",
      "  1%|█▏                                                                              | 48/3229 [00:40<39:29,  1.34it/s]"
     ]
    },
    {
     "name": "stdout",
     "output_type": "stream",
     "text": [
      "0X106A8FDB8A83534B.avi\n"
     ]
    },
    {
     "name": "stderr",
     "output_type": "stream",
     "text": [
      "\r",
      "  2%|█▏                                                                              | 49/3229 [00:40<37:53,  1.40it/s]"
     ]
    },
    {
     "name": "stdout",
     "output_type": "stream",
     "text": [
      "0X106B384BEED608E3.avi\n"
     ]
    },
    {
     "name": "stderr",
     "output_type": "stream",
     "text": [
      "\r",
      "  2%|█▏                                                                              | 50/3229 [00:41<35:21,  1.50it/s]"
     ]
    },
    {
     "name": "stdout",
     "output_type": "stream",
     "text": [
      "0X106E73F4961CC47B.avi\n"
     ]
    },
    {
     "name": "stderr",
     "output_type": "stream",
     "text": [
      "\r",
      "  2%|█▎                                                                              | 51/3229 [00:42<39:21,  1.35it/s]"
     ]
    },
    {
     "name": "stdout",
     "output_type": "stream",
     "text": [
      "0X106EA7D9DEC59EA9.avi\n"
     ]
    },
    {
     "name": "stderr",
     "output_type": "stream",
     "text": [
      "\r",
      "  2%|█▎                                                                              | 52/3229 [00:42<35:41,  1.48it/s]"
     ]
    },
    {
     "name": "stdout",
     "output_type": "stream",
     "text": [
      "0X106FE6CF624D4C8C.avi\n"
     ]
    },
    {
     "name": "stderr",
     "output_type": "stream",
     "text": [
      "\r",
      "  2%|█▎                                                                              | 53/3229 [00:43<35:40,  1.48it/s]"
     ]
    },
    {
     "name": "stdout",
     "output_type": "stream",
     "text": [
      "0X1070ABA581A9A255.avi\n"
     ]
    },
    {
     "name": "stderr",
     "output_type": "stream",
     "text": [
      "\r",
      "  2%|█▎                                                                              | 54/3229 [00:44<34:22,  1.54it/s]"
     ]
    },
    {
     "name": "stdout",
     "output_type": "stream",
     "text": [
      "0X107458C8895A9AC9.avi\n"
     ]
    },
    {
     "name": "stderr",
     "output_type": "stream",
     "text": [
      "\r",
      "  2%|█▎                                                                              | 55/3229 [00:45<37:12,  1.42it/s]"
     ]
    },
    {
     "name": "stdout",
     "output_type": "stream",
     "text": [
      "0X1082BF2A3762D881.avi\n"
     ]
    },
    {
     "name": "stderr",
     "output_type": "stream",
     "text": [
      "\r",
      "  2%|█▍                                                                              | 56/3229 [00:45<37:08,  1.42it/s]"
     ]
    },
    {
     "name": "stdout",
     "output_type": "stream",
     "text": [
      "0X1088B755BC61AF23.avi\n"
     ]
    },
    {
     "name": "stderr",
     "output_type": "stream",
     "text": [
      "\r",
      "  2%|█▍                                                                              | 57/3229 [00:46<37:01,  1.43it/s]"
     ]
    },
    {
     "name": "stdout",
     "output_type": "stream",
     "text": [
      "0X108B163EEADDDABC.avi\n"
     ]
    },
    {
     "name": "stderr",
     "output_type": "stream",
     "text": [
      "\r",
      "  2%|█▍                                                                              | 58/3229 [00:47<34:53,  1.51it/s]"
     ]
    },
    {
     "name": "stdout",
     "output_type": "stream",
     "text": [
      "0X108B4B26B48E417B.avi\n"
     ]
    },
    {
     "name": "stderr",
     "output_type": "stream",
     "text": [
      "\r",
      "  2%|█▍                                                                              | 59/3229 [00:48<44:51,  1.18it/s]"
     ]
    },
    {
     "name": "stdout",
     "output_type": "stream",
     "text": [
      "0X1093398DC18FB3B3.avi\n"
     ]
    },
    {
     "name": "stderr",
     "output_type": "stream",
     "text": [
      "\r",
      "  2%|█▍                                                                              | 60/3229 [00:48<38:32,  1.37it/s]"
     ]
    },
    {
     "name": "stdout",
     "output_type": "stream",
     "text": [
      "0X1096572D64654BBD.avi\n"
     ]
    },
    {
     "name": "stderr",
     "output_type": "stream",
     "text": [
      "\r",
      "  2%|█▌                                                                              | 61/3229 [00:49<38:04,  1.39it/s]"
     ]
    },
    {
     "name": "stdout",
     "output_type": "stream",
     "text": [
      "0X1098A9CCA66A5DD0.avi\n"
     ]
    },
    {
     "name": "stderr",
     "output_type": "stream",
     "text": [
      "\r",
      "  2%|█▌                                                                              | 62/3229 [00:50<40:11,  1.31it/s]"
     ]
    },
    {
     "name": "stdout",
     "output_type": "stream",
     "text": [
      "0X109D27B0A540F9F6.avi\n"
     ]
    },
    {
     "name": "stderr",
     "output_type": "stream",
     "text": [
      "\r",
      "  2%|█▌                                                                              | 63/3229 [00:51<45:01,  1.17it/s]"
     ]
    },
    {
     "name": "stdout",
     "output_type": "stream",
     "text": [
      "0X10A28877E97DF540.avi\n"
     ]
    },
    {
     "name": "stderr",
     "output_type": "stream",
     "text": [
      "\r",
      "  2%|█▌                                                                              | 64/3229 [00:52<44:34,  1.18it/s]"
     ]
    },
    {
     "name": "stdout",
     "output_type": "stream",
     "text": [
      "0X10A5FC19152B50A5.avi\n"
     ]
    },
    {
     "name": "stderr",
     "output_type": "stream",
     "text": [
      "\r",
      "  2%|█▌                                                                              | 65/3229 [00:52<40:55,  1.29it/s]"
     ]
    },
    {
     "name": "stdout",
     "output_type": "stream",
     "text": [
      "0X10A8ADB48536C3D5.avi\n"
     ]
    },
    {
     "name": "stderr",
     "output_type": "stream",
     "text": [
      "\r",
      "  2%|█▋                                                                              | 66/3229 [00:53<45:06,  1.17it/s]"
     ]
    },
    {
     "name": "stdout",
     "output_type": "stream",
     "text": [
      "0X10A9B17E26220232.avi\n"
     ]
    },
    {
     "name": "stderr",
     "output_type": "stream",
     "text": [
      "\r",
      "  2%|█▋                                                                              | 67/3229 [00:54<45:55,  1.15it/s]"
     ]
    },
    {
     "name": "stdout",
     "output_type": "stream",
     "text": [
      "0X10ABB3401FC5EC2D.avi\n"
     ]
    },
    {
     "name": "stderr",
     "output_type": "stream",
     "text": [
      "\r",
      "  2%|█▋                                                                              | 68/3229 [00:55<44:19,  1.19it/s]"
     ]
    },
    {
     "name": "stdout",
     "output_type": "stream",
     "text": [
      "0X10AD385C206C85C.avi\n"
     ]
    },
    {
     "name": "stderr",
     "output_type": "stream",
     "text": [
      "\r",
      "  2%|█▋                                                                              | 69/3229 [00:56<42:20,  1.24it/s]"
     ]
    },
    {
     "name": "stdout",
     "output_type": "stream",
     "text": [
      "0X10B04432B90E5AC2.avi\n"
     ]
    },
    {
     "name": "stderr",
     "output_type": "stream",
     "text": [
      "\r",
      "  2%|█▋                                                                              | 70/3229 [00:56<40:55,  1.29it/s]"
     ]
    },
    {
     "name": "stdout",
     "output_type": "stream",
     "text": [
      "0X10B063E16BA7BEE3.avi\n"
     ]
    },
    {
     "name": "stderr",
     "output_type": "stream",
     "text": [
      "\r",
      "  2%|█▊                                                                              | 71/3229 [00:57<35:57,  1.46it/s]"
     ]
    },
    {
     "name": "stdout",
     "output_type": "stream",
     "text": [
      "0X10B13E581B12A53C.avi\n"
     ]
    },
    {
     "name": "stderr",
     "output_type": "stream",
     "text": [
      "\r",
      "  2%|█▊                                                                              | 72/3229 [00:58<39:11,  1.34it/s]"
     ]
    },
    {
     "name": "stdout",
     "output_type": "stream",
     "text": [
      "0X10B7505562B0A702.avi\n"
     ]
    },
    {
     "name": "stderr",
     "output_type": "stream",
     "text": [
      "\r",
      "  2%|█▊                                                                              | 73/3229 [00:59<41:07,  1.28it/s]"
     ]
    },
    {
     "name": "stdout",
     "output_type": "stream",
     "text": [
      "0X10BC6AA53115AA06.avi\n"
     ]
    },
    {
     "name": "stderr",
     "output_type": "stream",
     "text": [
      "\r",
      "  2%|█▊                                                                              | 74/3229 [01:00<43:35,  1.21it/s]"
     ]
    },
    {
     "name": "stdout",
     "output_type": "stream",
     "text": [
      "0X10BD75A3203C3BB9.avi\n"
     ]
    },
    {
     "name": "stderr",
     "output_type": "stream",
     "text": [
      "\r",
      "  2%|█▊                                                                              | 75/3229 [01:01<47:24,  1.11it/s]"
     ]
    },
    {
     "name": "stdout",
     "output_type": "stream",
     "text": [
      "0X10BDFD27E27D56A9.avi\n"
     ]
    },
    {
     "name": "stderr",
     "output_type": "stream",
     "text": [
      "\r",
      "  2%|█▉                                                                              | 76/3229 [01:02<47:12,  1.11it/s]"
     ]
    },
    {
     "name": "stdout",
     "output_type": "stream",
     "text": [
      "0X10BFDDD409BA5A7A.avi\n"
     ]
    },
    {
     "name": "stderr",
     "output_type": "stream",
     "text": [
      "\r",
      "  2%|█▉                                                                              | 77/3229 [01:03<47:40,  1.10it/s]"
     ]
    },
    {
     "name": "stdout",
     "output_type": "stream",
     "text": [
      "0X10C2D4AA0721C0FB.avi\n"
     ]
    },
    {
     "name": "stderr",
     "output_type": "stream",
     "text": [
      "\r",
      "  2%|█▉                                                                              | 78/3229 [01:04<50:05,  1.05it/s]"
     ]
    },
    {
     "name": "stdout",
     "output_type": "stream",
     "text": [
      "0X10C3E084B3ABE52A.avi\n"
     ]
    },
    {
     "name": "stderr",
     "output_type": "stream",
     "text": [
      "\r",
      "  2%|█▉                                                                              | 79/3229 [01:05<49:51,  1.05it/s]"
     ]
    },
    {
     "name": "stdout",
     "output_type": "stream",
     "text": [
      "0X10C4823DD13E1869.avi\n"
     ]
    },
    {
     "name": "stderr",
     "output_type": "stream",
     "text": [
      "\r",
      "  2%|█▉                                                                              | 80/3229 [01:06<52:23,  1.00it/s]"
     ]
    },
    {
     "name": "stdout",
     "output_type": "stream",
     "text": [
      "0X10C53B6D1D01A54A.avi\n"
     ]
    },
    {
     "name": "stderr",
     "output_type": "stream",
     "text": [
      "\r",
      "  3%|██                                                                              | 81/3229 [01:07<54:09,  1.03s/it]"
     ]
    },
    {
     "name": "stdout",
     "output_type": "stream",
     "text": [
      "0X10CA19FBE6D26A71.avi\n"
     ]
    },
    {
     "name": "stderr",
     "output_type": "stream",
     "text": [
      "\r",
      "  3%|██                                                                              | 82/3229 [01:08<57:25,  1.09s/it]"
     ]
    },
    {
     "name": "stdout",
     "output_type": "stream",
     "text": [
      "0X10D11D93FB71B19C.avi\n"
     ]
    },
    {
     "name": "stderr",
     "output_type": "stream",
     "text": [
      "\r",
      "  3%|██                                                                              | 83/3229 [01:09<48:46,  1.07it/s]"
     ]
    },
    {
     "name": "stdout",
     "output_type": "stream",
     "text": [
      "0X10D1B5DDEBC0E3C8.avi\n"
     ]
    },
    {
     "name": "stderr",
     "output_type": "stream",
     "text": [
      "  3%|██▋                                                                            | 110/3229 [01:32<40:52,  1.27it/s]"
     ]
    },
    {
     "name": "stdout",
     "output_type": "stream",
     "text": [
      "0X112505A983BB4D8E.avi\n"
     ]
    },
    {
     "name": "stderr",
     "output_type": "stream",
     "text": [
      "  5%|███▌                                                                           | 148/3229 [02:11<41:01,  1.25it/s]"
     ]
    },
    {
     "name": "stdout",
     "output_type": "stream",
     "text": [
      "0X118EF5AEED2E28EC.avi\n"
     ]
    },
    {
     "name": "stderr",
     "output_type": "stream",
     "text": [
      " 18%|██████████████▌                                                                | 596/3229 [08:59<33:54,  1.29it/s]"
     ]
    },
    {
     "name": "stdout",
     "output_type": "stream",
     "text": [
      "0X17828CD670289D36.avi\n"
     ]
    },
    {
     "name": "stderr",
     "output_type": "stream",
     "text": [
      " 23%|█████████████████▊                                                             | 727/3229 [11:01<41:42,  1.00s/it]"
     ]
    },
    {
     "name": "stdout",
     "output_type": "stream",
     "text": [
      "0X1902FC225A954D67.avi\n"
     ]
    },
    {
     "name": "stderr",
     "output_type": "stream",
     "text": [
      " 31%|████████████████████████▏                                                     | 1002/3229 [15:18<38:10,  1.03s/it]"
     ]
    },
    {
     "name": "stdout",
     "output_type": "stream",
     "text": [
      "0X1C8C0CE25970C40.avi\n"
     ]
    },
    {
     "name": "stderr",
     "output_type": "stream",
     "text": [
      " 35%|███████████████████████████▏                                                  | 1125/3229 [17:09<27:40,  1.27it/s]"
     ]
    },
    {
     "name": "stdout",
     "output_type": "stream",
     "text": [
      "0X1E3989E1CA499ADC.avi\n"
     ]
    },
    {
     "name": "stderr",
     "output_type": "stream",
     "text": [
      " 49%|██████████████████████████████████████▍                                       | 1593/3229 [24:28<21:53,  1.25it/s]"
     ]
    },
    {
     "name": "stdout",
     "output_type": "stream",
     "text": [
      "0X23D7360CB2EF9A53.avi\n"
     ]
    },
    {
     "name": "stderr",
     "output_type": "stream",
     "text": [
      " 51%|███████████████████████████████████████▉                                      | 1655/3229 [25:27<22:35,  1.16it/s]"
     ]
    },
    {
     "name": "stdout",
     "output_type": "stream",
     "text": [
      "0X249FE2498B57B632.avi\n"
     ]
    },
    {
     "name": "stderr",
     "output_type": "stream",
     "text": [
      " 65%|███████████████████████████████████████████████████                           | 2112/3229 [32:41<16:44,  1.11it/s]"
     ]
    },
    {
     "name": "stdout",
     "output_type": "stream",
     "text": [
      "0X2A2C1D627826C72.avi\n"
     ]
    },
    {
     "name": "stderr",
     "output_type": "stream",
     "text": [
      " 70%|██████████████████████████████████████████████████████▎                       | 2247/3229 [34:46<15:42,  1.04it/s]"
     ]
    },
    {
     "name": "stdout",
     "output_type": "stream",
     "text": [
      "0X2BB72AFEFA5753AA.avi\n"
     ]
    },
    {
     "name": "stderr",
     "output_type": "stream",
     "text": [
      " 75%|██████████████████████████████████████████████████████████▋                   | 2432/3229 [37:43<12:10,  1.09it/s]"
     ]
    },
    {
     "name": "stdout",
     "output_type": "stream",
     "text": [
      "0X2DE58B024738E3C7.avi\n"
     ]
    },
    {
     "name": "stderr",
     "output_type": "stream",
     "text": [
      " 76%|███████████████████████████████████████████████████████████▌                  | 2466/3229 [38:19<14:30,  1.14s/it]"
     ]
    },
    {
     "name": "stdout",
     "output_type": "stream",
     "text": [
      "0X2E52102EE379C357.avi\n"
     ]
    },
    {
     "name": "stderr",
     "output_type": "stream",
     "text": [
      " 92%|████████████████████████████████████████████████████████████████████████      | 2981/3229 [46:41<03:29,  1.18it/s]"
     ]
    },
    {
     "name": "stdout",
     "output_type": "stream",
     "text": [
      "0X3402A5D3DB11938E.avi\n"
     ]
    },
    {
     "name": "stderr",
     "output_type": "stream",
     "text": [
      " 96%|███████████████████████████████████████████████████████████████████████████▏  | 3114/3229 [48:50<02:43,  1.42s/it]"
     ]
    },
    {
     "name": "stdout",
     "output_type": "stream",
     "text": [
      "0X3585426448E631FA.avi\n"
     ]
    },
    {
     "name": "stderr",
     "output_type": "stream",
     "text": [
      " 99%|█████████████████████████████████████████████████████████████████████████████▍| 3204/3229 [50:16<00:22,  1.10it/s]"
     ]
    },
    {
     "name": "stdout",
     "output_type": "stream",
     "text": [
      "0X36A70C2755257C5F.avi\n"
     ]
    },
    {
     "name": "stderr",
     "output_type": "stream",
     "text": [
      "100%|██████████████████████████████████████████████████████████████████████████████| 3229/3229 [50:38<00:00,  1.06it/s]\n",
      "  0%|                                                                                         | 0/3229 [00:00<?, ?it/s]<ipython-input-2-343783c7f63c>:29: VisibleDeprecationWarning: Creating an ndarray from ragged nested sequences (which is a list-or-tuple of lists-or-tuples-or ndarrays with different lengths or shapes) is deprecated. If you meant to do this, you must specify 'dtype=object' when creating the ndarray\n",
      "  im2 = np.array(im2)\n",
      "  1%|▉                                                                               | 37/3229 [00:36<55:33,  1.04s/it]"
     ]
    },
    {
     "name": "stdout",
     "output_type": "stream",
     "text": [
      "0X10569E00E4DFFF7D.avi\n"
     ]
    },
    {
     "name": "stderr",
     "output_type": "stream",
     "text": [
      "  3%|██▋                                                                            | 110/3229 [01:44<42:49,  1.21it/s]"
     ]
    },
    {
     "name": "stdout",
     "output_type": "stream",
     "text": [
      "0X112505A983BB4D8E.avi\n"
     ]
    },
    {
     "name": "stderr",
     "output_type": "stream",
     "text": [
      "  5%|███▌                                                                           | 148/3229 [02:25<43:29,  1.18it/s]"
     ]
    },
    {
     "name": "stdout",
     "output_type": "stream",
     "text": [
      "0X118EF5AEED2E28EC.avi\n"
     ]
    },
    {
     "name": "stderr",
     "output_type": "stream",
     "text": [
      " 18%|██████████████▌                                                                | 596/3229 [09:38<35:59,  1.22it/s]"
     ]
    },
    {
     "name": "stdout",
     "output_type": "stream",
     "text": [
      "0X17828CD670289D36.avi\n"
     ]
    },
    {
     "name": "stderr",
     "output_type": "stream",
     "text": [
      " 23%|█████████████████▊                                                             | 727/3229 [11:48<44:20,  1.06s/it]"
     ]
    },
    {
     "name": "stdout",
     "output_type": "stream",
     "text": [
      "0X1902FC225A954D67.avi\n"
     ]
    },
    {
     "name": "stderr",
     "output_type": "stream",
     "text": [
      " 31%|████████████████████████▏                                                     | 1002/3229 [16:22<41:13,  1.11s/it]"
     ]
    },
    {
     "name": "stdout",
     "output_type": "stream",
     "text": [
      "0X1C8C0CE25970C40.avi\n"
     ]
    },
    {
     "name": "stderr",
     "output_type": "stream",
     "text": [
      " 35%|███████████████████████████▏                                                  | 1125/3229 [18:21<29:39,  1.18it/s]"
     ]
    },
    {
     "name": "stdout",
     "output_type": "stream",
     "text": [
      "0X1E3989E1CA499ADC.avi\n"
     ]
    },
    {
     "name": "stderr",
     "output_type": "stream",
     "text": [
      " 49%|██████████████████████████████████████▍                                       | 1593/3229 [26:09<22:47,  1.20it/s]"
     ]
    },
    {
     "name": "stdout",
     "output_type": "stream",
     "text": [
      "0X23D7360CB2EF9A53.avi\n"
     ]
    },
    {
     "name": "stderr",
     "output_type": "stream",
     "text": [
      " 51%|███████████████████████████████████████▉                                      | 1655/3229 [27:12<23:46,  1.10it/s]"
     ]
    },
    {
     "name": "stdout",
     "output_type": "stream",
     "text": [
      "0X249FE2498B57B632.avi\n"
     ]
    },
    {
     "name": "stderr",
     "output_type": "stream",
     "text": [
      " 65%|███████████████████████████████████████████████████                           | 2112/3229 [34:50<17:44,  1.05it/s]"
     ]
    },
    {
     "name": "stdout",
     "output_type": "stream",
     "text": [
      "0X2A2C1D627826C72.avi\n"
     ]
    },
    {
     "name": "stderr",
     "output_type": "stream",
     "text": [
      " 70%|██████████████████████████████████████████████████████▎                       | 2247/3229 [37:03<16:48,  1.03s/it]"
     ]
    },
    {
     "name": "stdout",
     "output_type": "stream",
     "text": [
      "0X2BB72AFEFA5753AA.avi\n"
     ]
    },
    {
     "name": "stderr",
     "output_type": "stream",
     "text": [
      " 75%|██████████████████████████████████████████████████████████▋                   | 2432/3229 [40:12<13:02,  1.02it/s]"
     ]
    },
    {
     "name": "stdout",
     "output_type": "stream",
     "text": [
      "0X2DE58B024738E3C7.avi\n"
     ]
    },
    {
     "name": "stderr",
     "output_type": "stream",
     "text": [
      " 76%|███████████████████████████████████████████████████████████▌                  | 2466/3229 [40:50<15:30,  1.22s/it]"
     ]
    },
    {
     "name": "stdout",
     "output_type": "stream",
     "text": [
      "0X2E52102EE379C357.avi\n"
     ]
    },
    {
     "name": "stderr",
     "output_type": "stream",
     "text": [
      " 92%|████████████████████████████████████████████████████████████████████████      | 2981/3229 [49:45<03:42,  1.12it/s]"
     ]
    },
    {
     "name": "stdout",
     "output_type": "stream",
     "text": [
      "0X3402A5D3DB11938E.avi\n"
     ]
    },
    {
     "name": "stderr",
     "output_type": "stream",
     "text": [
      " 96%|███████████████████████████████████████████████████████████████████████████▏  | 3114/3229 [52:04<02:55,  1.52s/it]"
     ]
    },
    {
     "name": "stdout",
     "output_type": "stream",
     "text": [
      "0X3585426448E631FA.avi\n"
     ]
    },
    {
     "name": "stderr",
     "output_type": "stream",
     "text": [
      " 99%|█████████████████████████████████████████████████████████████████████████████▍| 3204/3229 [53:35<00:24,  1.02it/s]"
     ]
    },
    {
     "name": "stdout",
     "output_type": "stream",
     "text": [
      "0X36A70C2755257C5F.avi\n"
     ]
    },
    {
     "name": "stderr",
     "output_type": "stream",
     "text": [
      "100%|██████████████████████████████████████████████████████████████████████████████| 3229/3229 [53:59<00:00,  1.00s/it]\n",
      "  1%|▉                                                                               | 37/3229 [00:39<59:09,  1.11s/it]"
     ]
    },
    {
     "name": "stdout",
     "output_type": "stream",
     "text": [
      "0X10569E00E4DFFF7D.avi\n"
     ]
    },
    {
     "name": "stderr",
     "output_type": "stream",
     "text": [
      "  3%|██▋                                                                            | 110/3229 [01:50<45:28,  1.14it/s]"
     ]
    },
    {
     "name": "stdout",
     "output_type": "stream",
     "text": [
      "0X112505A983BB4D8E.avi\n"
     ]
    },
    {
     "name": "stderr",
     "output_type": "stream",
     "text": [
      "  5%|███▌                                                                           | 148/3229 [02:34<46:23,  1.11it/s]"
     ]
    },
    {
     "name": "stdout",
     "output_type": "stream",
     "text": [
      "0X118EF5AEED2E28EC.avi\n"
     ]
    },
    {
     "name": "stderr",
     "output_type": "stream",
     "text": [
      " 18%|██████████████▌                                                                | 596/3229 [10:14<38:14,  1.15it/s]"
     ]
    },
    {
     "name": "stdout",
     "output_type": "stream",
     "text": [
      "0X17828CD670289D36.avi\n"
     ]
    },
    {
     "name": "stderr",
     "output_type": "stream",
     "text": [
      " 23%|█████████████████▊                                                             | 727/3229 [12:31<47:02,  1.13s/it]"
     ]
    },
    {
     "name": "stdout",
     "output_type": "stream",
     "text": [
      "0X1902FC225A954D67.avi\n"
     ]
    },
    {
     "name": "stderr",
     "output_type": "stream",
     "text": [
      " 31%|████████████████████████▏                                                     | 1002/3229 [17:20<43:23,  1.17s/it]"
     ]
    },
    {
     "name": "stdout",
     "output_type": "stream",
     "text": [
      "0X1C8C0CE25970C40.avi\n"
     ]
    },
    {
     "name": "stderr",
     "output_type": "stream",
     "text": [
      " 35%|███████████████████████████▏                                                  | 1125/3229 [19:26<31:11,  1.12it/s]"
     ]
    },
    {
     "name": "stdout",
     "output_type": "stream",
     "text": [
      "0X1E3989E1CA499ADC.avi\n"
     ]
    },
    {
     "name": "stderr",
     "output_type": "stream",
     "text": [
      " 49%|██████████████████████████████████████▍                                       | 1593/3229 [27:43<24:27,  1.11it/s]"
     ]
    },
    {
     "name": "stdout",
     "output_type": "stream",
     "text": [
      "0X23D7360CB2EF9A53.avi\n"
     ]
    },
    {
     "name": "stderr",
     "output_type": "stream",
     "text": [
      " 51%|███████████████████████████████████████▉                                      | 1655/3229 [28:50<25:14,  1.04it/s]"
     ]
    },
    {
     "name": "stdout",
     "output_type": "stream",
     "text": [
      "0X249FE2498B57B632.avi\n"
     ]
    },
    {
     "name": "stderr",
     "output_type": "stream",
     "text": [
      " 65%|███████████████████████████████████████████████████                           | 2112/3229 [36:56<18:56,  1.02s/it]"
     ]
    },
    {
     "name": "stdout",
     "output_type": "stream",
     "text": [
      "0X2A2C1D627826C72.avi\n"
     ]
    },
    {
     "name": "stderr",
     "output_type": "stream",
     "text": [
      " 70%|██████████████████████████████████████████████████████▎                       | 2247/3229 [39:17<17:49,  1.09s/it]"
     ]
    },
    {
     "name": "stdout",
     "output_type": "stream",
     "text": [
      "0X2BB72AFEFA5753AA.avi\n"
     ]
    },
    {
     "name": "stderr",
     "output_type": "stream",
     "text": [
      " 75%|██████████████████████████████████████████████████████████▋                   | 2432/3229 [42:37<13:44,  1.03s/it]"
     ]
    },
    {
     "name": "stdout",
     "output_type": "stream",
     "text": [
      "0X2DE58B024738E3C7.avi\n"
     ]
    },
    {
     "name": "stderr",
     "output_type": "stream",
     "text": [
      " 76%|███████████████████████████████████████████████████████████▌                  | 2466/3229 [43:18<16:30,  1.30s/it]"
     ]
    },
    {
     "name": "stdout",
     "output_type": "stream",
     "text": [
      "0X2E52102EE379C357.avi\n"
     ]
    },
    {
     "name": "stderr",
     "output_type": "stream",
     "text": [
      " 92%|████████████████████████████████████████████████████████████████████████      | 2981/3229 [52:45<03:56,  1.05it/s]"
     ]
    },
    {
     "name": "stdout",
     "output_type": "stream",
     "text": [
      "0X3402A5D3DB11938E.avi\n"
     ]
    },
    {
     "name": "stderr",
     "output_type": "stream",
     "text": [
      " 96%|███████████████████████████████████████████████████████████████████████████▏  | 3114/3229 [55:12<03:06,  1.62s/it]"
     ]
    },
    {
     "name": "stdout",
     "output_type": "stream",
     "text": [
      "0X3585426448E631FA.avi\n"
     ]
    },
    {
     "name": "stderr",
     "output_type": "stream",
     "text": [
      " 99%|█████████████████████████████████████████████████████████████████████████████▍| 3204/3229 [56:49<00:26,  1.05s/it]"
     ]
    },
    {
     "name": "stdout",
     "output_type": "stream",
     "text": [
      "0X36A70C2755257C5F.avi\n"
     ]
    },
    {
     "name": "stderr",
     "output_type": "stream",
     "text": [
      "100%|██████████████████████████████████████████████████████████████████████████████| 3229/3229 [57:14<00:00,  1.06s/it]\n",
      "  1%|▉                                                                             | 37/3229 [00:41<1:03:04,  1.19s/it]"
     ]
    },
    {
     "name": "stdout",
     "output_type": "stream",
     "text": [
      "0X10569E00E4DFFF7D.avi\n"
     ]
    },
    {
     "name": "stderr",
     "output_type": "stream",
     "text": [
      "  3%|██▋                                                                            | 110/3229 [01:58<48:40,  1.07it/s]"
     ]
    },
    {
     "name": "stdout",
     "output_type": "stream",
     "text": [
      "0X112505A983BB4D8E.avi\n"
     ]
    },
    {
     "name": "stderr",
     "output_type": "stream",
     "text": [
      "  5%|███▌                                                                           | 148/3229 [02:44<49:31,  1.04it/s]"
     ]
    },
    {
     "name": "stdout",
     "output_type": "stream",
     "text": [
      "0X118EF5AEED2E28EC.avi\n"
     ]
    },
    {
     "name": "stderr",
     "output_type": "stream",
     "text": [
      " 18%|██████████████▌                                                                | 596/3229 [10:54<40:55,  1.07it/s]"
     ]
    },
    {
     "name": "stdout",
     "output_type": "stream",
     "text": [
      "0X17828CD670289D36.avi\n"
     ]
    },
    {
     "name": "stderr",
     "output_type": "stream",
     "text": [
      " 23%|█████████████████▊                                                             | 727/3229 [13:20<50:18,  1.21s/it]"
     ]
    },
    {
     "name": "stdout",
     "output_type": "stream",
     "text": [
      "0X1902FC225A954D67.avi\n"
     ]
    },
    {
     "name": "stderr",
     "output_type": "stream",
     "text": [
      " 31%|████████████████████████▏                                                     | 1002/3229 [18:28<45:50,  1.23s/it]"
     ]
    },
    {
     "name": "stdout",
     "output_type": "stream",
     "text": [
      "0X1C8C0CE25970C40.avi\n"
     ]
    },
    {
     "name": "stderr",
     "output_type": "stream",
     "text": [
      " 35%|███████████████████████████▏                                                  | 1125/3229 [20:42<33:14,  1.06it/s]"
     ]
    },
    {
     "name": "stdout",
     "output_type": "stream",
     "text": [
      "0X1E3989E1CA499ADC.avi\n"
     ]
    },
    {
     "name": "stderr",
     "output_type": "stream",
     "text": [
      " 49%|██████████████████████████████████████▍                                       | 1593/3229 [29:30<25:44,  1.06it/s]"
     ]
    },
    {
     "name": "stdout",
     "output_type": "stream",
     "text": [
      "0X23D7360CB2EF9A53.avi\n"
     ]
    },
    {
     "name": "stderr",
     "output_type": "stream",
     "text": [
      " 51%|███████████████████████████████████████▉                                      | 1655/3229 [30:41<26:42,  1.02s/it]"
     ]
    },
    {
     "name": "stdout",
     "output_type": "stream",
     "text": [
      "0X249FE2498B57B632.avi\n"
     ]
    },
    {
     "name": "stderr",
     "output_type": "stream",
     "text": [
      " 65%|███████████████████████████████████████████████████                           | 2112/3229 [39:18<20:09,  1.08s/it]"
     ]
    },
    {
     "name": "stdout",
     "output_type": "stream",
     "text": [
      "0X2A2C1D627826C72.avi\n"
     ]
    },
    {
     "name": "stderr",
     "output_type": "stream",
     "text": [
      " 70%|██████████████████████████████████████████████████████▎                       | 2247/3229 [41:48<18:49,  1.15s/it]"
     ]
    },
    {
     "name": "stdout",
     "output_type": "stream",
     "text": [
      "0X2BB72AFEFA5753AA.avi\n"
     ]
    },
    {
     "name": "stderr",
     "output_type": "stream",
     "text": [
      " 75%|██████████████████████████████████████████████████████████▋                   | 2432/3229 [45:20<14:42,  1.11s/it]"
     ]
    },
    {
     "name": "stdout",
     "output_type": "stream",
     "text": [
      "0X2DE58B024738E3C7.avi\n"
     ]
    },
    {
     "name": "stderr",
     "output_type": "stream",
     "text": [
      " 76%|███████████████████████████████████████████████████████████▌                  | 2466/3229 [46:04<17:32,  1.38s/it]"
     ]
    },
    {
     "name": "stdout",
     "output_type": "stream",
     "text": [
      "0X2E52102EE379C357.avi\n"
     ]
    },
    {
     "name": "stderr",
     "output_type": "stream",
     "text": [
      " 92%|████████████████████████████████████████████████████████████████████████      | 2981/3229 [56:06<04:10,  1.01s/it]"
     ]
    },
    {
     "name": "stdout",
     "output_type": "stream",
     "text": [
      "0X3402A5D3DB11938E.avi\n"
     ]
    },
    {
     "name": "stderr",
     "output_type": "stream",
     "text": [
      " 96%|███████████████████████████████████████████████████████████████████████████▏  | 3114/3229 [58:42<03:18,  1.73s/it]"
     ]
    },
    {
     "name": "stdout",
     "output_type": "stream",
     "text": [
      "0X3585426448E631FA.avi\n"
     ]
    },
    {
     "name": "stderr",
     "output_type": "stream",
     "text": [
      " 99%|███████████████████████████████████████████████████████████████████████████▍| 3204/3229 [1:00:25<00:27,  1.11s/it]"
     ]
    },
    {
     "name": "stdout",
     "output_type": "stream",
     "text": [
      "0X36A70C2755257C5F.avi\n"
     ]
    },
    {
     "name": "stderr",
     "output_type": "stream",
     "text": [
      "100%|████████████████████████████████████████████████████████████████████████████| 3229/3229 [1:00:52<00:00,  1.13s/it]\n",
      "  1%|▉                                                                             | 37/3229 [00:44<1:07:10,  1.26s/it]"
     ]
    },
    {
     "name": "stdout",
     "output_type": "stream",
     "text": [
      "0X10569E00E4DFFF7D.avi\n"
     ]
    },
    {
     "name": "stderr",
     "output_type": "stream",
     "text": [
      "  3%|██▋                                                                            | 110/3229 [02:05<51:32,  1.01it/s]"
     ]
    },
    {
     "name": "stdout",
     "output_type": "stream",
     "text": [
      "0X112505A983BB4D8E.avi\n"
     ]
    },
    {
     "name": "stderr",
     "output_type": "stream",
     "text": [
      "  5%|███▌                                                                           | 148/3229 [02:54<52:16,  1.02s/it]"
     ]
    },
    {
     "name": "stdout",
     "output_type": "stream",
     "text": [
      "0X118EF5AEED2E28EC.avi\n"
     ]
    },
    {
     "name": "stderr",
     "output_type": "stream",
     "text": [
      " 18%|██████████████▌                                                                | 596/3229 [11:36<44:29,  1.01s/it]"
     ]
    },
    {
     "name": "stdout",
     "output_type": "stream",
     "text": [
      "0X17828CD670289D36.avi\n"
     ]
    },
    {
     "name": "stderr",
     "output_type": "stream",
     "text": [
      " 23%|█████████████████▊                                                             | 727/3229 [14:12<53:41,  1.29s/it]"
     ]
    },
    {
     "name": "stdout",
     "output_type": "stream",
     "text": [
      "0X1902FC225A954D67.avi\n"
     ]
    },
    {
     "name": "stderr",
     "output_type": "stream",
     "text": [
      " 31%|████████████████████████▏                                                     | 1002/3229 [19:38<48:38,  1.31s/it]"
     ]
    },
    {
     "name": "stdout",
     "output_type": "stream",
     "text": [
      "0X1C8C0CE25970C40.avi\n"
     ]
    },
    {
     "name": "stderr",
     "output_type": "stream",
     "text": [
      " 35%|███████████████████████████▏                                                  | 1125/3229 [21:59<35:15,  1.01s/it]"
     ]
    },
    {
     "name": "stdout",
     "output_type": "stream",
     "text": [
      "0X1E3989E1CA499ADC.avi\n"
     ]
    },
    {
     "name": "stderr",
     "output_type": "stream",
     "text": [
      " 49%|██████████████████████████████████████▍                                       | 1593/3229 [31:19<27:21,  1.00s/it]"
     ]
    },
    {
     "name": "stdout",
     "output_type": "stream",
     "text": [
      "0X23D7360CB2EF9A53.avi\n"
     ]
    },
    {
     "name": "stderr",
     "output_type": "stream",
     "text": [
      " 51%|███████████████████████████████████████▉                                      | 1655/3229 [32:35<28:22,  1.08s/it]"
     ]
    },
    {
     "name": "stdout",
     "output_type": "stream",
     "text": [
      "0X249FE2498B57B632.avi\n"
     ]
    },
    {
     "name": "stderr",
     "output_type": "stream",
     "text": [
      " 65%|███████████████████████████████████████████████████                           | 2112/3229 [41:44<21:17,  1.14s/it]"
     ]
    },
    {
     "name": "stdout",
     "output_type": "stream",
     "text": [
      "0X2A2C1D627826C72.avi\n"
     ]
    },
    {
     "name": "stderr",
     "output_type": "stream",
     "text": [
      " 70%|██████████████████████████████████████████████████████▎                       | 2247/3229 [44:23<19:48,  1.21s/it]"
     ]
    },
    {
     "name": "stdout",
     "output_type": "stream",
     "text": [
      "0X2BB72AFEFA5753AA.avi\n"
     ]
    },
    {
     "name": "stderr",
     "output_type": "stream",
     "text": [
      " 75%|██████████████████████████████████████████████████████████▋                   | 2432/3229 [48:07<15:29,  1.17s/it]"
     ]
    },
    {
     "name": "stdout",
     "output_type": "stream",
     "text": [
      "0X2DE58B024738E3C7.avi\n"
     ]
    },
    {
     "name": "stderr",
     "output_type": "stream",
     "text": [
      " 76%|███████████████████████████████████████████████████████████▌                  | 2466/3229 [48:53<18:39,  1.47s/it]"
     ]
    },
    {
     "name": "stdout",
     "output_type": "stream",
     "text": [
      "0X2E52102EE379C357.avi\n"
     ]
    },
    {
     "name": "stderr",
     "output_type": "stream",
     "text": [
      " 92%|████████████████████████████████████████████████████████████████████████      | 2981/3229 [59:32<04:30,  1.09s/it]"
     ]
    },
    {
     "name": "stdout",
     "output_type": "stream",
     "text": [
      "0X3402A5D3DB11938E.avi\n"
     ]
    },
    {
     "name": "stderr",
     "output_type": "stream",
     "text": [
      " 96%|█████████████████████████████████████████████████████████████████████████▎  | 3114/3229 [1:02:19<03:32,  1.85s/it]"
     ]
    },
    {
     "name": "stdout",
     "output_type": "stream",
     "text": [
      "0X3585426448E631FA.avi\n"
     ]
    },
    {
     "name": "stderr",
     "output_type": "stream",
     "text": [
      " 99%|███████████████████████████████████████████████████████████████████████████▍| 3204/3229 [1:04:06<00:29,  1.17s/it]"
     ]
    },
    {
     "name": "stdout",
     "output_type": "stream",
     "text": [
      "0X36A70C2755257C5F.avi\n"
     ]
    },
    {
     "name": "stderr",
     "output_type": "stream",
     "text": [
      "100%|████████████████████████████████████████████████████████████████████████████| 3229/3229 [1:04:35<00:00,  1.20s/it]\n",
      "  1%|▉                                                                             | 37/3229 [00:46<1:09:48,  1.31s/it]"
     ]
    },
    {
     "name": "stdout",
     "output_type": "stream",
     "text": [
      "0X10569E00E4DFFF7D.avi\n"
     ]
    },
    {
     "name": "stderr",
     "output_type": "stream",
     "text": [
      "  3%|██▋                                                                            | 110/3229 [02:11<54:44,  1.05s/it]"
     ]
    },
    {
     "name": "stdout",
     "output_type": "stream",
     "text": [
      "0X112505A983BB4D8E.avi\n"
     ]
    },
    {
     "name": "stderr",
     "output_type": "stream",
     "text": [
      "  5%|███▌                                                                           | 148/3229 [03:01<54:28,  1.06s/it]"
     ]
    },
    {
     "name": "stdout",
     "output_type": "stream",
     "text": [
      "0X118EF5AEED2E28EC.avi\n"
     ]
    },
    {
     "name": "stderr",
     "output_type": "stream",
     "text": [
      " 18%|██████████████▌                                                                | 596/3229 [12:03<45:08,  1.03s/it]"
     ]
    },
    {
     "name": "stdout",
     "output_type": "stream",
     "text": [
      "0X17828CD670289D36.avi\n"
     ]
    },
    {
     "name": "stderr",
     "output_type": "stream",
     "text": [
      " 23%|█████████████████▊                                                             | 727/3229 [14:43<55:37,  1.33s/it]"
     ]
    },
    {
     "name": "stdout",
     "output_type": "stream",
     "text": [
      "0X1902FC225A954D67.avi\n"
     ]
    },
    {
     "name": "stderr",
     "output_type": "stream",
     "text": [
      " 31%|████████████████████████▏                                                     | 1002/3229 [20:20<50:02,  1.35s/it]"
     ]
    },
    {
     "name": "stdout",
     "output_type": "stream",
     "text": [
      "0X1C8C0CE25970C40.avi\n"
     ]
    },
    {
     "name": "stderr",
     "output_type": "stream",
     "text": [
      " 35%|███████████████████████████▏                                                  | 1125/3229 [22:47<36:20,  1.04s/it]"
     ]
    },
    {
     "name": "stdout",
     "output_type": "stream",
     "text": [
      "0X1E3989E1CA499ADC.avi\n"
     ]
    },
    {
     "name": "stderr",
     "output_type": "stream",
     "text": [
      " 49%|██████████████████████████████████████▍                                       | 1593/3229 [32:25<28:22,  1.04s/it]"
     ]
    },
    {
     "name": "stdout",
     "output_type": "stream",
     "text": [
      "0X23D7360CB2EF9A53.avi\n"
     ]
    },
    {
     "name": "stderr",
     "output_type": "stream",
     "text": [
      " 51%|███████████████████████████████████████▉                                      | 1655/3229 [33:43<29:07,  1.11s/it]"
     ]
    },
    {
     "name": "stdout",
     "output_type": "stream",
     "text": [
      "0X249FE2498B57B632.avi\n"
     ]
    },
    {
     "name": "stderr",
     "output_type": "stream",
     "text": [
      " 65%|███████████████████████████████████████████████████                           | 2112/3229 [43:07<22:04,  1.19s/it]"
     ]
    },
    {
     "name": "stdout",
     "output_type": "stream",
     "text": [
      "0X2A2C1D627826C72.avi\n"
     ]
    },
    {
     "name": "stderr",
     "output_type": "stream",
     "text": [
      " 70%|██████████████████████████████████████████████████████▎                       | 2247/3229 [45:51<20:27,  1.25s/it]"
     ]
    },
    {
     "name": "stdout",
     "output_type": "stream",
     "text": [
      "0X2BB72AFEFA5753AA.avi\n"
     ]
    },
    {
     "name": "stderr",
     "output_type": "stream",
     "text": [
      " 75%|██████████████████████████████████████████████████████████▋                   | 2432/3229 [49:43<15:53,  1.20s/it]"
     ]
    },
    {
     "name": "stdout",
     "output_type": "stream",
     "text": [
      "0X2DE58B024738E3C7.avi\n"
     ]
    },
    {
     "name": "stderr",
     "output_type": "stream",
     "text": [
      " 76%|███████████████████████████████████████████████████████████▌                  | 2466/3229 [50:30<19:31,  1.54s/it]"
     ]
    },
    {
     "name": "stdout",
     "output_type": "stream",
     "text": [
      "0X2E52102EE379C357.avi\n"
     ]
    },
    {
     "name": "stderr",
     "output_type": "stream",
     "text": [
      " 92%|██████████████████████████████████████████████████████████████████████▏     | 2981/3229 [1:01:28<04:34,  1.11s/it]"
     ]
    },
    {
     "name": "stdout",
     "output_type": "stream",
     "text": [
      "0X3402A5D3DB11938E.avi\n"
     ]
    },
    {
     "name": "stderr",
     "output_type": "stream",
     "text": [
      " 96%|█████████████████████████████████████████████████████████████████████████▎  | 3114/3229 [1:04:19<03:39,  1.91s/it]"
     ]
    },
    {
     "name": "stdout",
     "output_type": "stream",
     "text": [
      "0X3585426448E631FA.avi\n"
     ]
    },
    {
     "name": "stderr",
     "output_type": "stream",
     "text": [
      " 99%|███████████████████████████████████████████████████████████████████████████▍| 3204/3229 [1:06:11<00:30,  1.22s/it]"
     ]
    },
    {
     "name": "stdout",
     "output_type": "stream",
     "text": [
      "0X36A70C2755257C5F.avi\n"
     ]
    },
    {
     "name": "stderr",
     "output_type": "stream",
     "text": [
      "100%|████████████████████████████████████████████████████████████████████████████| 3229/3229 [1:06:41<00:00,  1.24s/it]\n"
     ]
    },
    {
     "data": {
      "text/plain": [
       "<Figure size 432x288 with 0 Axes>"
      ]
     },
     "metadata": {},
     "output_type": "display_data"
    }
   ],
   "source": [
    "for i in range(0,6):\n",
    "    script(folder,os.path.join(\"J:\\\\Strain Dilation Results\",\"Strain_Single_Script_thin_\"+str(i)),i)"
   ]
  },
  {
   "cell_type": "code",
   "execution_count": null,
   "metadata": {},
   "outputs": [],
   "source": []
  }
 ],
 "metadata": {
  "kernelspec": {
   "display_name": "Python 3",
   "language": "python",
   "name": "python3"
  },
  "language_info": {
   "codemirror_mode": {
    "name": "ipython",
    "version": 3
   },
   "file_extension": ".py",
   "mimetype": "text/x-python",
   "name": "python",
   "nbconvert_exporter": "python",
   "pygments_lexer": "ipython3",
   "version": "3.8.5"
  }
 },
 "nbformat": 4,
 "nbformat_minor": 4
}
