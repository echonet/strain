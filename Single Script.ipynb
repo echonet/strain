{
 "cells": [
  {
   "cell_type": "code",
   "execution_count": 1,
   "metadata": {},
   "outputs": [],
   "source": [
    "import cv2\n",
    "import cv2\n",
    "import numpy as np\n",
    "import math\n",
    "import typing\n",
    "import matplotlib.pyplot as plt\n",
    "import os\n",
    "import pandas as pd\n",
    "from tqdm import tqdm\n",
    "def show(frame):\n",
    "    cv2.imshow(\"test\", frame)\n",
    "    cv2.waitKey(0)\n",
    "    cv2.destroyAllWindows()\n",
    "def plot_point(frame,x,y,color=(0,255,0),radius = 0):\n",
    "    thickness = -1\n",
    "    return cv2.circle(frame, (x,y), radius, color, thickness)\n",
    "def plot_line(frame,p1,p2,color=(0,191,255)):\n",
    "    thickness = 2\n",
    "    return cv2.line(frame, (p1[0],p1[1]), (p2[0],p2[1]), color, thickness)\n",
    "\n",
    "# Gets all the contours for certain image\n",
    "  \n",
    "\n",
    "\n",
    "def loadvideo(filename: str) -> np.ndarray:\n",
    "    \"\"\"Loads a video from a file.\n",
    "\n",
    "    Args:\n",
    "        filename (str): filename of video\n",
    "\n",
    "    Returns:\n",
    "        A np.ndarray with dimensions (channels=3, frames, height, width). The\n",
    "        values will be uint8's ranging from 0 to 255.\n",
    "\n",
    "    Raises:\n",
    "        FileNotFoundError: Could not find `filename`\n",
    "        ValueError: An error occurred while reading the video\n",
    "    \"\"\"\n",
    "\n",
    "    if not os.path.exists(filename):\n",
    "        raise FileNotFoundError(filename)\n",
    "    capture = cv2.VideoCapture(filename)\n",
    "\n",
    "    frame_count = int(capture.get(cv2.CAP_PROP_FRAME_COUNT))\n",
    "    frame_width = int(capture.get(cv2.CAP_PROP_FRAME_WIDTH))\n",
    "    frame_height = int(capture.get(cv2.CAP_PROP_FRAME_HEIGHT))\n",
    "\n",
    "    v = np.zeros((frame_count, frame_height, frame_width, 3), np.uint8)\n",
    "\n",
    "    for count in range(frame_count):\n",
    "        ret, frame = capture.read()\n",
    "        if not ret:\n",
    "            raise ValueError(\"Failed to load frame #{} of {}.\".format(count, filename))\n",
    "\n",
    "        frame = cv2.cvtColor(frame, cv2.COLOR_BGR2RGB)\n",
    "        v[count] = frame\n",
    "\n",
    "    v = v.transpose((3, 0, 1, 2))\n",
    "\n",
    "    return v\n",
    "def savevideo(filename: str, array: np.ndarray, fps: typing.Union[float, int] = 1):\n",
    "    \"\"\"Saves a video to a file.\n",
    "\n",
    "    Args:\n",
    "        filename (str): filename of video\n",
    "        array (np.ndarray): video of uint8's with shape (channels=3, frames, height, width)\n",
    "        fps (float or int): frames per second\n",
    "\n",
    "    Returns:\n",
    "        None\n",
    "    \"\"\"\n",
    "\n",
    "    c, f, height, width = array.shape\n",
    "\n",
    "    if c != 3:\n",
    "        raise ValueError(\"savevideo expects array of shape (channels=3, frames, height, width), got shape ({})\".format(\", \".join(map(str, array.shape))))\n",
    "    fourcc = cv2.VideoWriter_fourcc('M', 'J', 'P', 'G')\n",
    "    out = cv2.VideoWriter(filename, fourcc, fps, (width, height))\n",
    "\n",
    "    for i in range(f):\n",
    "        out.write(array[:, i, :, :].transpose((1, 2, 0)))\n",
    "\n",
    "        \n",
    "def obtainContourPoints(img):\n",
    "  # read image\n",
    "\n",
    "  rgb = cv2.cvtColor(img, cv2.COLOR_BGR2RGB)\n",
    "\n",
    "  # set lower and upper bounds on blue color\n",
    "  lower = (200,0,0)\n",
    "  upper = (255,200,200)\n",
    "\n",
    "  # threshold and invert so hexagon is white on black background\n",
    "  thresh = cv2.inRange(rgb, lower, upper)\n",
    "  # print(thresh.shape,np.min(thresh),np.max(thresh),type(thresh))\n",
    "  # show(thresh)\n",
    "  # get contours\n",
    "  result = np.zeros_like(thresh)\n",
    "  im2, contours = cv2.findContours(thresh, cv2.RETR_EXTERNAL, cv2.CHAIN_APPROX_SIMPLE)\n",
    "  #print(im2,contours)\n",
    "  #cv2.drawContours(img, im2, -1, (0,255,0), 3)\n",
    "\n",
    "  im2 = np.array(im2)\n",
    "  index_1 = 0\n",
    "  index_2 = 0\n",
    "  for i in im2:\n",
    "    if i.shape[0]>im2[index_1].shape[0]:\n",
    "      index_1=index_2\n",
    "    index_2+=1\n",
    "  rec = cv2.minAreaRect(im2[index_1])\n",
    "  color = (0, 0, 255) \n",
    "  thickness = 2\n",
    "  box = cv2.boxPoints(rec)\n",
    "  box = np.int0(box)\n",
    "  indexes = [0,1]\n",
    "  for i in range(0,len(box)):\n",
    "    for k in range(0,len(indexes)):\n",
    "      if box[i][1]>box[indexes[k]][1] and not i in indexes:\n",
    "        indexes[k]=i\n",
    "\n",
    "  #cv2.drawContours(img,[box],0,(191,0,255),2)\n",
    "  #img = plot_line(img,box[indexes[0]],box[indexes[1]])\n",
    "  #img = plot_point(img,box[indexes[0],0],box[indexes[0],1])\n",
    "  #img = plot_point(img,box[indexes[1],0],box[indexes[1],1])\n",
    "  #cv2.rectangle(img,rec,color,thickness)\n",
    "  return img, [box[indexes[0]].tolist(),box[indexes[1]].tolist()]"
   ]
  },
  {
   "cell_type": "code",
   "execution_count": 2,
   "metadata": {},
   "outputs": [],
   "source": [
    "def obtainThreshPoints(img,iterations = 1):\n",
    "  # read image\n",
    "\n",
    "  rgb = cv2.cvtColor(img, cv2.COLOR_BGR2RGB)\n",
    "\n",
    "  # set lower and upper bounds on blue color\n",
    "  lower = (250,0,0)\n",
    "  upper = (255,200,200)\n",
    "\n",
    "  # threshold and invert so hexagon is white on black background\n",
    "  thresh = cv2.inRange(rgb, lower, upper)\n",
    "  \n",
    "  #print(np.min(thresh),np.max(thresh),thresh.shape)\n",
    "\n",
    "  # show(thresh)\n",
    "  # get contours\n",
    "  result = np.zeros_like(thresh)\n",
    "  im2, contours = cv2.findContours(thresh, cv2.RETR_EXTERNAL, cv2.CHAIN_APPROX_SIMPLE)\n",
    "  thresh = cv2.dilate(thresh, None, iterations=iterations)\n",
    "  #thresh = np.array([thresh,thresh,thresh])\n",
    "  #thresh = np.transpose(thresh,(1,2,0))\n",
    "  spare = thresh\n",
    "  thresh = thresh==255\n",
    "\n",
    "  img[thresh]=[255,255,255]\n",
    "\n",
    "  #cv2.drawContours(img, im2, -1, (0,255,0), 3)\n",
    "\n",
    "  im2 = np.array(im2)\n",
    "  index_1 = 0\n",
    "  index_2 = 0\n",
    "  for i in im2:\n",
    "    if i.shape[0]>im2[index_1].shape[0]:\n",
    "      index_1=index_2\n",
    "    index_2+=1\n",
    "  rec = cv2.minAreaRect(im2[index_1])\n",
    "  color = (0, 0, 255) \n",
    "  thickness = 2\n",
    "  box = cv2.boxPoints(rec)\n",
    "  box = np.int0(box)\n",
    "  indexes = [0,1]\n",
    "  for i in range(0,len(box)):\n",
    "    for k in range(0,len(indexes)):\n",
    "      if box[i][1]>box[indexes[k]][1] and not i in indexes:\n",
    "        indexes[k]=i\n",
    "\n",
    "  # cv2.drawContours(img,[box],0,(191,0,255),2)\n",
    "  #thresh = plot_line(img,box[indexes[0]],box[indexes[1]])\n",
    "  #print(np.min(thresh),np.max(thresh),thresh.shape,type(thresh))\n",
    "  #print(np.min(img),np.max(img),img.shape,type(img))\n",
    "  #print(iterations,box[indexes[0],1],box[indexes[0],0],spare[box[indexes[0],1],box[indexes[0],0]],box[indexes[1],1],box[indexes[1],0],spare[box[indexes[1],1],box[indexes[1],0]])\n",
    "  img = plot_point(img,box[indexes[0],0],box[indexes[0],1])\n",
    "  img = plot_point(img,box[indexes[1],0],box[indexes[1],1])\n",
    "  #cv2.rectangle(img,rec,color,thickness)\n",
    "  #show(img)\n",
    "  x1 = min(box[indexes[0],1],111)\n",
    "  y1 = min(box[indexes[0],0],111)\n",
    "  x2 = min(box[indexes[1],1],111)\n",
    "  y2 = min(box[indexes[1],0],111)\n",
    "  pair = (not thresh[x1,y1]) or (not thresh[x2,y2])\n",
    "  return img,thresh, x1,y1,x2,y2, pair"
   ]
  },
  {
   "cell_type": "code",
   "execution_count": 3,
   "metadata": {},
   "outputs": [],
   "source": [
    "def no_dilation(img,iterations = 1):\n",
    "  # read image\n",
    "\n",
    "  rgb = cv2.cvtColor(img, cv2.COLOR_BGR2RGB)\n",
    "\n",
    "  # set lower and upper bounds on blue color\n",
    "  lower = (250,0,0)\n",
    "  upper = (255,200,200)\n",
    "\n",
    "  # threshold and invert so hexagon is white on black background\n",
    "  thresh = cv2.inRange(rgb, lower, upper)\n",
    "  spare = thresh\n",
    "  thresh = thresh==255\n",
    "  return thresh"
   ]
  },
  {
   "cell_type": "code",
   "execution_count": 4,
   "metadata": {},
   "outputs": [],
   "source": [
    "def midpoint(point1,point2):\n",
    "    return (point1+point2)/2\n",
    "def change(points):\n",
    "    point_arr = [points[0]]\n",
    "    for i in points[1:]:\n",
    "        point_arr.append(midpoint(point_arr[-1],i))\n",
    "    return np.array(point_arr)"
   ]
  },
  {
   "cell_type": "code",
   "execution_count": 5,
   "metadata": {},
   "outputs": [],
   "source": [
    "def get_points(vid):\n",
    "    first = np.transpose(vid,(1,2,3,0))\n",
    "    video = []\n",
    "    guess = None\n",
    "    vertexes = []\n",
    "    for frame in range(0,len(first)):\n",
    "        #print(temp.Frame==frame,frame)\n",
    "        img,points = obtainContourPoints(first[frame])\n",
    "        if np.linalg.norm(points[0])>np.linalg.norm(points[1]):\n",
    "            c = points[0].copy()\n",
    "            points[0] = points[1].copy()\n",
    "            points[1] = c\n",
    "        vertexes.append(points)\n",
    "\n",
    "        # video.append(img)\n",
    "        #show(img)\n",
    "\n",
    "    #for point in vertexes:\n",
    "    #change(np.array(vertexes))\n",
    "    ok = np.array(vertexes)\n",
    "    # print(ok.shape)\n",
    "    first_points = change(ok[:,0,:])\n",
    "    second_points = change(ok[:,1,:])\n",
    "    return first_points,second_points"
   ]
  },
  {
   "cell_type": "code",
   "execution_count": 6,
   "metadata": {},
   "outputs": [],
   "source": [
    "def get_dilation(vid,dilations = 5):\n",
    "    first = np.transpose(vid,(1,2,3,0))\n",
    "    threshes = []\n",
    "    vertexes = []\n",
    "    for frame in first:\n",
    "        pair = True\n",
    "        start = 1\n",
    "        for i in range(0,dilations):#(pair and start<50):\n",
    "            wow = frame.copy()\n",
    "            img,thresh,x1,y1,x2,y2,pair = obtainThreshPoints(wow,iterations=start)\n",
    "            start+=1\n",
    "        if dilations == 0:\n",
    "            wow = frame.copy()\n",
    "            thresh = no_dilation(wow,iterations=1)\n",
    "        threshes.append(thresh)\n",
    "    \n",
    "    return np.array(threshes)"
   ]
  },
  {
   "cell_type": "code",
   "execution_count": 7,
   "metadata": {},
   "outputs": [],
   "source": [
    "def strain_lengths(vid,threshes,first_points,second_points,filename,output_folder):\n",
    "    \n",
    "    first = np.transpose(vid,(1,2,3,0))\n",
    "    spare = first.copy()\n",
    "    thresh = threshes\n",
    "    #print(first.shape,thresh.shape)\n",
    "    filenames = []\n",
    "    frame_num = []\n",
    "    x1s = []\n",
    "    y1s = []\n",
    "    error1 = []\n",
    "    x2s = []\n",
    "    y2s = []\n",
    "    error2 = []\n",
    "    length = []\n",
    "    angle = []\n",
    "    \n",
    "    for frame in range(0,len(first)):\n",
    "        rgb = cv2.cvtColor(first[frame,:,:], cv2.COLOR_BGR2RGB)\n",
    "        t = (thresh[frame,:,:]*255).copy()\n",
    "        t = cv2.inRange(t, 250, 255)\n",
    "        # print(t.shape,np.min(t),np.max(t),type(t))\n",
    "        # show(t)\n",
    "        im2, contours = cv2.findContours(t, cv2.RETR_EXTERNAL, cv2.CHAIN_APPROX_NONE)\n",
    "        # print(shortcut,frame,shortcut.index[frame])\n",
    "        # cv2.drawContours(first[frame], im2, -1, (0,255,0), 3)\n",
    "        x1 = int(first_points[frame,0])\n",
    "        y1 = int(first_points[frame,1])\n",
    "        x2 = int(second_points[frame,0])\n",
    "        y2 = int(second_points[frame,1])\n",
    "        def calc_degrees(point):\n",
    "            return math.atan2(point[1], point[0])\n",
    "        deg = calc_degrees([x1-x2,y1-y2])\n",
    "        angle.append(deg)\n",
    "        final_point = im2[0][0][0]\n",
    "        index = 0\n",
    "        count = 0\n",
    "        for j in im2[0]:\n",
    "            count+=1\n",
    "            if np.linalg.norm(j[0]-np.array([x1,y1]))< np.linalg.norm(final_point-np.array([x1,y1])):\n",
    "                final_point = j[0]\n",
    "                index = count\n",
    "        # print(final_point,np.array([x1,y1]), np.linalg.norm(final_point-np.array([x1,y1])),index)\n",
    "        \n",
    "        final_point2 = im2[0][0][0]\n",
    "        index2 = 0\n",
    "        count2 = 0\n",
    "        for j in im2[0]:\n",
    "            count2+=1\n",
    "            if np.linalg.norm(j[0]-np.array([x2,y2]))< np.linalg.norm(final_point2-np.array([x2,y2])):\n",
    "                final_point2 = j[0]\n",
    "                index2 = count2\n",
    "        # print(final_point2,np.array([x2,y2]), np.linalg.norm(final_point2-np.array([x2,y2])),index2)\n",
    "        # plot_point(first[frame],x1,y1,color=(255,0,0))\n",
    "        # plot_point(first[frame],x2,y2,color=(255,0,0))\n",
    "        # print(im2)\n",
    "        for k in range(0,index):\n",
    "            plot_point(first[frame],im2[0][k][0][0],im2[0][k][0][1])\n",
    "        for k in range(index2,len(im2[0])):\n",
    "            plot_point(first[frame],im2[0][k][0][0],im2[0][k][0][1])\n",
    "        for k in range(index,index2):\n",
    "            plot_point(first[frame],im2[0][k][0][0],im2[0][k][0][1],color=(0,191,255))\n",
    "        plot_point(first[frame],x1,y1,color=(255,0,255),radius=1)\n",
    "        plot_point(first[frame],x2,y2,color=(255,0,255),radius=1)\n",
    "        \n",
    "        filenames.append(filename)\n",
    "        frame_num.append(frame)\n",
    "        x1s.append(final_point[0])\n",
    "        y1s.append(final_point[1])\n",
    "        error1.append(np.linalg.norm(final_point-np.array([x1,y1])))\n",
    "        x2s.append(final_point2[0])\n",
    "        y2s.append(final_point2[1])\n",
    "        error2.append(np.linalg.norm(final_point2-np.array([x2,y2])))\n",
    "        length.append(len(im2[0])-index2+index)\n",
    "    video = np.transpose(np.array(first),(3,0,1,2))\n",
    "\n",
    "    savevideo(os.path.join(output_folder,\"Strain_Videos\",filename),video,fps=30)\n",
    "    final = pd.DataFrame({\"filenames\":filenames,'frame_num':frame_num,'x1':x1s,'y1':y1s,'error_1':error1,'x2':x2s,'y2':y2s,'error_2':error2,'length':length,'angle':angle})\n",
    "    plt.clf()\n",
    "    plt.plot(frame_num,length)\n",
    "    plt.title(filename)\n",
    "    plt.xlabel(\"Frame\")\n",
    "    plt.ylabel(\"Length\")\n",
    "    plt.savefig(os.path.join(output_folder,\"Strain_Plots\",filename[:-4]+'.png'))\n",
    "    plt.clf()\n",
    "    return final"
   ]
  },
  {
   "cell_type": "code",
   "execution_count": 8,
   "metadata": {},
   "outputs": [],
   "source": [
    "def script(input_folder,output_folder,dilations):\n",
    "    try:\n",
    "        os.mkdir(output_folder)\n",
    "    except:\n",
    "        print(\"output folder exists\")\n",
    "    try:\n",
    "        os.mkdir(os.path.join(output_folder,\"Strain_Plots\"))\n",
    "        os.mkdir(os.path.join(output_folder,\"Strain_Videos\"))\n",
    "    except:\n",
    "        print(\"This folder has been used before\")\n",
    "    output = 'Dilation_5_new'\n",
    "    iter_num = []\n",
    "    df = pd.DataFrame()\n",
    "    Filenames,frame_nums,x1s,y1s,x2s,y2s = [],[],[],[],[],[]\n",
    "    for vid in tqdm(os.listdir(folder)):\n",
    "        try:\n",
    "            video_file = os.path.join(folder,vid)\n",
    "            first = loadvideo(video_file)[:,:,:,:112]\n",
    "            left,right = get_points(first)\n",
    "            thresh = get_dilation(first,dilations = dilations)\n",
    "            df = df.append(strain_lengths(first,thresh,left,right,vid,output_folder))\n",
    "        except:\n",
    "            print(vid)\n",
    "    df.to_csv(os.path.join(output_folder,\"Strain.csv\"))"
   ]
  },
  {
   "cell_type": "code",
   "execution_count": 9,
   "metadata": {},
   "outputs": [],
   "source": [
    "folder = 'C:\\\\Users\\\\TheurerJ\\\\Documents\\\\Data\\\\segmented'"
   ]
  },
  {
   "cell_type": "code",
   "execution_count": null,
   "metadata": {
    "scrolled": true
   },
   "outputs": [
    {
     "name": "stderr",
     "output_type": "stream",
     "text": [
      "\r",
      "  0%|                                                                                         | 0/3229 [00:00<?, ?it/s]"
     ]
    },
    {
     "name": "stdout",
     "output_type": "stream",
     "text": [
      "output folder exists\n",
      "This folder has been used before\n"
     ]
    },
    {
     "name": "stderr",
     "output_type": "stream",
     "text": [
      "  1%|▉                                                                               | 37/3229 [00:08<13:13,  4.03it/s]"
     ]
    },
    {
     "name": "stdout",
     "output_type": "stream",
     "text": [
      "0X10569E00E4DFFF7D.avi\n"
     ]
    },
    {
     "name": "stderr",
     "output_type": "stream",
     "text": [
      "  3%|██▋                                                                            | 110/3229 [00:25<11:46,  4.42it/s]"
     ]
    },
    {
     "name": "stdout",
     "output_type": "stream",
     "text": [
      "0X112505A983BB4D8E.avi\n"
     ]
    },
    {
     "name": "stderr",
     "output_type": "stream",
     "text": [
      "  5%|███▌                                                                           | 148/3229 [00:35<11:26,  4.49it/s]"
     ]
    },
    {
     "name": "stdout",
     "output_type": "stream",
     "text": [
      "0X118EF5AEED2E28EC.avi\n"
     ]
    },
    {
     "name": "stderr",
     "output_type": "stream",
     "text": [
      " 18%|██████████████▌                                                                | 596/3229 [02:28<10:55,  4.02it/s]"
     ]
    },
    {
     "name": "stdout",
     "output_type": "stream",
     "text": [
      "0X17828CD670289D36.avi\n"
     ]
    },
    {
     "name": "stderr",
     "output_type": "stream",
     "text": [
      " 23%|█████████████████▊                                                             | 727/3229 [03:02<10:55,  3.82it/s]"
     ]
    },
    {
     "name": "stdout",
     "output_type": "stream",
     "text": [
      "0X1902FC225A954D67.avi\n"
     ]
    },
    {
     "name": "stderr",
     "output_type": "stream",
     "text": [
      " 31%|████████████████████████▏                                                     | 1002/3229 [04:11<09:10,  4.04it/s]"
     ]
    },
    {
     "name": "stdout",
     "output_type": "stream",
     "text": [
      "0X1C8C0CE25970C40.avi\n"
     ]
    },
    {
     "name": "stderr",
     "output_type": "stream",
     "text": [
      " 35%|███████████████████████████▏                                                  | 1127/3229 [04:43<07:05,  4.94it/s]"
     ]
    },
    {
     "name": "stdout",
     "output_type": "stream",
     "text": [
      "0X1E3989E1CA499ADC.avi\n"
     ]
    },
    {
     "name": "stderr",
     "output_type": "stream",
     "text": [
      " 49%|██████████████████████████████████████▌                                       | 1595/3229 [06:50<05:52,  4.64it/s]"
     ]
    },
    {
     "name": "stdout",
     "output_type": "stream",
     "text": [
      "0X23D7360CB2EF9A53.avi\n"
     ]
    },
    {
     "name": "stderr",
     "output_type": "stream",
     "text": [
      " 51%|███████████████████████████████████████▉                                      | 1655/3229 [07:07<06:23,  4.11it/s]"
     ]
    },
    {
     "name": "stdout",
     "output_type": "stream",
     "text": [
      "0X249FE2498B57B632.avi\n"
     ]
    },
    {
     "name": "stderr",
     "output_type": "stream",
     "text": [
      " 65%|███████████████████████████████████████████████████                           | 2112/3229 [09:18<05:22,  3.46it/s]"
     ]
    },
    {
     "name": "stdout",
     "output_type": "stream",
     "text": [
      "0X2A2C1D627826C72.avi\n"
     ]
    },
    {
     "name": "stderr",
     "output_type": "stream",
     "text": [
      " 70%|██████████████████████████████████████████████████████▎                       | 2247/3229 [09:56<04:23,  3.73it/s]"
     ]
    },
    {
     "name": "stdout",
     "output_type": "stream",
     "text": [
      "0X2BB72AFEFA5753AA.avi\n"
     ]
    },
    {
     "name": "stderr",
     "output_type": "stream",
     "text": [
      " 75%|██████████████████████████████████████████████████████████▋                   | 2432/3229 [10:49<03:54,  3.40it/s]"
     ]
    },
    {
     "name": "stdout",
     "output_type": "stream",
     "text": [
      "0X2DE58B024738E3C7.avi\n"
     ]
    },
    {
     "name": "stderr",
     "output_type": "stream",
     "text": [
      " 76%|███████████████████████████████████████████████████████████▌                  | 2466/3229 [11:00<04:47,  2.65it/s]"
     ]
    },
    {
     "name": "stdout",
     "output_type": "stream",
     "text": [
      "0X2E52102EE379C357.avi\n"
     ]
    },
    {
     "name": "stderr",
     "output_type": "stream",
     "text": [
      " 92%|████████████████████████████████████████████████████████████████████████      | 2981/3229 [13:39<01:12,  3.40it/s]"
     ]
    },
    {
     "name": "stdout",
     "output_type": "stream",
     "text": [
      "0X3402A5D3DB11938E.avi\n"
     ]
    },
    {
     "name": "stderr",
     "output_type": "stream",
     "text": [
      " 96%|███████████████████████████████████████████████████████████████████████████▏  | 3114/3229 [14:21<00:44,  2.56it/s]"
     ]
    },
    {
     "name": "stdout",
     "output_type": "stream",
     "text": [
      "0X3585426448E631FA.avi\n"
     ]
    },
    {
     "name": "stderr",
     "output_type": "stream",
     "text": [
      " 99%|█████████████████████████████████████████████████████████████████████████████▍| 3204/3229 [14:50<00:09,  2.60it/s]"
     ]
    },
    {
     "name": "stdout",
     "output_type": "stream",
     "text": [
      "0X36A70C2755257C5F.avi\n"
     ]
    },
    {
     "name": "stderr",
     "output_type": "stream",
     "text": [
      "100%|██████████████████████████████████████████████████████████████████████████████| 3229/3229 [14:57<00:00,  3.60it/s]\n",
      "  1%|▉                                                                               | 37/3229 [00:35<52:37,  1.01it/s]"
     ]
    },
    {
     "name": "stdout",
     "output_type": "stream",
     "text": [
      "0X10569E00E4DFFF7D.avi\n"
     ]
    },
    {
     "name": "stderr",
     "output_type": "stream",
     "text": [
      "  3%|██▋                                                                            | 110/3229 [01:38<40:20,  1.29it/s]"
     ]
    },
    {
     "name": "stdout",
     "output_type": "stream",
     "text": [
      "0X112505A983BB4D8E.avi\n"
     ]
    },
    {
     "name": "stderr",
     "output_type": "stream",
     "text": [
      "  5%|███▌                                                                           | 148/3229 [02:16<40:35,  1.27it/s]"
     ]
    },
    {
     "name": "stdout",
     "output_type": "stream",
     "text": [
      "0X118EF5AEED2E28EC.avi\n"
     ]
    },
    {
     "name": "stderr",
     "output_type": "stream",
     "text": [
      " 18%|██████████████▌                                                                | 596/3229 [09:00<33:30,  1.31it/s]"
     ]
    },
    {
     "name": "stdout",
     "output_type": "stream",
     "text": [
      "0X17828CD670289D36.avi\n"
     ]
    },
    {
     "name": "stderr",
     "output_type": "stream",
     "text": [
      " 23%|█████████████████▊                                                             | 727/3229 [11:01<42:05,  1.01s/it]"
     ]
    },
    {
     "name": "stdout",
     "output_type": "stream",
     "text": [
      "0X1902FC225A954D67.avi\n"
     ]
    },
    {
     "name": "stderr",
     "output_type": "stream",
     "text": [
      " 31%|████████████████████████▏                                                     | 1002/3229 [15:20<38:43,  1.04s/it]"
     ]
    },
    {
     "name": "stdout",
     "output_type": "stream",
     "text": [
      "0X1C8C0CE25970C40.avi\n"
     ]
    },
    {
     "name": "stderr",
     "output_type": "stream",
     "text": [
      " 35%|███████████████████████████▏                                                  | 1125/3229 [17:16<28:41,  1.22it/s]"
     ]
    },
    {
     "name": "stdout",
     "output_type": "stream",
     "text": [
      "0X1E3989E1CA499ADC.avi\n"
     ]
    },
    {
     "name": "stderr",
     "output_type": "stream",
     "text": [
      " 49%|██████████████████████████████████████▍                                       | 1593/3229 [24:45<21:11,  1.29it/s]"
     ]
    },
    {
     "name": "stdout",
     "output_type": "stream",
     "text": [
      "0X23D7360CB2EF9A53.avi\n"
     ]
    },
    {
     "name": "stderr",
     "output_type": "stream",
     "text": [
      " 51%|███████████████████████████████████████▉                                      | 1655/3229 [25:45<22:38,  1.16it/s]"
     ]
    },
    {
     "name": "stdout",
     "output_type": "stream",
     "text": [
      "0X249FE2498B57B632.avi\n"
     ]
    },
    {
     "name": "stderr",
     "output_type": "stream",
     "text": [
      " 65%|███████████████████████████████████████████████████                           | 2112/3229 [32:59<20:48,  1.12s/it]"
     ]
    },
    {
     "name": "stdout",
     "output_type": "stream",
     "text": [
      "0X2A2C1D627826C72.avi\n"
     ]
    },
    {
     "name": "stderr",
     "output_type": "stream",
     "text": [
      " 70%|██████████████████████████████████████████████████████▎                       | 2247/3229 [35:05<15:47,  1.04it/s]"
     ]
    },
    {
     "name": "stdout",
     "output_type": "stream",
     "text": [
      "0X2BB72AFEFA5753AA.avi\n"
     ]
    },
    {
     "name": "stderr",
     "output_type": "stream",
     "text": [
      " 75%|██████████████████████████████████████████████████████████▋                   | 2432/3229 [38:04<12:18,  1.08it/s]"
     ]
    },
    {
     "name": "stdout",
     "output_type": "stream",
     "text": [
      "0X2DE58B024738E3C7.avi\n"
     ]
    },
    {
     "name": "stderr",
     "output_type": "stream",
     "text": [
      " 76%|███████████████████████████████████████████████████████████▌                  | 2466/3229 [38:41<14:48,  1.16s/it]"
     ]
    },
    {
     "name": "stdout",
     "output_type": "stream",
     "text": [
      "0X2E52102EE379C357.avi\n"
     ]
    },
    {
     "name": "stderr",
     "output_type": "stream",
     "text": [
      " 92%|████████████████████████████████████████████████████████████████████████      | 2981/3229 [46:59<03:25,  1.21it/s]"
     ]
    },
    {
     "name": "stdout",
     "output_type": "stream",
     "text": [
      "0X3402A5D3DB11938E.avi\n"
     ]
    },
    {
     "name": "stderr",
     "output_type": "stream",
     "text": [
      " 96%|███████████████████████████████████████████████████████████████████████████▏  | 3114/3229 [49:08<02:40,  1.40s/it]"
     ]
    },
    {
     "name": "stdout",
     "output_type": "stream",
     "text": [
      "0X3585426448E631FA.avi\n"
     ]
    },
    {
     "name": "stderr",
     "output_type": "stream",
     "text": [
      " 99%|█████████████████████████████████████████████████████████████████████████████▍| 3204/3229 [50:32<00:22,  1.10it/s]"
     ]
    },
    {
     "name": "stdout",
     "output_type": "stream",
     "text": [
      "0X36A70C2755257C5F.avi\n"
     ]
    },
    {
     "name": "stderr",
     "output_type": "stream",
     "text": [
      "100%|██████████████████████████████████████████████████████████████████████████████| 3229/3229 [50:54<00:00,  1.06it/s]\n",
      "  1%|▉                                                                               | 37/3229 [00:35<52:57,  1.00it/s]"
     ]
    },
    {
     "name": "stdout",
     "output_type": "stream",
     "text": [
      "0X10569E00E4DFFF7D.avi\n"
     ]
    },
    {
     "name": "stderr",
     "output_type": "stream",
     "text": [
      "  3%|██▋                                                                            | 110/3229 [01:40<42:28,  1.22it/s]"
     ]
    },
    {
     "name": "stdout",
     "output_type": "stream",
     "text": [
      "0X112505A983BB4D8E.avi\n"
     ]
    },
    {
     "name": "stderr",
     "output_type": "stream",
     "text": [
      "  5%|███▌                                                                           | 148/3229 [02:21<45:32,  1.13it/s]"
     ]
    },
    {
     "name": "stdout",
     "output_type": "stream",
     "text": [
      "0X118EF5AEED2E28EC.avi\n"
     ]
    },
    {
     "name": "stderr",
     "output_type": "stream",
     "text": [
      " 18%|██████████████▌                                                                | 596/3229 [09:48<35:45,  1.23it/s]"
     ]
    },
    {
     "name": "stdout",
     "output_type": "stream",
     "text": [
      "0X17828CD670289D36.avi\n"
     ]
    },
    {
     "name": "stderr",
     "output_type": "stream",
     "text": [
      " 23%|█████████████████▊                                                             | 727/3229 [11:57<44:45,  1.07s/it]"
     ]
    },
    {
     "name": "stdout",
     "output_type": "stream",
     "text": [
      "0X1902FC225A954D67.avi\n"
     ]
    },
    {
     "name": "stderr",
     "output_type": "stream",
     "text": [
      " 31%|████████████████████████▏                                                     | 1002/3229 [16:31<40:22,  1.09s/it]"
     ]
    },
    {
     "name": "stdout",
     "output_type": "stream",
     "text": [
      "0X1C8C0CE25970C40.avi\n"
     ]
    },
    {
     "name": "stderr",
     "output_type": "stream",
     "text": [
      " 35%|███████████████████████████▏                                                  | 1125/3229 [18:30<29:20,  1.20it/s]"
     ]
    },
    {
     "name": "stdout",
     "output_type": "stream",
     "text": [
      "0X1E3989E1CA499ADC.avi\n"
     ]
    },
    {
     "name": "stderr",
     "output_type": "stream",
     "text": [
      " 49%|██████████████████████████████████████▍                                       | 1593/3229 [26:21<23:02,  1.18it/s]"
     ]
    },
    {
     "name": "stdout",
     "output_type": "stream",
     "text": [
      "0X23D7360CB2EF9A53.avi\n"
     ]
    },
    {
     "name": "stderr",
     "output_type": "stream",
     "text": [
      " 51%|███████████████████████████████████████▉                                      | 1655/3229 [27:25<24:10,  1.09it/s]"
     ]
    },
    {
     "name": "stdout",
     "output_type": "stream",
     "text": [
      "0X249FE2498B57B632.avi\n"
     ]
    },
    {
     "name": "stderr",
     "output_type": "stream",
     "text": [
      " 65%|███████████████████████████████████████████████████                           | 2112/3229 [34:53<17:34,  1.06it/s]"
     ]
    },
    {
     "name": "stdout",
     "output_type": "stream",
     "text": [
      "0X2A2C1D627826C72.avi\n"
     ]
    },
    {
     "name": "stderr",
     "output_type": "stream",
     "text": [
      " 70%|██████████████████████████████████████████████████████▎                       | 2247/3229 [37:03<16:09,  1.01it/s]"
     ]
    },
    {
     "name": "stdout",
     "output_type": "stream",
     "text": [
      "0X2BB72AFEFA5753AA.avi\n"
     ]
    },
    {
     "name": "stderr",
     "output_type": "stream",
     "text": [
      " 75%|██████████████████████████████████████████████████████████▋                   | 2432/3229 [40:08<12:42,  1.05it/s]"
     ]
    },
    {
     "name": "stdout",
     "output_type": "stream",
     "text": [
      "0X2DE58B024738E3C7.avi\n"
     ]
    },
    {
     "name": "stderr",
     "output_type": "stream",
     "text": [
      " 76%|███████████████████████████████████████████████████████████▌                  | 2466/3229 [40:46<15:10,  1.19s/it]"
     ]
    },
    {
     "name": "stdout",
     "output_type": "stream",
     "text": [
      "0X2E52102EE379C357.avi\n"
     ]
    },
    {
     "name": "stderr",
     "output_type": "stream",
     "text": [
      " 92%|████████████████████████████████████████████████████████████████████████      | 2981/3229 [50:02<04:18,  1.04s/it]"
     ]
    },
    {
     "name": "stdout",
     "output_type": "stream",
     "text": [
      "0X3402A5D3DB11938E.avi\n"
     ]
    },
    {
     "name": "stderr",
     "output_type": "stream",
     "text": [
      " 96%|███████████████████████████████████████████████████████████████████████████▏  | 3114/3229 [52:32<03:06,  1.62s/it]"
     ]
    },
    {
     "name": "stdout",
     "output_type": "stream",
     "text": [
      "0X3585426448E631FA.avi\n"
     ]
    },
    {
     "name": "stderr",
     "output_type": "stream",
     "text": [
      " 99%|█████████████████████████████████████████████████████████████████████████████▍| 3204/3229 [54:08<00:25,  1.02s/it]"
     ]
    },
    {
     "name": "stdout",
     "output_type": "stream",
     "text": [
      "0X36A70C2755257C5F.avi\n"
     ]
    },
    {
     "name": "stderr",
     "output_type": "stream",
     "text": [
      "100%|██████████████████████████████████████████████████████████████████████████████| 3229/3229 [54:33<00:00,  1.01s/it]\n",
      "  1%|▉                                                                             | 37/3229 [00:40<1:02:47,  1.18s/it]"
     ]
    },
    {
     "name": "stdout",
     "output_type": "stream",
     "text": [
      "0X10569E00E4DFFF7D.avi\n"
     ]
    },
    {
     "name": "stderr",
     "output_type": "stream",
     "text": [
      "  3%|██▋                                                                            | 110/3229 [01:52<46:00,  1.13it/s]"
     ]
    },
    {
     "name": "stdout",
     "output_type": "stream",
     "text": [
      "0X112505A983BB4D8E.avi\n"
     ]
    },
    {
     "name": "stderr",
     "output_type": "stream",
     "text": [
      "  5%|███▌                                                                           | 148/3229 [02:36<47:45,  1.08it/s]"
     ]
    },
    {
     "name": "stdout",
     "output_type": "stream",
     "text": [
      "0X118EF5AEED2E28EC.avi\n"
     ]
    },
    {
     "name": "stderr",
     "output_type": "stream",
     "text": [
      " 18%|██████████████▌                                                                | 596/3229 [10:25<39:43,  1.10it/s]"
     ]
    },
    {
     "name": "stdout",
     "output_type": "stream",
     "text": [
      "0X17828CD670289D36.avi\n"
     ]
    },
    {
     "name": "stderr",
     "output_type": "stream",
     "text": [
      " 23%|█████████████████▊                                                             | 727/3229 [12:47<48:24,  1.16s/it]"
     ]
    },
    {
     "name": "stdout",
     "output_type": "stream",
     "text": [
      "0X1902FC225A954D67.avi\n"
     ]
    },
    {
     "name": "stderr",
     "output_type": "stream",
     "text": [
      " 31%|████████████████████████▏                                                     | 1002/3229 [17:45<45:12,  1.22s/it]"
     ]
    },
    {
     "name": "stdout",
     "output_type": "stream",
     "text": [
      "0X1C8C0CE25970C40.avi\n"
     ]
    },
    {
     "name": "stderr",
     "output_type": "stream",
     "text": [
      " 35%|███████████████████████████▏                                                  | 1125/3229 [22:08<36:43,  1.05s/it]"
     ]
    },
    {
     "name": "stdout",
     "output_type": "stream",
     "text": [
      "0X1E3989E1CA499ADC.avi\n"
     ]
    },
    {
     "name": "stderr",
     "output_type": "stream",
     "text": [
      " 41%|███████████████████████████████▋                                              | 1311/3229 [26:06<34:18,  1.07s/it]"
     ]
    }
   ],
   "source": [
    "for i in range(0,6):\n",
    "    script(folder,\"Strain_Single_Script_thin_\"+str(i),i)"
   ]
  },
  {
   "cell_type": "code",
   "execution_count": null,
   "metadata": {},
   "outputs": [],
   "source": []
  }
 ],
 "metadata": {
  "kernelspec": {
   "display_name": "Python 3",
   "language": "python",
   "name": "python3"
  },
  "language_info": {
   "codemirror_mode": {
    "name": "ipython",
    "version": 3
   },
   "file_extension": ".py",
   "mimetype": "text/x-python",
   "name": "python",
   "nbconvert_exporter": "python",
   "pygments_lexer": "ipython3",
   "version": "3.8.3"
  }
 },
 "nbformat": 4,
 "nbformat_minor": 4
}
