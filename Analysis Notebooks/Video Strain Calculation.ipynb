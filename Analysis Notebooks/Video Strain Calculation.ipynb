{
 "cells": [
  {
   "cell_type": "code",
   "execution_count": 14,
   "metadata": {},
   "outputs": [],
   "source": [
    "import pandas as pd\n",
    "import os\n",
    "from matplotlib import pyplot as plt\n",
    "from tqdm import tqdm\n",
    "import numpy as np\n",
    "import scipy.signal"
   ]
  },
  {
   "cell_type": "code",
   "execution_count": 15,
   "metadata": {},
   "outputs": [
    {
     "data": {
      "text/html": [
       "<div>\n",
       "<style scoped>\n",
       "    .dataframe tbody tr th:only-of-type {\n",
       "        vertical-align: middle;\n",
       "    }\n",
       "\n",
       "    .dataframe tbody tr th {\n",
       "        vertical-align: top;\n",
       "    }\n",
       "\n",
       "    .dataframe thead th {\n",
       "        text-align: right;\n",
       "    }\n",
       "</style>\n",
       "<table border=\"1\" class=\"dataframe\">\n",
       "  <thead>\n",
       "    <tr style=\"text-align: right;\">\n",
       "      <th></th>\n",
       "      <th>Unnamed: 0</th>\n",
       "      <th>filenames</th>\n",
       "      <th>frame_num</th>\n",
       "      <th>x1</th>\n",
       "      <th>y1</th>\n",
       "      <th>error_1</th>\n",
       "      <th>x2</th>\n",
       "      <th>y2</th>\n",
       "      <th>error_2</th>\n",
       "      <th>length</th>\n",
       "      <th>angle</th>\n",
       "    </tr>\n",
       "  </thead>\n",
       "  <tbody>\n",
       "    <tr>\n",
       "      <th>0</th>\n",
       "      <td>0</td>\n",
       "      <td>0X101E654AF3FC07A8.avi</td>\n",
       "      <td>0</td>\n",
       "      <td>46</td>\n",
       "      <td>61</td>\n",
       "      <td>4.000000</td>\n",
       "      <td>75</td>\n",
       "      <td>63</td>\n",
       "      <td>2.0</td>\n",
       "      <td>112</td>\n",
       "      <td>3.141593</td>\n",
       "    </tr>\n",
       "    <tr>\n",
       "      <th>1</th>\n",
       "      <td>1</td>\n",
       "      <td>0X101E654AF3FC07A8.avi</td>\n",
       "      <td>1</td>\n",
       "      <td>50</td>\n",
       "      <td>63</td>\n",
       "      <td>2.000000</td>\n",
       "      <td>75</td>\n",
       "      <td>63</td>\n",
       "      <td>2.0</td>\n",
       "      <td>115</td>\n",
       "      <td>3.141593</td>\n",
       "    </tr>\n",
       "    <tr>\n",
       "      <th>2</th>\n",
       "      <td>2</td>\n",
       "      <td>0X101E654AF3FC07A8.avi</td>\n",
       "      <td>2</td>\n",
       "      <td>49</td>\n",
       "      <td>63</td>\n",
       "      <td>2.236068</td>\n",
       "      <td>74</td>\n",
       "      <td>63</td>\n",
       "      <td>2.0</td>\n",
       "      <td>116</td>\n",
       "      <td>3.141593</td>\n",
       "    </tr>\n",
       "    <tr>\n",
       "      <th>3</th>\n",
       "      <td>3</td>\n",
       "      <td>0X101E654AF3FC07A8.avi</td>\n",
       "      <td>3</td>\n",
       "      <td>48</td>\n",
       "      <td>62</td>\n",
       "      <td>2.236068</td>\n",
       "      <td>74</td>\n",
       "      <td>63</td>\n",
       "      <td>2.0</td>\n",
       "      <td>111</td>\n",
       "      <td>3.141593</td>\n",
       "    </tr>\n",
       "    <tr>\n",
       "      <th>4</th>\n",
       "      <td>4</td>\n",
       "      <td>0X101E654AF3FC07A8.avi</td>\n",
       "      <td>4</td>\n",
       "      <td>50</td>\n",
       "      <td>63</td>\n",
       "      <td>2.000000</td>\n",
       "      <td>73</td>\n",
       "      <td>63</td>\n",
       "      <td>2.0</td>\n",
       "      <td>116</td>\n",
       "      <td>3.141593</td>\n",
       "    </tr>\n",
       "  </tbody>\n",
       "</table>\n",
       "</div>"
      ],
      "text/plain": [
       "   Unnamed: 0               filenames  frame_num  x1  y1   error_1  x2  y2  \\\n",
       "0           0  0X101E654AF3FC07A8.avi          0  46  61  4.000000  75  63   \n",
       "1           1  0X101E654AF3FC07A8.avi          1  50  63  2.000000  75  63   \n",
       "2           2  0X101E654AF3FC07A8.avi          2  49  63  2.236068  74  63   \n",
       "3           3  0X101E654AF3FC07A8.avi          3  48  62  2.236068  74  63   \n",
       "4           4  0X101E654AF3FC07A8.avi          4  50  63  2.000000  73  63   \n",
       "\n",
       "   error_2  length     angle  \n",
       "0      2.0     112  3.141593  \n",
       "1      2.0     115  3.141593  \n",
       "2      2.0     116  3.141593  \n",
       "3      2.0     111  3.141593  \n",
       "4      2.0     116  3.141593  "
      ]
     },
     "execution_count": 15,
     "metadata": {},
     "output_type": "execute_result"
    }
   ],
   "source": [
    "strain = pd.read_csv(\"Strain_5.csv\")\n",
    "strain.head()"
   ]
  },
  {
   "cell_type": "code",
   "execution_count": 16,
   "metadata": {},
   "outputs": [
    {
     "data": {
      "text/plain": [
       "[<matplotlib.lines.Line2D at 0x299932086d0>]"
      ]
     },
     "execution_count": 16,
     "metadata": {},
     "output_type": "execute_result"
    },
    {
     "data": {
      "image/png": "[encoded data removed]",
      "text/plain": [
       "<Figure size 432x288 with 1 Axes>"
      ]
     },
     "metadata": {
      "needs_background": "light"
     },
     "output_type": "display_data"
    }
   ],
   "source": [
    "plt.plot(-strain[strain.filenames=='0X101E654AF3FC07A8.avi'].length)"
   ]
  },
  {
   "cell_type": "code",
   "execution_count": 46,
   "metadata": {},
   "outputs": [
    {
     "name": "stderr",
     "output_type": "stream",
     "text": [
      "100%|██████████████████████████████████████████████████████████████████████████████| 3198/3198 [05:51<00:00,  9.09it/s]\n"
     ]
    },
    {
     "data": {
      "image/png": "[encoded data removed]",
      "text/plain": [
       "<Figure size 432x288 with 1 Axes>"
      ]
     },
     "metadata": {
      "needs_background": "light"
     },
     "output_type": "display_data"
    }
   ],
   "source": [
    "ratios = []\n",
    "for vid in tqdm(strain.filenames.unique()):\n",
    "    plt.clf()\n",
    "    temp = strain[strain.filenames==vid].reset_index().length\n",
    "    ratios.append([])\n",
    "    plt.plot(temp)\n",
    "    x = scipy.signal.find_peaks(-temp,distance=32)[0]\n",
    "    for i in range(0,len(x)):\n",
    "        plt.scatter(x[i],temp[x[i]],color='orange')\n",
    "        if i==len(x)-1:\n",
    "            y = np.argmax(temp[x[i]:])\n",
    "        else:\n",
    "            y = np.argmax(temp[x[i]:x[i+1]])\n",
    "        plt.scatter(y+x[i],temp[y+x[i]],color='red')\n",
    "        x_val = temp[x[i]]\n",
    "        y_val = temp[y+x[i]]\n",
    "        ratios[-1].append(x_val/y_val)\n",
    "    plt.savefig(os.path.join('Ratio_Calc',vid[:-4]+'.png'))\n",
    "\n",
    "length = []\n",
    "average = []\n",
    "rang = []\n",
    "mian = []\n",
    "miax = []\n",
    "for i in ratios:\n",
    "    length.append(len(i))\n",
    "    average.append(np.mean(i))\n",
    "    rang.append(max(i)-min(i))\n",
    "    mian.append(min(i))\n",
    "    miax.append(max(i))\n",
    "plt.hist(length)\n",
    "plt.title(\"Length\")\n",
    "plt.show()\n",
    "plt.hist(average)\n",
    "plt.title(\"Mean\")\n",
    "plt.show()\n",
    "plt.hist(rang)\n",
    "plt.title(\"range\")\n",
    "plt.show()\n",
    "plt.hist(mian)\n",
    "plt.title(\"Min\")\n",
    "plt.show()\n",
    "plt.hist(miax)\n",
    "plt.title(\"Max\")\n",
    "plt.show()"
   ]
  },
  {
   "cell_type": "code",
   "execution_count": 50,
   "metadata": {},
   "outputs": [],
   "source": [
    "final_df = pd.DataFrame({\"FileName\":strain.filenames.unique(),\"Length\":length,\"Mean\":average,\"Range\":rang,\"Min\":mian,\"Max\":miax})"
   ]
  },
  {
   "cell_type": "code",
   "execution_count": 51,
   "metadata": {},
   "outputs": [
    {
     "data": {
      "text/html": [
       "<div>\n",
       "<style scoped>\n",
       "    .dataframe tbody tr th:only-of-type {\n",
       "        vertical-align: middle;\n",
       "    }\n",
       "\n",
       "    .dataframe tbody tr th {\n",
       "        vertical-align: top;\n",
       "    }\n",
       "\n",
       "    .dataframe thead th {\n",
       "        text-align: right;\n",
       "    }\n",
       "</style>\n",
       "<table border=\"1\" class=\"dataframe\">\n",
       "  <thead>\n",
       "    <tr style=\"text-align: right;\">\n",
       "      <th></th>\n",
       "      <th>FileName</th>\n",
       "      <th>Length</th>\n",
       "      <th>Mean</th>\n",
       "      <th>Range</th>\n",
       "      <th>Min</th>\n",
       "      <th>Max</th>\n",
       "    </tr>\n",
       "  </thead>\n",
       "  <tbody>\n",
       "    <tr>\n",
       "      <th>0</th>\n",
       "      <td>0X101E654AF3FC07A8.avi</td>\n",
       "      <td>4</td>\n",
       "      <td>0.751021</td>\n",
       "      <td>0.030399</td>\n",
       "      <td>0.736842</td>\n",
       "      <td>0.767241</td>\n",
       "    </tr>\n",
       "    <tr>\n",
       "      <th>1</th>\n",
       "      <td>0X10267ADF2E644E0.avi</td>\n",
       "      <td>4</td>\n",
       "      <td>0.731126</td>\n",
       "      <td>0.070681</td>\n",
       "      <td>0.684564</td>\n",
       "      <td>0.755245</td>\n",
       "    </tr>\n",
       "    <tr>\n",
       "      <th>2</th>\n",
       "      <td>0X102AE9C68B2C46DA.avi</td>\n",
       "      <td>4</td>\n",
       "      <td>0.823577</td>\n",
       "      <td>0.046473</td>\n",
       "      <td>0.801527</td>\n",
       "      <td>0.848000</td>\n",
       "    </tr>\n",
       "    <tr>\n",
       "      <th>3</th>\n",
       "      <td>0X102C51641C321436.avi</td>\n",
       "      <td>4</td>\n",
       "      <td>0.848342</td>\n",
       "      <td>0.064123</td>\n",
       "      <td>0.809211</td>\n",
       "      <td>0.873333</td>\n",
       "    </tr>\n",
       "    <tr>\n",
       "      <th>4</th>\n",
       "      <td>0X102CFB07F752AAE6.avi</td>\n",
       "      <td>4</td>\n",
       "      <td>0.840947</td>\n",
       "      <td>0.040973</td>\n",
       "      <td>0.818182</td>\n",
       "      <td>0.859155</td>\n",
       "    </tr>\n",
       "  </tbody>\n",
       "</table>\n",
       "</div>"
      ],
      "text/plain": [
       "                 FileName  Length      Mean     Range       Min       Max\n",
       "0  0X101E654AF3FC07A8.avi       4  0.751021  0.030399  0.736842  0.767241\n",
       "1   0X10267ADF2E644E0.avi       4  0.731126  0.070681  0.684564  0.755245\n",
       "2  0X102AE9C68B2C46DA.avi       4  0.823577  0.046473  0.801527  0.848000\n",
       "3  0X102C51641C321436.avi       4  0.848342  0.064123  0.809211  0.873333\n",
       "4  0X102CFB07F752AAE6.avi       4  0.840947  0.040973  0.818182  0.859155"
      ]
     },
     "execution_count": 51,
     "metadata": {},
     "output_type": "execute_result"
    }
   ],
   "source": [
    "final_df.head()"
   ]
  },
  {
   "cell_type": "code",
   "execution_count": 60,
   "metadata": {},
   "outputs": [
    {
     "data": {
      "text/plain": [
       "(array([2.000e+00, 0.000e+00, 0.000e+00, 0.000e+00, 0.000e+00, 1.000e+00,\n",
       "        1.100e+01, 3.550e+02, 1.108e+03, 1.830e+02]),\n",
       " array([0.        , 0.09277778, 0.18555556, 0.27833333, 0.37111111,\n",
       "        0.46388889, 0.55666667, 0.64944444, 0.74222222, 0.835     ,\n",
       "        0.92777778]),\n",
       " <a list of 10 Patch objects>)"
      ]
     },
     "execution_count": 60,
     "metadata": {},
     "output_type": "execute_result"
    },
    {
     "data": {
      "image/png": "[encoded data removed]",
      "text/plain": [
       "<Figure size 432x288 with 1 Axes>"
      ]
     },
     "metadata": {
      "needs_background": "light"
     },
     "output_type": "display_data"
    }
   ],
   "source": [
    "plt.hist(final_df[(final_df.Length==4) & (final_df.Range<=0.1)].Min)"
   ]
  },
  {
   "cell_type": "code",
   "execution_count": 61,
   "metadata": {},
   "outputs": [
    {
     "data": {
      "text/html": [
       "<div>\n",
       "<style scoped>\n",
       "    .dataframe tbody tr th:only-of-type {\n",
       "        vertical-align: middle;\n",
       "    }\n",
       "\n",
       "    .dataframe tbody tr th {\n",
       "        vertical-align: top;\n",
       "    }\n",
       "\n",
       "    .dataframe thead th {\n",
       "        text-align: right;\n",
       "    }\n",
       "</style>\n",
       "<table border=\"1\" class=\"dataframe\">\n",
       "  <thead>\n",
       "    <tr style=\"text-align: right;\">\n",
       "      <th></th>\n",
       "      <th>FileName</th>\n",
       "      <th>Length</th>\n",
       "      <th>Mean</th>\n",
       "      <th>Range</th>\n",
       "      <th>Min</th>\n",
       "      <th>Max</th>\n",
       "    </tr>\n",
       "  </thead>\n",
       "  <tbody>\n",
       "    <tr>\n",
       "      <th>6</th>\n",
       "      <td>0X102E453603FA1440.avi</td>\n",
       "      <td>5</td>\n",
       "      <td>0.660465</td>\n",
       "      <td>0.810006</td>\n",
       "      <td>0.137363</td>\n",
       "      <td>0.947368</td>\n",
       "    </tr>\n",
       "    <tr>\n",
       "      <th>8</th>\n",
       "      <td>0X102F3D4CD5E10801.avi</td>\n",
       "      <td>4</td>\n",
       "      <td>0.631169</td>\n",
       "      <td>0.815068</td>\n",
       "      <td>0.054795</td>\n",
       "      <td>0.869863</td>\n",
       "    </tr>\n",
       "    <tr>\n",
       "      <th>12</th>\n",
       "      <td>0X103A55B2546EF36E.avi</td>\n",
       "      <td>8</td>\n",
       "      <td>0.681687</td>\n",
       "      <td>0.931298</td>\n",
       "      <td>0.000000</td>\n",
       "      <td>0.931298</td>\n",
       "    </tr>\n",
       "    <tr>\n",
       "      <th>27</th>\n",
       "      <td>0X10623D3AF96AC271.avi</td>\n",
       "      <td>3</td>\n",
       "      <td>0.351121</td>\n",
       "      <td>0.133396</td>\n",
       "      <td>0.285106</td>\n",
       "      <td>0.418502</td>\n",
       "    </tr>\n",
       "    <tr>\n",
       "      <th>31</th>\n",
       "      <td>0X106A8FDB8A83534B.avi</td>\n",
       "      <td>5</td>\n",
       "      <td>0.702896</td>\n",
       "      <td>0.604394</td>\n",
       "      <td>0.314961</td>\n",
       "      <td>0.919355</td>\n",
       "    </tr>\n",
       "    <tr>\n",
       "      <th>...</th>\n",
       "      <td>...</td>\n",
       "      <td>...</td>\n",
       "      <td>...</td>\n",
       "      <td>...</td>\n",
       "      <td>...</td>\n",
       "      <td>...</td>\n",
       "    </tr>\n",
       "    <tr>\n",
       "      <th>3100</th>\n",
       "      <td>0X35B6193459F647D0.avi</td>\n",
       "      <td>4</td>\n",
       "      <td>0.694273</td>\n",
       "      <td>0.451089</td>\n",
       "      <td>0.363014</td>\n",
       "      <td>0.814103</td>\n",
       "    </tr>\n",
       "    <tr>\n",
       "      <th>3113</th>\n",
       "      <td>0X35FEF9072E3537BB.avi</td>\n",
       "      <td>5</td>\n",
       "      <td>0.729005</td>\n",
       "      <td>0.596432</td>\n",
       "      <td>0.310976</td>\n",
       "      <td>0.907407</td>\n",
       "    </tr>\n",
       "    <tr>\n",
       "      <th>3162</th>\n",
       "      <td>0X368E8CE3FB0A3F96.avi</td>\n",
       "      <td>3</td>\n",
       "      <td>0.064062</td>\n",
       "      <td>0.026316</td>\n",
       "      <td>0.052632</td>\n",
       "      <td>0.078947</td>\n",
       "    </tr>\n",
       "    <tr>\n",
       "      <th>3166</th>\n",
       "      <td>0X3693781992586497.avi</td>\n",
       "      <td>2</td>\n",
       "      <td>0.313876</td>\n",
       "      <td>0.017917</td>\n",
       "      <td>0.304918</td>\n",
       "      <td>0.322835</td>\n",
       "    </tr>\n",
       "    <tr>\n",
       "      <th>3168</th>\n",
       "      <td>0X3694A8837AC5F707.avi</td>\n",
       "      <td>4</td>\n",
       "      <td>0.525363</td>\n",
       "      <td>0.676329</td>\n",
       "      <td>0.055556</td>\n",
       "      <td>0.731884</td>\n",
       "    </tr>\n",
       "  </tbody>\n",
       "</table>\n",
       "<p>220 rows × 6 columns</p>\n",
       "</div>"
      ],
      "text/plain": [
       "                    FileName  Length      Mean     Range       Min       Max\n",
       "6     0X102E453603FA1440.avi       5  0.660465  0.810006  0.137363  0.947368\n",
       "8     0X102F3D4CD5E10801.avi       4  0.631169  0.815068  0.054795  0.869863\n",
       "12    0X103A55B2546EF36E.avi       8  0.681687  0.931298  0.000000  0.931298\n",
       "27    0X10623D3AF96AC271.avi       3  0.351121  0.133396  0.285106  0.418502\n",
       "31    0X106A8FDB8A83534B.avi       5  0.702896  0.604394  0.314961  0.919355\n",
       "...                      ...     ...       ...       ...       ...       ...\n",
       "3100  0X35B6193459F647D0.avi       4  0.694273  0.451089  0.363014  0.814103\n",
       "3113  0X35FEF9072E3537BB.avi       5  0.729005  0.596432  0.310976  0.907407\n",
       "3162  0X368E8CE3FB0A3F96.avi       3  0.064062  0.026316  0.052632  0.078947\n",
       "3166  0X3693781992586497.avi       2  0.313876  0.017917  0.304918  0.322835\n",
       "3168  0X3694A8837AC5F707.avi       4  0.525363  0.676329  0.055556  0.731884\n",
       "\n",
       "[220 rows x 6 columns]"
      ]
     },
     "execution_count": 61,
     "metadata": {},
     "output_type": "execute_result"
    }
   ],
   "source": [
    "final_df[final_df.Min<.5]"
   ]
  },
  {
   "cell_type": "code",
   "execution_count": null,
   "metadata": {},
   "outputs": [],
   "source": []
  }
 ],
 "metadata": {
  "kernelspec": {
   "display_name": "Python 3",
   "language": "python",
   "name": "python3"
  },
  "language_info": {
   "codemirror_mode": {
    "name": "ipython",
    "version": 3
   },
   "file_extension": ".py",
   "mimetype": "text/x-python",
   "name": "python",
   "nbconvert_exporter": "python",
   "pygments_lexer": "ipython3",
   "version": "3.8.5"
  }
 },
 "nbformat": 4,
 "nbformat_minor": 4
}
