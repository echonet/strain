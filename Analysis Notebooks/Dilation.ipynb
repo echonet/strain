{
 "cells": [
  {
   "cell_type": "code",
   "execution_count": 1,
   "metadata": {},
   "outputs": [],
   "source": [
    "import cv2"
   ]
  },
  {
   "cell_type": "code",
   "execution_count": 2,
   "metadata": {},
   "outputs": [],
   "source": [
    "import cv2\n",
    "import numpy as np\n",
    "import math\n",
    "import typing\n",
    "import os\n",
    "def show(frame):\n",
    "    cv2.imshow(\"test\", frame)\n",
    "    cv2.waitKey(0)\n",
    "    cv2.destroyAllWindows()\n",
    "def plot_point(frame,x,y,color=(0,255,0)):\n",
    "    radius = 2\n",
    "    thickness = -1\n",
    "    #print(np.min(frame),np.max(frame),frame.shape,type(frame))\n",
    "    return cv2.circle(frame, (x,y), radius, color, thickness)\n",
    "def plot_line(frame,p1,p2,color=(0,191,255)):\n",
    "    thickness = 2\n",
    "    return cv2.line(frame, (p1[0],p1[1]), (p2[0],p2[1]), color, thickness)\n",
    "def getIdealPointGroup(points):\n",
    "  pointGroups = []\n",
    "  index = 0\n",
    "  subgroup = [points[0]]\n",
    "\n",
    "  for i in range(len(points) - 1):\n",
    "    prevPoint = points[i]\n",
    "    currentPoint = points[i+1]\n",
    "\n",
    "    if (abs(int(prevPoint[0])-int(currentPoint[0])) <= 1) and (abs(int(prevPoint[1])-int(currentPoint[1])) <= 1):\n",
    "      subgroup.append(currentPoint)\n",
    "    else:\n",
    "      pointGroups.append(subgroup[:])\n",
    "      subgroup = [currentPoint]\n",
    "\n",
    "  pointGroups.append(subgroup)\n",
    "\n",
    "  mainPointGroup = []\n",
    "  maxPointGroupSize = 0\n",
    "\n",
    "  for group in pointGroups:\n",
    "    if len(group) > maxPointGroupSize:\n",
    "      maxPointGroup = group\n",
    "      maxPointGroupSize = len(group)\n",
    "\n",
    "  return maxPointGroup\n",
    "\n",
    "# Gets all the contours for certain image\n",
    "  \n",
    "\n",
    "def get_bottom_left(points,img,index = None):\n",
    "  if not index is None:\n",
    "    i = int(index*len(points))\n",
    "    return points[i], index \n",
    "  max_y = len(img[0])\n",
    "  index = 0\n",
    "  dist = 100000\n",
    "  count = 0\n",
    "  for i in points:\n",
    "    if (i[0])**2+(max_y-i[1])**2<dist:\n",
    "      index = count\n",
    "      dist = (i[0])**2+(max_y-i[1])**2\n",
    "    count+=1\n",
    "  return points[index],index/len(points)\n",
    "\n",
    "def loadvideo(filename: str) -> np.ndarray:\n",
    "    \"\"\"Loads a video from a file.\n",
    "\n",
    "    Args:\n",
    "        filename (str): filename of video\n",
    "\n",
    "    Returns:\n",
    "        A np.ndarray with dimensions (channels=3, frames, height, width). The\n",
    "        values will be uint8's ranging from 0 to 255.\n",
    "\n",
    "    Raises:\n",
    "        FileNotFoundError: Could not find `filename`\n",
    "        ValueError: An error occurred while reading the video\n",
    "    \"\"\"\n",
    "\n",
    "    if not os.path.exists(filename):\n",
    "        raise FileNotFoundError(filename)\n",
    "    capture = cv2.VideoCapture(filename)\n",
    "\n",
    "    frame_count = int(capture.get(cv2.CAP_PROP_FRAME_COUNT))\n",
    "    frame_width = 224#int(capture.get(cv2.CAP_PROP_FRAME_WIDTH))\n",
    "    frame_height = int(capture.get(cv2.CAP_PROP_FRAME_HEIGHT))\n",
    "\n",
    "    v = np.zeros((frame_count, frame_height,frame_width, 3), np.uint8)\n",
    "\n",
    "    for count in range(frame_count):\n",
    "        ret, frame = capture.read()\n",
    "        if not ret:\n",
    "            raise ValueError(\"Failed to load frame #{} of {}.\".format(count, filename))\n",
    "\n",
    "        frame = cv2.cvtColor(frame, cv2.COLOR_BGR2RGB)\n",
    "        v[count] = frame\n",
    "\n",
    "    v = v.transpose((3, 0, 1, 2))\n",
    "\n",
    "    return v\n",
    "def savevideo(filename: str, array: np.ndarray, fps: typing.Union[float, int] = 1):\n",
    "    \"\"\"Saves a video to a file.\n",
    "\n",
    "    Args:\n",
    "        filename (str): filename of video\n",
    "        array (np.ndarray): video of uint8's with shape (channels=3, frames, height, width)\n",
    "        fps (float or int): frames per second\n",
    "\n",
    "    Returns:\n",
    "        None\n",
    "    \"\"\"\n",
    "\n",
    "    c, f, height, width = array.shape\n",
    "\n",
    "    if c != 3:\n",
    "        raise ValueError(\"savevideo expects array of shape (channels=3, frames, height, width), got shape ({})\".format(\", \".join(map(str, array.shape))))\n",
    "    fourcc = cv2.VideoWriter_fourcc('M', 'J', 'P', 'G')\n",
    "    out = cv2.VideoWriter(filename, fourcc, fps, (width, height))\n",
    "\n",
    "    for i in range(f):\n",
    "        out.write(array[:, i, :, :].transpose((1, 2, 0)))\n",
    "\n",
    "        \n",
    "def obtainContourPoints(img,iterations = 1):\n",
    "  # read image\n",
    "\n",
    "  rgb = cv2.cvtColor(img, cv2.COLOR_BGR2RGB)\n",
    "\n",
    "  # set lower and upper bounds on blue color\n",
    "  lower = (250,0,0)\n",
    "  upper = (255,200,200)\n",
    "\n",
    "  # threshold and invert so hexagon is white on black background\n",
    "  thresh = cv2.inRange(rgb, lower, upper)\n",
    "  \n",
    "  #print(np.min(thresh),np.max(thresh),thresh.shape)\n",
    "\n",
    "  # show(thresh)\n",
    "  # get contours\n",
    "  result = np.zeros_like(thresh)\n",
    "  im2, contours = cv2.findContours(thresh, cv2.RETR_EXTERNAL, cv2.CHAIN_APPROX_SIMPLE)\n",
    "  thresh = cv2.dilate(thresh, None, iterations=iterations)\n",
    "  #thresh = np.array([thresh,thresh,thresh])\n",
    "  #thresh = np.transpose(thresh,(1,2,0))\n",
    "  spare = thresh\n",
    "  thresh = thresh==255\n",
    "\n",
    "  img[thresh]=[255,255,255]\n",
    "\n",
    "  #cv2.drawContours(img, im2, -1, (0,255,0), 3)\n",
    "\n",
    "  im2 = np.array(im2)\n",
    "  index_1 = 0\n",
    "  index_2 = 0\n",
    "  for i in im2:\n",
    "    if i.shape[0]>im2[index_1].shape[0]:\n",
    "      index_1=index_2\n",
    "    index_2+=1\n",
    "  rec = cv2.minAreaRect(im2[index_1])\n",
    "  color = (0, 0, 255) \n",
    "  thickness = 2\n",
    "  box = cv2.boxPoints(rec)\n",
    "  box = np.int0(box)\n",
    "  indexes = [0,1]\n",
    "  for i in range(0,len(box)):\n",
    "    for k in range(0,len(indexes)):\n",
    "      if box[i][1]>box[indexes[k]][1] and not i in indexes:\n",
    "        indexes[k]=i\n",
    "\n",
    "  # cv2.drawContours(img,[box],0,(191,0,255),2)\n",
    "  #thresh = plot_line(img,box[indexes[0]],box[indexes[1]])\n",
    "  #print(np.min(thresh),np.max(thresh),thresh.shape,type(thresh))\n",
    "  #print(np.min(img),np.max(img),img.shape,type(img))\n",
    "  #print(iterations,box[indexes[0],1],box[indexes[0],0],spare[box[indexes[0],1],box[indexes[0],0]],box[indexes[1],1],box[indexes[1],0],spare[box[indexes[1],1],box[indexes[1],0]])\n",
    "  img = plot_point(img,box[indexes[0],0],box[indexes[0],1])\n",
    "  img = plot_point(img,box[indexes[1],0],box[indexes[1],1])\n",
    "  #cv2.rectangle(img,rec,color,thickness)\n",
    "  #show(img)\n",
    "  x1 = min(box[indexes[0],1],111)\n",
    "  y1 = min(box[indexes[0],0],111)\n",
    "  x2 = min(box[indexes[1],1],111)\n",
    "  y2 = min(box[indexes[1],0],111)\n",
    "  pair = (not thresh[x1,y1]) or (not thresh[x2,y2])\n",
    "  return img,thresh, x1,y1,x2,y2, pair"
   ]
  },
  {
   "cell_type": "code",
   "execution_count": 3,
   "metadata": {},
   "outputs": [
    {
     "name": "stderr",
     "output_type": "stream",
     "text": [
      "  1%|▉                                                                               | 37/3229 [00:06<10:17,  5.17it/s]"
     ]
    },
    {
     "name": "stdout",
     "output_type": "stream",
     "text": [
      "0X10569E00E4DFFF7D.avi\n"
     ]
    },
    {
     "name": "stderr",
     "output_type": "stream",
     "text": [
      "  3%|██▋                                                                            | 112/3229 [00:20<07:18,  7.11it/s]"
     ]
    },
    {
     "name": "stdout",
     "output_type": "stream",
     "text": [
      "0X112505A983BB4D8E.avi\n"
     ]
    },
    {
     "name": "stderr",
     "output_type": "stream",
     "text": [
      "  5%|███▋                                                                           | 149/3229 [00:27<07:35,  6.76it/s]"
     ]
    },
    {
     "name": "stdout",
     "output_type": "stream",
     "text": [
      "0X118EF5AEED2E28EC.avi\n"
     ]
    },
    {
     "name": "stderr",
     "output_type": "stream",
     "text": [
      " 18%|██████████████▌                                                                | 597/3229 [01:53<06:44,  6.50it/s]"
     ]
    },
    {
     "name": "stdout",
     "output_type": "stream",
     "text": [
      "0X17828CD670289D36.avi\n"
     ]
    },
    {
     "name": "stderr",
     "output_type": "stream",
     "text": [
      " 23%|█████████████████▊                                                             | 727/3229 [02:19<09:02,  4.62it/s]"
     ]
    },
    {
     "name": "stdout",
     "output_type": "stream",
     "text": [
      "0X1902FC225A954D67.avi\n"
     ]
    },
    {
     "name": "stderr",
     "output_type": "stream",
     "text": [
      " 31%|████████████████████████▏                                                     | 1002/3229 [03:14<08:30,  4.36it/s]"
     ]
    },
    {
     "name": "stdout",
     "output_type": "stream",
     "text": [
      "0X1C8C0CE25970C40.avi\n"
     ]
    },
    {
     "name": "stderr",
     "output_type": "stream",
     "text": [
      " 35%|███████████████████████████▏                                                  | 1126/3229 [03:39<05:24,  6.48it/s]"
     ]
    },
    {
     "name": "stdout",
     "output_type": "stream",
     "text": [
      "0X1E3989E1CA499ADC.avi\n"
     ]
    },
    {
     "name": "stderr",
     "output_type": "stream",
     "text": [
      " 49%|██████████████████████████████████████▌                                       | 1595/3229 [05:15<04:07,  6.61it/s]"
     ]
    },
    {
     "name": "stdout",
     "output_type": "stream",
     "text": [
      "0X23D7360CB2EF9A53.avi\n"
     ]
    },
    {
     "name": "stderr",
     "output_type": "stream",
     "text": [
      " 51%|███████████████████████████████████████▉                                      | 1655/3229 [05:27<04:26,  5.90it/s]"
     ]
    },
    {
     "name": "stdout",
     "output_type": "stream",
     "text": [
      "0X249FE2498B57B632.avi\n"
     ]
    },
    {
     "name": "stderr",
     "output_type": "stream",
     "text": [
      " 65%|███████████████████████████████████████████████████                           | 2114/3229 [07:00<03:35,  5.18it/s]"
     ]
    },
    {
     "name": "stdout",
     "output_type": "stream",
     "text": [
      "0X2A2C1D627826C72.avi\n"
     ]
    },
    {
     "name": "stderr",
     "output_type": "stream",
     "text": [
      " 70%|██████████████████████████████████████████████████████▎                       | 2247/3229 [07:29<03:35,  4.55it/s]"
     ]
    },
    {
     "name": "stdout",
     "output_type": "stream",
     "text": [
      "0X2BB72AFEFA5753AA.avi\n"
     ]
    },
    {
     "name": "stderr",
     "output_type": "stream",
     "text": [
      " 75%|██████████████████████████████████████████████████████████▊                   | 2433/3229 [08:11<02:28,  5.36it/s]"
     ]
    },
    {
     "name": "stdout",
     "output_type": "stream",
     "text": [
      "0X2DE58B024738E3C7.avi\n"
     ]
    },
    {
     "name": "stderr",
     "output_type": "stream",
     "text": [
      " 76%|███████████████████████████████████████████████████████████▌                  | 2467/3229 [08:20<03:30,  3.62it/s]"
     ]
    },
    {
     "name": "stdout",
     "output_type": "stream",
     "text": [
      "0X2E52102EE379C357.avi\n"
     ]
    },
    {
     "name": "stderr",
     "output_type": "stream",
     "text": [
      " 92%|████████████████████████████████████████████████████████████████████████      | 2981/3229 [10:18<00:48,  5.09it/s]"
     ]
    },
    {
     "name": "stdout",
     "output_type": "stream",
     "text": [
      "0X3402A5D3DB11938E.avi\n"
     ]
    },
    {
     "name": "stderr",
     "output_type": "stream",
     "text": [
      " 96%|███████████████████████████████████████████████████████████████████████████▏  | 3115/3229 [10:49<00:35,  3.18it/s]"
     ]
    },
    {
     "name": "stdout",
     "output_type": "stream",
     "text": [
      "0X3585426448E631FA.avi\n"
     ]
    },
    {
     "name": "stderr",
     "output_type": "stream",
     "text": [
      " 99%|█████████████████████████████████████████████████████████████████████████████▍| 3204/3229 [11:09<00:05,  4.44it/s]"
     ]
    },
    {
     "name": "stdout",
     "output_type": "stream",
     "text": [
      "0X36A70C2755257C5F.avi\n"
     ]
    },
    {
     "name": "stderr",
     "output_type": "stream",
     "text": [
      "100%|██████████████████████████████████████████████████████████████████████████████| 3229/3229 [11:14<00:00,  4.78it/s]\n"
     ]
    }
   ],
   "source": [
    "key_points = []\n",
    "from tqdm import tqdm\n",
    "folder = 'C:\\\\Users\\\\TheurerJ\\\\Documents\\\\Data\\\\segmented'\n",
    "output = 'Dilation_5_new'\n",
    "iter_num = []\n",
    "Filenames,frame_nums,x1s,y1s,x2s,y2s = [],[],[],[],[],[]\n",
    "for vid in tqdm(os.listdir(folder)):\n",
    "    try:\n",
    "        video_file = os.path.join(folder,vid)\n",
    "        first = loadvideo(video_file)[:,:,:,:112]\n",
    "\n",
    "        first = np.transpose(first,(1,2,3,0))\n",
    "        video = []\n",
    "        threshes = []\n",
    "        guess = None\n",
    "        vertexes = []\n",
    "        num = 0\n",
    "        for frame in first:\n",
    "            pair = True\n",
    "            start = 1\n",
    "            for i in range(0,4):#(pair and start<50):\n",
    "                wow = frame.copy()\n",
    "                img,thresh,x1,y1,x2,y2,pair = obtainContourPoints(wow,iterations=start)\n",
    "                start+=1\n",
    "            iter_num.append(start)\n",
    "            video.append(img)\n",
    "            threshes.append(thresh)\n",
    "            #np.save(os.path.join(output,vid[:-4]+'_'+str(num)+'.npy'),thresh)\n",
    "            x1s.append(x1)\n",
    "            y1s.append(y1)\n",
    "            x2s.append(x2)\n",
    "            y2s.append(y2)\n",
    "            Filenames.append(vid)\n",
    "            frame_nums.append(num)\n",
    "            num+=1\n",
    "            \n",
    "        np.save(os.path.join(output,vid[:-4]+'.npy'),threshes)\n",
    "        video = np.transpose(np.array(video),(3,0,1,2))\n",
    "        #key_points.append(np.array(vertexes))\n",
    "        \n",
    "        savevideo(os.path.join(output,vid),video,fps=50)\n",
    "    except:\n",
    "        print(vid)\n"
   ]
  },
  {
   "cell_type": "code",
   "execution_count": 4,
   "metadata": {},
   "outputs": [],
   "source": [
    "import pandas as pd\n",
    "df = pd.DataFrame({\"FileName\":Filenames,'Frame':frame_nums,\"x1\":x1s,\"y1\":y1s,\"x2\":x2s,\"y2\":y2s,\"iter\":iter_num})"
   ]
  },
  {
   "cell_type": "code",
   "execution_count": 5,
   "metadata": {},
   "outputs": [],
   "source": [
    "df.to_csv(os.path.join(output,\"coordinates_5.csv\"))"
   ]
  },
  {
   "cell_type": "code",
   "execution_count": 6,
   "metadata": {},
   "outputs": [
    {
     "data": {
      "text/html": [
       "<div>\n",
       "<style scoped>\n",
       "    .dataframe tbody tr th:only-of-type {\n",
       "        vertical-align: middle;\n",
       "    }\n",
       "\n",
       "    .dataframe tbody tr th {\n",
       "        vertical-align: top;\n",
       "    }\n",
       "\n",
       "    .dataframe thead th {\n",
       "        text-align: right;\n",
       "    }\n",
       "</style>\n",
       "<table border=\"1\" class=\"dataframe\">\n",
       "  <thead>\n",
       "    <tr style=\"text-align: right;\">\n",
       "      <th></th>\n",
       "      <th>FileName</th>\n",
       "      <th>Frame</th>\n",
       "      <th>x1</th>\n",
       "      <th>y1</th>\n",
       "      <th>x2</th>\n",
       "      <th>y2</th>\n",
       "      <th>iter</th>\n",
       "    </tr>\n",
       "  </thead>\n",
       "  <tbody>\n",
       "    <tr>\n",
       "      <th>0</th>\n",
       "      <td>0X100009310A3BD7FC.avi</td>\n",
       "      <td>0</td>\n",
       "      <td>67</td>\n",
       "      <td>48</td>\n",
       "      <td>67</td>\n",
       "      <td>75</td>\n",
       "      <td>5</td>\n",
       "    </tr>\n",
       "    <tr>\n",
       "      <th>1</th>\n",
       "      <td>0X100009310A3BD7FC.avi</td>\n",
       "      <td>1</td>\n",
       "      <td>68</td>\n",
       "      <td>50</td>\n",
       "      <td>66</td>\n",
       "      <td>75</td>\n",
       "      <td>5</td>\n",
       "    </tr>\n",
       "    <tr>\n",
       "      <th>2</th>\n",
       "      <td>0X100009310A3BD7FC.avi</td>\n",
       "      <td>2</td>\n",
       "      <td>69</td>\n",
       "      <td>52</td>\n",
       "      <td>66</td>\n",
       "      <td>76</td>\n",
       "      <td>5</td>\n",
       "    </tr>\n",
       "    <tr>\n",
       "      <th>3</th>\n",
       "      <td>0X100009310A3BD7FC.avi</td>\n",
       "      <td>3</td>\n",
       "      <td>68</td>\n",
       "      <td>52</td>\n",
       "      <td>66</td>\n",
       "      <td>76</td>\n",
       "      <td>5</td>\n",
       "    </tr>\n",
       "    <tr>\n",
       "      <th>4</th>\n",
       "      <td>0X100009310A3BD7FC.avi</td>\n",
       "      <td>4</td>\n",
       "      <td>67</td>\n",
       "      <td>52</td>\n",
       "      <td>65</td>\n",
       "      <td>76</td>\n",
       "      <td>5</td>\n",
       "    </tr>\n",
       "    <tr>\n",
       "      <th>...</th>\n",
       "      <td>...</td>\n",
       "      <td>...</td>\n",
       "      <td>...</td>\n",
       "      <td>...</td>\n",
       "      <td>...</td>\n",
       "      <td>...</td>\n",
       "      <td>...</td>\n",
       "    </tr>\n",
       "    <tr>\n",
       "      <th>570122</th>\n",
       "      <td>0X36D558075BB74018.avi</td>\n",
       "      <td>192</td>\n",
       "      <td>70</td>\n",
       "      <td>44</td>\n",
       "      <td>66</td>\n",
       "      <td>73</td>\n",
       "      <td>5</td>\n",
       "    </tr>\n",
       "    <tr>\n",
       "      <th>570123</th>\n",
       "      <td>0X36D558075BB74018.avi</td>\n",
       "      <td>193</td>\n",
       "      <td>70</td>\n",
       "      <td>44</td>\n",
       "      <td>66</td>\n",
       "      <td>73</td>\n",
       "      <td>5</td>\n",
       "    </tr>\n",
       "    <tr>\n",
       "      <th>570124</th>\n",
       "      <td>0X36D558075BB74018.avi</td>\n",
       "      <td>194</td>\n",
       "      <td>70</td>\n",
       "      <td>44</td>\n",
       "      <td>65</td>\n",
       "      <td>73</td>\n",
       "      <td>5</td>\n",
       "    </tr>\n",
       "    <tr>\n",
       "      <th>570125</th>\n",
       "      <td>0X36D558075BB74018.avi</td>\n",
       "      <td>195</td>\n",
       "      <td>70</td>\n",
       "      <td>42</td>\n",
       "      <td>67</td>\n",
       "      <td>72</td>\n",
       "      <td>5</td>\n",
       "    </tr>\n",
       "    <tr>\n",
       "      <th>570126</th>\n",
       "      <td>0X36D558075BB74018.avi</td>\n",
       "      <td>196</td>\n",
       "      <td>71</td>\n",
       "      <td>42</td>\n",
       "      <td>68</td>\n",
       "      <td>74</td>\n",
       "      <td>5</td>\n",
       "    </tr>\n",
       "  </tbody>\n",
       "</table>\n",
       "<p>570127 rows × 7 columns</p>\n",
       "</div>"
      ],
      "text/plain": [
       "                      FileName  Frame  x1  y1  x2  y2  iter\n",
       "0       0X100009310A3BD7FC.avi      0  67  48  67  75     5\n",
       "1       0X100009310A3BD7FC.avi      1  68  50  66  75     5\n",
       "2       0X100009310A3BD7FC.avi      2  69  52  66  76     5\n",
       "3       0X100009310A3BD7FC.avi      3  68  52  66  76     5\n",
       "4       0X100009310A3BD7FC.avi      4  67  52  65  76     5\n",
       "...                        ...    ...  ..  ..  ..  ..   ...\n",
       "570122  0X36D558075BB74018.avi    192  70  44  66  73     5\n",
       "570123  0X36D558075BB74018.avi    193  70  44  66  73     5\n",
       "570124  0X36D558075BB74018.avi    194  70  44  65  73     5\n",
       "570125  0X36D558075BB74018.avi    195  70  42  67  72     5\n",
       "570126  0X36D558075BB74018.avi    196  71  42  68  74     5\n",
       "\n",
       "[570127 rows x 7 columns]"
      ]
     },
     "execution_count": 6,
     "metadata": {},
     "output_type": "execute_result"
    }
   ],
   "source": [
    "df"
   ]
  },
  {
   "cell_type": "code",
   "execution_count": 7,
   "metadata": {},
   "outputs": [
    {
     "data": {
      "text/plain": [
       "count    570127.0\n",
       "mean          5.0\n",
       "std           0.0\n",
       "min           5.0\n",
       "25%           5.0\n",
       "50%           5.0\n",
       "75%           5.0\n",
       "max           5.0\n",
       "Name: iter, dtype: float64"
      ]
     },
     "execution_count": 7,
     "metadata": {},
     "output_type": "execute_result"
    }
   ],
   "source": [
    "\n",
    "df.iter.describe()"
   ]
  },
  {
   "cell_type": "code",
   "execution_count": 3,
   "metadata": {},
   "outputs": [],
   "source": [
    "import pandas as pd\n",
    "df = pd.read_csv(\"Dilations.csv\")"
   ]
  },
  {
   "cell_type": "code",
   "execution_count": 4,
   "metadata": {},
   "outputs": [
    {
     "data": {
      "text/html": [
       "<div>\n",
       "<style scoped>\n",
       "    .dataframe tbody tr th:only-of-type {\n",
       "        vertical-align: middle;\n",
       "    }\n",
       "\n",
       "    .dataframe tbody tr th {\n",
       "        vertical-align: top;\n",
       "    }\n",
       "\n",
       "    .dataframe thead th {\n",
       "        text-align: right;\n",
       "    }\n",
       "</style>\n",
       "<table border=\"1\" class=\"dataframe\">\n",
       "  <thead>\n",
       "    <tr style=\"text-align: right;\">\n",
       "      <th></th>\n",
       "      <th>Unnamed: 0</th>\n",
       "      <th>FileName</th>\n",
       "      <th>Frame</th>\n",
       "      <th>x1</th>\n",
       "      <th>y1</th>\n",
       "      <th>x2</th>\n",
       "      <th>y2</th>\n",
       "      <th>iter</th>\n",
       "    </tr>\n",
       "  </thead>\n",
       "  <tbody>\n",
       "    <tr>\n",
       "      <th>0</th>\n",
       "      <td>0</td>\n",
       "      <td>0X100009310A3BD7FC.avi</td>\n",
       "      <td>0</td>\n",
       "      <td>67</td>\n",
       "      <td>48</td>\n",
       "      <td>67</td>\n",
       "      <td>75</td>\n",
       "      <td>3</td>\n",
       "    </tr>\n",
       "    <tr>\n",
       "      <th>1</th>\n",
       "      <td>1</td>\n",
       "      <td>0X100009310A3BD7FC.avi</td>\n",
       "      <td>1</td>\n",
       "      <td>68</td>\n",
       "      <td>50</td>\n",
       "      <td>66</td>\n",
       "      <td>75</td>\n",
       "      <td>2</td>\n",
       "    </tr>\n",
       "    <tr>\n",
       "      <th>2</th>\n",
       "      <td>2</td>\n",
       "      <td>0X100009310A3BD7FC.avi</td>\n",
       "      <td>2</td>\n",
       "      <td>69</td>\n",
       "      <td>52</td>\n",
       "      <td>66</td>\n",
       "      <td>76</td>\n",
       "      <td>3</td>\n",
       "    </tr>\n",
       "    <tr>\n",
       "      <th>3</th>\n",
       "      <td>3</td>\n",
       "      <td>0X100009310A3BD7FC.avi</td>\n",
       "      <td>3</td>\n",
       "      <td>68</td>\n",
       "      <td>52</td>\n",
       "      <td>66</td>\n",
       "      <td>76</td>\n",
       "      <td>2</td>\n",
       "    </tr>\n",
       "    <tr>\n",
       "      <th>4</th>\n",
       "      <td>4</td>\n",
       "      <td>0X100009310A3BD7FC.avi</td>\n",
       "      <td>4</td>\n",
       "      <td>67</td>\n",
       "      <td>52</td>\n",
       "      <td>65</td>\n",
       "      <td>76</td>\n",
       "      <td>3</td>\n",
       "    </tr>\n",
       "  </tbody>\n",
       "</table>\n",
       "</div>"
      ],
      "text/plain": [
       "   Unnamed: 0                FileName  Frame  x1  y1  x2  y2  iter\n",
       "0           0  0X100009310A3BD7FC.avi      0  67  48  67  75     3\n",
       "1           1  0X100009310A3BD7FC.avi      1  68  50  66  75     2\n",
       "2           2  0X100009310A3BD7FC.avi      2  69  52  66  76     3\n",
       "3           3  0X100009310A3BD7FC.avi      3  68  52  66  76     2\n",
       "4           4  0X100009310A3BD7FC.avi      4  67  52  65  76     3"
      ]
     },
     "execution_count": 4,
     "metadata": {},
     "output_type": "execute_result"
    }
   ],
   "source": [
    "df.head()"
   ]
  },
  {
   "cell_type": "code",
   "execution_count": 5,
   "metadata": {},
   "outputs": [
    {
     "data": {
      "text/plain": [
       "count    570127.000000\n",
       "mean          4.157823\n",
       "std           1.359074\n",
       "min           2.000000\n",
       "25%           3.000000\n",
       "50%           4.000000\n",
       "75%           5.000000\n",
       "max          26.000000\n",
       "Name: iter, dtype: float64"
      ]
     },
     "execution_count": 5,
     "metadata": {},
     "output_type": "execute_result"
    }
   ],
   "source": [
    "df.iter.describe()"
   ]
  },
  {
   "cell_type": "code",
   "execution_count": 10,
   "metadata": {},
   "outputs": [
    {
     "data": {
      "image/png": "[encoded data removed]",
      "text/plain": [
       "<Figure size 432x288 with 1 Axes>"
      ]
     },
     "metadata": {
      "needs_background": "light"
     },
     "output_type": "display_data"
    }
   ],
   "source": [
    "import matplotlib.pyplot as plt\n",
    "plt.hist(df.iter,bins=range(0,max(df.iter)))\n",
    "plt.savefig(\"Number of Dilations to reach annular points.png\")"
   ]
  },
  {
   "cell_type": "code",
   "execution_count": null,
   "metadata": {},
   "outputs": [],
   "source": []
  }
 ],
 "metadata": {
  "kernelspec": {
   "display_name": "Python 3",
   "language": "python",
   "name": "python3"
  },
  "language_info": {
   "codemirror_mode": {
    "name": "ipython",
    "version": 3
   },
   "file_extension": ".py",
   "mimetype": "text/x-python",
   "name": "python",
   "nbconvert_exporter": "python",
   "pygments_lexer": "ipython3",
   "version": "3.8.5"
  }
 },
 "nbformat": 4,
 "nbformat_minor": 4
}
