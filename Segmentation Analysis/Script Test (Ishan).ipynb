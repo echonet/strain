{
 "cells": [
  {
   "cell_type": "code",
   "execution_count": 1,
   "metadata": {},
   "outputs": [],
   "source": [
    "import Vid_to_Strain as predict\n",
    "import loader"
   ]
  },
  {
   "cell_type": "code",
   "execution_count": 2,
   "metadata": {},
   "outputs": [
    {
     "data": {
      "text/plain": [
       "'/Users/ishan/Box/Strain Study'"
      ]
     },
     "execution_count": 2,
     "metadata": {},
     "output_type": "execute_result"
    }
   ],
   "source": [
    "root = loader.dataModules()\n",
    "root"
   ]
  },
  {
   "cell_type": "code",
   "execution_count": 3,
   "metadata": {},
   "outputs": [
    {
     "name": "stderr",
     "output_type": "stream",
     "text": [
      "  0%|          | 3/749 [03:28<14:25:32, 69.61s/it]\n"
     ]
    },
    {
     "data": {
      "text/plain": [
       "<Figure size 432x288 with 0 Axes>"
      ]
     },
     "metadata": {},
     "output_type": "display_data"
    }
   ],
   "source": [
    "from tqdm import tqdm\n",
    "import os\n",
    "\n",
    "dataset_run = \"Netherlands2\"\n",
    "flip_condition = False\n",
    "\n",
    "netherlands_dataset = os.path.join(root, \"Netherlands\") #2,534 videos\n",
    "netherlands2_dataset = os.path.join(root, \"Netherlands2\", \"LV_preprocessed\") #749 videos\n",
    "a4c_dataset = os.path.join(root, \"StrainStudyA4c-Preprocessed\") #167 videos\n",
    "\n",
    "weights_path = os.path.join(root, \"Weights-20201103T193519Z-001\", \"Weights\", \"deeplabv3_resnet50_random.pt\")\n",
    "segmentations_path = os.path.join(root, \"Ishan\", \"FirstCodebase\", \"Netherlands2\", \"segmentations\")\n",
    "strains_path = os.path.join(root, \"Ishan\", \"FirstCodebase\", \"Netherlands2\", \"strains\")\n",
    "plot_path = os.path.join(root, \"Ishan\", \"FirstCodebase\", \"Netherlands2\", \"plot\")\n",
    "excel_path = os.path.join(root, \"Ishan\", \"FirstCodebase\", \"Netherlands2\", \"excel\")\n",
    "\n",
    "# Choosing dataset to run\n",
    "if dataset_run == \"Netherlands\":\n",
    "    dataset = netherlands_dataset\n",
    "    flip_condition = True\n",
    "elif dataset_run == \"Netherlands2\":\n",
    "    dataset = netherlands2_dataset\n",
    "    flip_condition = True\n",
    "else:\n",
    "    dataset = a4c_dataset\n",
    "    flip_condition = False\n",
    "\n",
    "count = 0\n",
    "# Loop to run script on dataset\n",
    "for video in tqdm(os.listdir(dataset)):\n",
    "    videoSplit = os.path.splitext(video)\n",
    "    extensionName = videoSplit[1]\n",
    "    \n",
    "    count += 1\n",
    "    \n",
    "    if extensionName == \".avi\":# and count > 87:\n",
    "        videoPath = os.path.join(dataset, video)\n",
    "        \n",
    "        try:\n",
    "            predict.estimate_strain(videoPath, flip=flip_condition, weights=weights_path, segmentation_dir=segmentations_path,\n",
    "                                strain_dir=strains_path, plot_dir=plot_path, excel_dir=excel_path, dilations=1, point_radius=1)\n",
    "        except:\n",
    "            break"
   ]
  },
  {
   "cell_type": "code",
   "execution_count": null,
   "metadata": {
    "collapsed": true
   },
   "outputs": [],
   "source": []
  }
 ],
 "metadata": {
  "kernelspec": {
   "display_name": "Python 3",
   "language": "python",
   "name": "python3"
  },
  "language_info": {
   "codemirror_mode": {
    "name": "ipython",
    "version": 3
   },
   "file_extension": ".py",
   "mimetype": "text/x-python",
   "name": "python",
   "nbconvert_exporter": "python",
   "pygments_lexer": "ipython3",
   "version": "3.7.6"
  }
 },
 "nbformat": 4,
 "nbformat_minor": 4
}
