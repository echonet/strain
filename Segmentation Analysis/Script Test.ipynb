{
 "cells": [
  {
   "cell_type": "code",
   "execution_count": null,
   "metadata": {},
   "outputs": [
    {
     "name": "stderr",
     "output_type": "stream",
     "text": [
      " 14%|███████████                                                                      | 23/168 [04:37<34:09, 14.13s/it]"
     ]
    }
   ],
   "source": [
    "import os\n",
    "from Vid_to_Strain import estimate_strain\n",
    "from Vid_to_Strain import Segmentation\n",
    "from tqdm import tqdm\n",
    "from datetime import datetime\n",
    "\n",
    "\n",
    "\n",
    "\n",
    "folder = 'C:\\\\Users\\\\TheurerJ\\\\Documents\\\\Data\\\\StrainStudy\\\\StrainStudyA4c-Preprocessed'\n",
    "weights = 'C:\\\\Users\\\\TheurerJ\\\\Documents\\\\Data\\\\Weights-20201103T193519Z-001\\\\Weights\\\\deeplabv3_resnet50_random.pt'\n",
    "segmentation_dir = 'C:\\\\Users\\\\TheurerJ\\\\Documents\\\\Data\\\\StrainStudy\\\\Test\\\\Segmentation'\n",
    "strain_dir = 'C:\\\\Users\\\\TheurerJ\\\\Documents\\\\Data\\\\StrainStudy\\\\Test\\\\Strain'\n",
    "plot_dir = 'C:\\\\Users\\\\TheurerJ\\\\Documents\\\\Data\\\\StrainStudy\\\\Test\\\\Plot'\n",
    "excel_dir = 'C:\\\\Users\\\\TheurerJ\\\\Documents\\\\Data\\\\StrainStudy\\\\Test\\\\Excel'\n",
    "segmenter = Segmentation(weights)\n",
    "window_size = 3\n",
    "dilations=0\n",
    "downsample = 1\n",
    "thickness = 1\n",
    "\n",
    "filename = []\n",
    "time = []\n",
    "for vid in tqdm(os.listdir(folder)):#['2PXH1WVX_4_EPIQ7C_NO.avi']:\n",
    "    if vid[-4:] == '.avi':\n",
    "        try:\n",
    "            start = datetime.now()\n",
    "            output_filename = vid[:-4]+'_dilation'+str(dilations)+'_downsample'+str(downsample)+\"_thickness\"+str(thickness)+\".avi\"\n",
    "            estimate_strain(folder+'\\\\'+vid,weights,segmentation_dir,strain_dir,plot_dir,excel_dir,segmenter=segmenter,window_size=window_size,flip=False,dilations=dilations, downsample = downsample,output_filename=output_filename)\n",
    "            time.append(datetime.now()-start)\n",
    "            filename.append(vid)\n",
    "        except:\n",
    "            print(vid)"
   ]
  }
 ],
 "metadata": {
  "kernelspec": {
   "display_name": "Python 3",
   "language": "python",
   "name": "python3"
  },
  "language_info": {
   "codemirror_mode": {
    "name": "ipython",
    "version": 3
   },
   "file_extension": ".py",
   "mimetype": "text/x-python",
   "name": "python",
   "nbconvert_exporter": "python",
   "pygments_lexer": "ipython3",
   "version": "3.8.3"
  }
 },
 "nbformat": 4,
 "nbformat_minor": 4
}
