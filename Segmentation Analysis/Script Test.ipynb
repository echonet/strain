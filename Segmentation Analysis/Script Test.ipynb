{
 "cells": [
  {
   "cell_type": "code",
   "execution_count": null,
   "metadata": {},
   "outputs": [
    {
     "name": "stderr",
     "output_type": "stream",
     "text": [
      "  0%|                                                                                         | 0/2534 [00:00<?, ?it/s]C:\\Users\\Remote\\Documents\\John\\echonet_segmentation_analysis\\Segmentation Analysis\\Vid_to_Strain.py:135: VisibleDeprecationWarning: Creating an ndarray from ragged nested sequences (which is a list-or-tuple of lists-or-tuples-or ndarrays with different lengths or shapes) is deprecated. If you meant to do this, you must specify 'dtype=object' when creating the ndarray\n",
      "  im2 = np.array(im2)\n",
      "C:\\Users\\Remote\\Documents\\John\\echonet_segmentation_analysis\\Segmentation Analysis\\Vid_to_Strain.py:215: VisibleDeprecationWarning: Creating an ndarray from ragged nested sequences (which is a list-or-tuple of lists-or-tuples-or ndarrays with different lengths or shapes) is deprecated. If you meant to do this, you must specify 'dtype=object' when creating the ndarray\n",
      "  im2 = np.array(im2)\n",
      "  0%|                                                                               | 2/2534 [00:05<2:26:14,  3.47s/it]C:\\ProgramData\\Anaconda3\\lib\\site-packages\\numpy\\core\\fromnumeric.py:3372: RuntimeWarning: Mean of empty slice.\n",
      "  return _methods._mean(a, axis=axis, dtype=dtype,\n",
      "C:\\ProgramData\\Anaconda3\\lib\\site-packages\\numpy\\core\\_methods.py:170: RuntimeWarning: invalid value encountered in double_scalars\n",
      "  ret = ret.dtype.type(ret / rcount)\n",
      "  3%|██                                                                              | 64/2534 [01:11<45:40,  1.11s/it]"
     ]
    }
   ],
   "source": [
    "import os\n",
    "from Vid_to_Strain import estimate_strain\n",
    "from Vid_to_Strain import Segmentation\n",
    "from tqdm import tqdm\n",
    "from datetime import datetime\n",
    "\n",
    "\n",
    "\n",
    "\n",
    "folder = 'D:\\\\Netherlands'\n",
    "weights = 'C:\\\\Users\\\\Remote\\\\Documents\\\\John\\\\echonet_segmentation\\\\Weights-20201103T193519Z-001\\\\Weights\\\\deeplabv3_resnet50_random.pt'\n",
    "segmentation_dir = 'C:\\\\Users\\\\Remote\\\\Documents\\\\John\\\\echonet_segmentation_analysis\\\\Segmentation Analysis\\\\Netherlands\\\\Segmentation'\n",
    "strain_dir = 'C:\\\\Users\\\\Remote\\\\Documents\\\\John\\\\echonet_segmentation_analysis\\\\Segmentation Analysis\\\\Netherlands\\\\Strain'\n",
    "plot_dir = 'C:\\\\Users\\\\Remote\\\\Documents\\\\John\\\\echonet_segmentation_analysis\\\\Segmentation Analysis\\\\Netherlands\\\\Plot'\n",
    "excel_dir = 'C:\\\\Users\\\\Remote\\\\Documents\\\\John\\\\echonet_segmentation_analysis\\\\Segmentation Analysis\\\\Netherlands\\\\Excel'\n",
    "segmenter = Segmentation(weights)\n",
    "\n",
    "\n",
    "\n",
    "for vid in tqdm(os.listdir(folder)):\n",
    "    filename = []\n",
    "    time = []\n",
    "    if vid[-4:] == '.avi':\n",
    "        try:\n",
    "            start = datetime.now()\n",
    "            estimate_strain(folder+'\\\\'+vid,weights,segmentation_dir,strain_dir,plot_dir,excel_dir,segmenter=segmenter)\n",
    "            time.append(datetime.now()-start)\n",
    "            filename.append(vid)\n",
    "        except:\n",
    "            print(vid)"
   ]
  },
  {
   "cell_type": "code",
   "execution_count": null,
   "metadata": {},
   "outputs": [],
   "source": []
  }
 ],
 "metadata": {
  "kernelspec": {
   "display_name": "Python 3",
   "language": "python",
   "name": "python3"
  },
  "language_info": {
   "codemirror_mode": {
    "name": "ipython",
    "version": 3
   },
   "file_extension": ".py",
   "mimetype": "text/x-python",
   "name": "python",
   "nbconvert_exporter": "python",
   "pygments_lexer": "ipython3",
   "version": "3.8.5"
  }
 },
 "nbformat": 4,
 "nbformat_minor": 4
}
