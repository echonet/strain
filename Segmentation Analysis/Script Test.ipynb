{
 "cells": [
  {
   "cell_type": "code",
   "execution_count": null,
   "metadata": {},
   "outputs": [
    {
     "name": "stderr",
     "output_type": "stream",
     "text": [
      "  1%|▍                                                                                 | 1/168 [00:08<24:36,  8.84s/it]"
     ]
    }
   ],
   "source": [
    "import os\n",
    "from Vid_to_Strain import estimate_strain\n",
    "from Vid_to_Strain import Segmentation\n",
    "from tqdm import tqdm\n",
    "from datetime import datetime\n",
    "\n",
    "\n",
    "\n",
    "\n",
    "folder = 'C:\\\\Users\\\\TheurerJ\\\\Documents\\\\Data\\\\StrainStudy\\\\StrainStudyA4c-Preprocessed'\n",
    "weights = 'C:\\\\Users\\\\TheurerJ\\\\Documents\\\\Data\\\\Weights-20201103T193519Z-001\\\\Weights\\\\deeplabv3_resnet50_random.pt'\n",
    "segmentation_dir = 'C:\\\\Users\\\\TheurerJ\\\\Documents\\\\Data\\\\StrainStudy\\\\Segmentation'\n",
    "strain_dir = 'C:\\\\Users\\\\TheurerJ\\\\Documents\\\\Data\\\\StrainStudy\\\\Strain'\n",
    "plot_dir = 'C:\\\\Users\\\\TheurerJ\\\\Documents\\\\Data\\\\StrainStudy\\\\Plot'\n",
    "excel_dir = 'C:\\\\Users\\\\TheurerJ\\\\Documents\\\\Data\\\\StrainStudy\\\\Excel'\n",
    "segmenter = Segmentation(weights)\n",
    "window_size = 3\n",
    "dilations=0\n",
    "downsample = 1\n",
    "thickness = 1\n",
    "\n",
    "filename = []\n",
    "time = []\n",
    "for vid in tqdm(os.listdir(folder)):#['2PXH1WVX_4_EPIQ7C_NO.avi']:\n",
    "    if vid[-4:] == '.avi':\n",
    "        try:\n",
    "            start = datetime.now()\n",
    "            output_filename = vid[:-4]+'_dilation'+str(dilations)+'_downsample'+str(downsample)+\"_thickness\"+str(thickness)+\".avi\"\n",
    "            estimate_strain(folder+'\\\\'+vid,weights,segmentation_dir,strain_dir,plot_dir,excel_dir,segmenter=segmenter,window_size=window_size,flip=False,dilations=dilations, downsample = downsample,output_filename=output_filename)\n",
    "            time.append(datetime.now()-start)\n",
    "            filename.append(vid)\n",
    "        except:\n",
    "            print(vid)"
   ]
  },
  {
   "cell_type": "code",
   "execution_count": null,
   "metadata": {},
   "outputs": [],
   "source": [
    "import os\n",
    "from Vid_to_Strain import estimate_strain\n",
    "from Vid_to_Strain import Segmentation\n",
    "from tqdm import tqdm\n",
    "from datetime import datetime\n",
    "\n",
    "\n",
    "\n",
    "\n",
    "folder = 'C:\\\\Users\\\\TheurerJ\\\\Documents\\\\Data\\\\StrainStudy\\\\StrainStudyA4c-Preprocessed'\n",
    "weights = 'C:\\\\Users\\\\TheurerJ\\\\Documents\\\\Data\\\\Weights-20201103T193519Z-001\\\\Weights\\\\deeplabv3_resnet50_random.pt'\n",
    "Output_folder = 'C:\\\\Users\\\\TheurerJ\\\\Documents\\\\Data\\\\StrainStudy\\\\Downsample_contourconnection '\n",
    "segmenter = Segmentation(weights)\n",
    "window_size = 3\n",
    "\n",
    "\n",
    "filename = []\n",
    "time = []\n",
    "for i in tqdm([1,2,5,10,15,25]):\n",
    "    fold = Output_folder+str(i)\n",
    "    start = datetime.now()\n",
    "    estimate_strain(folder+'\\\\2PXGZZSF_1_EPIQ7C_NO.avi',weights,fold,fold,fold,fold,segmenter=segmenter,window_size=window_size,flip=False,dilations=1, downsample = i)\n",
    "    time.append(datetime.now()-start)\n",
    "    filename.append('2PXGZZSF_1_EPIQ7C_NO.avi')\n"
   ]
  },
  {
   "cell_type": "code",
   "execution_count": 1,
   "metadata": {},
   "outputs": [
    {
     "name": "stderr",
     "output_type": "stream",
     "text": [
      "100%|████████████████████████████████████████████████████████████████████████████████████| 5/5 [00:51<00:00, 10.29s/it]\n"
     ]
    },
    {
     "data": {
      "text/plain": [
       "<Figure size 432x288 with 0 Axes>"
      ]
     },
     "metadata": {},
     "output_type": "display_data"
    }
   ],
   "source": [
    "import os\n",
    "from Vid_to_Strain import estimate_strain\n",
    "from Vid_to_Strain import Segmentation\n",
    "from tqdm import tqdm\n",
    "from datetime import datetime\n",
    "\n",
    "\n",
    "\n",
    "\n",
    "folder = 'C:\\\\Users\\\\TheurerJ\\\\Documents\\\\Data\\\\StrainStudy\\\\StrainStudyA4c-Preprocessed'\n",
    "weights = 'C:\\\\Users\\\\TheurerJ\\\\Documents\\\\Data\\\\Weights-20201103T193519Z-001\\\\Weights\\\\deeplabv3_resnet50_random.pt'\n",
    "Output_folder = 'C:\\\\Users\\\\TheurerJ\\\\Documents\\\\Data\\\\StrainStudy\\\\Dilation_contourconnection '\n",
    "segmenter = Segmentation(weights)\n",
    "window_size = 3\n",
    "\n",
    "\n",
    "filename = []\n",
    "time = []\n",
    "for i in tqdm(range(0,5)):\n",
    "    fold = Output_folder+str(i)\n",
    "    start = datetime.now()\n",
    "    estimate_strain(folder+'\\\\2PXGZZSF_1_EPIQ7C_NO.avi',weights,fold,fold,fold,fold,segmenter=segmenter,window_size=window_size,flip=False,dilations=i, downsample = 5)\n",
    "    time.append(datetime.now()-start)\n",
    "    filename.append('2PXGZZSF_1_EPIQ7C_NO.avi')\n"
   ]
  },
  {
   "cell_type": "code",
   "execution_count": null,
   "metadata": {},
   "outputs": [],
   "source": [
    "(1+1+5)/3"
   ]
  },
  {
   "cell_type": "code",
   "execution_count": null,
   "metadata": {},
   "outputs": [],
   "source": [
    "!pip install pydicom"
   ]
  },
  {
   "cell_type": "code",
   "execution_count": null,
   "metadata": {},
   "outputs": [],
   "source": [
    "!conda install pydicom"
   ]
  },
  {
   "cell_type": "code",
   "execution_count": null,
   "metadata": {},
   "outputs": [],
   "source": [
    "time"
   ]
  },
  {
   "cell_type": "code",
   "execution_count": 2,
   "metadata": {},
   "outputs": [],
   "source": [
    "import cv2"
   ]
  },
  {
   "cell_type": "code",
   "execution_count": 3,
   "metadata": {},
   "outputs": [
    {
     "data": {
      "text/plain": [
       "'4.0.1'"
      ]
     },
     "execution_count": 3,
     "metadata": {},
     "output_type": "execute_result"
    }
   ],
   "source": [
    "cv2.__version__"
   ]
  },
  {
   "cell_type": "code",
   "execution_count": 4,
   "metadata": {},
   "outputs": [],
   "source": [
    "import numpy as np"
   ]
  },
  {
   "cell_type": "code",
   "execution_count": 5,
   "metadata": {},
   "outputs": [
    {
     "data": {
      "text/plain": [
       "array([[[58, 23]],\n",
       "\n",
       "       [[57, 24]],\n",
       "\n",
       "       [[56, 24]],\n",
       "\n",
       "       [[55, 25]]])"
      ]
     },
     "execution_count": 5,
     "metadata": {},
     "output_type": "execute_result"
    }
   ],
   "source": [
    "x = np.array([[[58, 23]],[[57, 24]],[[56, 24]],[[55,25]]])\n",
    "x"
   ]
  },
  {
   "cell_type": "code",
   "execution_count": 7,
   "metadata": {},
   "outputs": [
    {
     "data": {
      "text/plain": [
       "array([58, 23])"
      ]
     },
     "execution_count": 7,
     "metadata": {},
     "output_type": "execute_result"
    }
   ],
   "source": [
    "x[0,0]"
   ]
  },
  {
   "cell_type": "code",
   "execution_count": 8,
   "metadata": {},
   "outputs": [
    {
     "data": {
      "text/plain": [
       "(4, 1, 2)"
      ]
     },
     "execution_count": 8,
     "metadata": {},
     "output_type": "execute_result"
    }
   ],
   "source": [
    "x.shape"
   ]
  },
  {
   "cell_type": "code",
   "execution_count": 13,
   "metadata": {},
   "outputs": [
    {
     "data": {
      "text/plain": [
       "array([56.5, 24. ])"
      ]
     },
     "execution_count": 13,
     "metadata": {},
     "output_type": "execute_result"
    }
   ],
   "source": [
    "np.mean(np.mean(x,axis=-2),axis=0)"
   ]
  },
  {
   "cell_type": "markdown",
   "metadata": {},
   "source": [
    "Steps I need to take:\n",
    "\n",
    "1) Write a measure length function, which takes two lists of points that look like X, and outputs a distance around\n",
    "\n",
    "2) need to figure out the best way to drop points"
   ]
  }
 ],
 "metadata": {
  "kernelspec": {
   "display_name": "Python 3",
   "language": "python",
   "name": "python3"
  },
  "language_info": {
   "codemirror_mode": {
    "name": "ipython",
    "version": 3
   },
   "file_extension": ".py",
   "mimetype": "text/x-python",
   "name": "python",
   "nbconvert_exporter": "python",
   "pygments_lexer": "ipython3",
   "version": "3.8.3"
  }
 },
 "nbformat": 4,
 "nbformat_minor": 4
}
