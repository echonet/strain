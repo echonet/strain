{
 "cells": [
  {
   "cell_type": "markdown",
   "metadata": {},
   "source": [
    "To determine if I am successful, lets say we want less than a 5% error rate, then ch"
   ]
  },
  {
   "cell_type": "code",
   "execution_count": 84,
   "metadata": {},
   "outputs": [
    {
     "data": {
      "text/plain": [
       "0.3584859224085419"
      ]
     },
     "execution_count": 84,
     "metadata": {},
     "output_type": "execute_result"
    }
   ],
   "source": [
    "0.95**20"
   ]
  },
  {
   "cell_type": "code",
   "execution_count": 1,
   "metadata": {},
   "outputs": [],
   "source": [
    "import pandas as pd\n",
    "from tqdm import tqdm\n",
    "import numpy as np"
   ]
  },
  {
   "cell_type": "code",
   "execution_count": 204,
   "metadata": {},
   "outputs": [
    {
     "data": {
      "text/html": [
       "<div>\n",
       "<style scoped>\n",
       "    .dataframe tbody tr th:only-of-type {\n",
       "        vertical-align: middle;\n",
       "    }\n",
       "\n",
       "    .dataframe tbody tr th {\n",
       "        vertical-align: top;\n",
       "    }\n",
       "\n",
       "    .dataframe thead th {\n",
       "        text-align: right;\n",
       "    }\n",
       "</style>\n",
       "<table border=\"1\" class=\"dataframe\">\n",
       "  <thead>\n",
       "    <tr style=\"text-align: right;\">\n",
       "      <th></th>\n",
       "      <th>Size</th>\n",
       "      <th>Volume</th>\n",
       "      <th>x1</th>\n",
       "      <th>y1</th>\n",
       "      <th>x2</th>\n",
       "      <th>y2</th>\n",
       "      <th>length</th>\n",
       "      <th>Degrees</th>\n",
       "    </tr>\n",
       "  </thead>\n",
       "  <tbody>\n",
       "    <tr>\n",
       "      <th>0</th>\n",
       "      <td>490</td>\n",
       "      <td>4719.669481</td>\n",
       "      <td>64</td>\n",
       "      <td>55</td>\n",
       "      <td>55</td>\n",
       "      <td>26</td>\n",
       "      <td>30.364453</td>\n",
       "      <td>-107.241459</td>\n",
       "    </tr>\n",
       "    <tr>\n",
       "      <th>1</th>\n",
       "      <td>488</td>\n",
       "      <td>4675.379994</td>\n",
       "      <td>64</td>\n",
       "      <td>55</td>\n",
       "      <td>55</td>\n",
       "      <td>26</td>\n",
       "      <td>30.364453</td>\n",
       "      <td>-107.241459</td>\n",
       "    </tr>\n",
       "    <tr>\n",
       "      <th>2</th>\n",
       "      <td>489</td>\n",
       "      <td>4455.994228</td>\n",
       "      <td>64</td>\n",
       "      <td>55</td>\n",
       "      <td>54</td>\n",
       "      <td>26</td>\n",
       "      <td>30.675723</td>\n",
       "      <td>-109.025606</td>\n",
       "    </tr>\n",
       "    <tr>\n",
       "      <th>3</th>\n",
       "      <td>489</td>\n",
       "      <td>4294.944653</td>\n",
       "      <td>64</td>\n",
       "      <td>55</td>\n",
       "      <td>55</td>\n",
       "      <td>26</td>\n",
       "      <td>30.364453</td>\n",
       "      <td>-107.241459</td>\n",
       "    </tr>\n",
       "    <tr>\n",
       "      <th>4</th>\n",
       "      <td>482</td>\n",
       "      <td>4335.963254</td>\n",
       "      <td>65</td>\n",
       "      <td>55</td>\n",
       "      <td>53</td>\n",
       "      <td>26</td>\n",
       "      <td>31.384710</td>\n",
       "      <td>-112.479434</td>\n",
       "    </tr>\n",
       "    <tr>\n",
       "      <th>...</th>\n",
       "      <td>...</td>\n",
       "      <td>...</td>\n",
       "      <td>...</td>\n",
       "      <td>...</td>\n",
       "      <td>...</td>\n",
       "      <td>...</td>\n",
       "      <td>...</td>\n",
       "      <td>...</td>\n",
       "    </tr>\n",
       "    <tr>\n",
       "      <th>18100194</th>\n",
       "      <td>728</td>\n",
       "      <td>7079.193898</td>\n",
       "      <td>72</td>\n",
       "      <td>73</td>\n",
       "      <td>61</td>\n",
       "      <td>28</td>\n",
       "      <td>46.324939</td>\n",
       "      <td>-103.736268</td>\n",
       "    </tr>\n",
       "    <tr>\n",
       "      <th>18100195</th>\n",
       "      <td>722</td>\n",
       "      <td>7004.016659</td>\n",
       "      <td>72</td>\n",
       "      <td>75</td>\n",
       "      <td>62</td>\n",
       "      <td>32</td>\n",
       "      <td>44.147480</td>\n",
       "      <td>-103.091893</td>\n",
       "    </tr>\n",
       "    <tr>\n",
       "      <th>18100196</th>\n",
       "      <td>762</td>\n",
       "      <td>8223.656182</td>\n",
       "      <td>72</td>\n",
       "      <td>75</td>\n",
       "      <td>63</td>\n",
       "      <td>31</td>\n",
       "      <td>44.911023</td>\n",
       "      <td>-101.560131</td>\n",
       "    </tr>\n",
       "    <tr>\n",
       "      <th>18100197</th>\n",
       "      <td>759</td>\n",
       "      <td>8061.811191</td>\n",
       "      <td>71</td>\n",
       "      <td>75</td>\n",
       "      <td>63</td>\n",
       "      <td>31</td>\n",
       "      <td>44.721360</td>\n",
       "      <td>-100.304846</td>\n",
       "    </tr>\n",
       "    <tr>\n",
       "      <th>18100198</th>\n",
       "      <td>802</td>\n",
       "      <td>8338.198108</td>\n",
       "      <td>71</td>\n",
       "      <td>76</td>\n",
       "      <td>63</td>\n",
       "      <td>30</td>\n",
       "      <td>46.690470</td>\n",
       "      <td>-99.865807</td>\n",
       "    </tr>\n",
       "  </tbody>\n",
       "</table>\n",
       "<p>18100199 rows × 8 columns</p>\n",
       "</div>"
      ],
      "text/plain": [
       "          Size       Volume  x1  y1  x2  y2     length     Degrees\n",
       "0          490  4719.669481  64  55  55  26  30.364453 -107.241459\n",
       "1          488  4675.379994  64  55  55  26  30.364453 -107.241459\n",
       "2          489  4455.994228  64  55  54  26  30.675723 -109.025606\n",
       "3          489  4294.944653  64  55  55  26  30.364453 -107.241459\n",
       "4          482  4335.963254  65  55  53  26  31.384710 -112.479434\n",
       "...        ...          ...  ..  ..  ..  ..        ...         ...\n",
       "18100194   728  7079.193898  72  73  61  28  46.324939 -103.736268\n",
       "18100195   722  7004.016659  72  75  62  32  44.147480 -103.091893\n",
       "18100196   762  8223.656182  72  75  63  31  44.911023 -101.560131\n",
       "18100197   759  8061.811191  71  75  63  31  44.721360 -100.304846\n",
       "18100198   802  8338.198108  71  76  63  30  46.690470  -99.865807\n",
       "\n",
       "[18100199 rows x 8 columns]"
      ]
     },
     "execution_count": 204,
     "metadata": {},
     "output_type": "execute_result"
    }
   ],
   "source": [
    "total[['Size','Volume','x1','y1','x2','y2','length','Degrees']]"
   ]
  },
  {
   "cell_type": "code",
   "execution_count": 205,
   "metadata": {},
   "outputs": [],
   "source": [
    "total = pd.read_csv(\"C:\\\\Users\\\\TheurerJ\\\\Documents\\\\Data\\\\Line_Data.csv\")\n",
    "total['Degrees'] = np.degrees(np.arctan2(total['y2'].to_numpy()-total['y1'].to_numpy(),total['x2'].to_numpy()-total['x1'].to_numpy()))\n",
    "grouped = total.groupby(\"Filename\",sort = False).count()\n",
    "med_grouped = total.groupby(\"Filename\").median()\n",
    "std_grouped = total.groupby(\"Filename\").std()\n",
    "mean_grouped = total.groupby(\"Filename\").mean()\n",
    "range_grouped = total.groupby(\"Filename\")[['Size','Volume','x1','y1','x2','y2','length','Degrees']].quantile(0.9)-total.groupby(\"Filename\")[['Size','Volume','x1','y1','x2','y2','length','Degrees']].quantile(0.1)\n",
    "inital_mask = (grouped[\"Size\"]>32) & (grouped[\"Problem\"]==0)"
   ]
  },
  {
   "cell_type": "code",
   "execution_count": 290,
   "metadata": {},
   "outputs": [
    {
     "data": {
      "text/html": [
       "<div>\n",
       "<style scoped>\n",
       "    .dataframe tbody tr th:only-of-type {\n",
       "        vertical-align: middle;\n",
       "    }\n",
       "\n",
       "    .dataframe tbody tr th {\n",
       "        vertical-align: top;\n",
       "    }\n",
       "\n",
       "    .dataframe thead th {\n",
       "        text-align: right;\n",
       "    }\n",
       "</style>\n",
       "<table border=\"1\" class=\"dataframe\">\n",
       "  <thead>\n",
       "    <tr style=\"text-align: right;\">\n",
       "      <th></th>\n",
       "      <th>frame number</th>\n",
       "      <th>Size</th>\n",
       "      <th>Volume</th>\n",
       "      <th>x1</th>\n",
       "      <th>y1</th>\n",
       "      <th>x2</th>\n",
       "      <th>y2</th>\n",
       "      <th>length</th>\n",
       "      <th>Problem</th>\n",
       "      <th>Degrees</th>\n",
       "    </tr>\n",
       "    <tr>\n",
       "      <th>Filename</th>\n",
       "      <th></th>\n",
       "      <th></th>\n",
       "      <th></th>\n",
       "      <th></th>\n",
       "      <th></th>\n",
       "      <th></th>\n",
       "      <th></th>\n",
       "      <th></th>\n",
       "      <th></th>\n",
       "      <th></th>\n",
       "    </tr>\n",
       "  </thead>\n",
       "  <tbody>\n",
       "    <tr>\n",
       "      <th>1AFJUFVQ.avi</th>\n",
       "      <td>118</td>\n",
       "      <td>118</td>\n",
       "      <td>118</td>\n",
       "      <td>118</td>\n",
       "      <td>118</td>\n",
       "      <td>118</td>\n",
       "      <td>118</td>\n",
       "      <td>118</td>\n",
       "      <td>0</td>\n",
       "      <td>118</td>\n",
       "    </tr>\n",
       "    <tr>\n",
       "      <th>1AG1LTSE.avi</th>\n",
       "      <td>134</td>\n",
       "      <td>134</td>\n",
       "      <td>134</td>\n",
       "      <td>134</td>\n",
       "      <td>134</td>\n",
       "      <td>134</td>\n",
       "      <td>134</td>\n",
       "      <td>134</td>\n",
       "      <td>0</td>\n",
       "      <td>134</td>\n",
       "    </tr>\n",
       "    <tr>\n",
       "      <th>1AG6EOVQ.avi</th>\n",
       "      <td>142</td>\n",
       "      <td>142</td>\n",
       "      <td>142</td>\n",
       "      <td>142</td>\n",
       "      <td>142</td>\n",
       "      <td>142</td>\n",
       "      <td>142</td>\n",
       "      <td>142</td>\n",
       "      <td>42</td>\n",
       "      <td>142</td>\n",
       "    </tr>\n",
       "    <tr>\n",
       "      <th>1AGCWGMH.avi</th>\n",
       "      <td>169</td>\n",
       "      <td>169</td>\n",
       "      <td>169</td>\n",
       "      <td>169</td>\n",
       "      <td>169</td>\n",
       "      <td>169</td>\n",
       "      <td>169</td>\n",
       "      <td>169</td>\n",
       "      <td>0</td>\n",
       "      <td>169</td>\n",
       "    </tr>\n",
       "    <tr>\n",
       "      <th>1AGV8XHL.avi</th>\n",
       "      <td>246</td>\n",
       "      <td>246</td>\n",
       "      <td>246</td>\n",
       "      <td>246</td>\n",
       "      <td>246</td>\n",
       "      <td>246</td>\n",
       "      <td>246</td>\n",
       "      <td>246</td>\n",
       "      <td>49</td>\n",
       "      <td>246</td>\n",
       "    </tr>\n",
       "  </tbody>\n",
       "</table>\n",
       "</div>"
      ],
      "text/plain": [
       "              frame number  Size  Volume   x1   y1   x2   y2  length  Problem  \\\n",
       "Filename                                                                        \n",
       "1AFJUFVQ.avi           118   118     118  118  118  118  118     118        0   \n",
       "1AG1LTSE.avi           134   134     134  134  134  134  134     134        0   \n",
       "1AG6EOVQ.avi           142   142     142  142  142  142  142     142       42   \n",
       "1AGCWGMH.avi           169   169     169  169  169  169  169     169        0   \n",
       "1AGV8XHL.avi           246   246     246  246  246  246  246     246       49   \n",
       "\n",
       "              Degrees  \n",
       "Filename               \n",
       "1AFJUFVQ.avi      118  \n",
       "1AG1LTSE.avi      134  \n",
       "1AG6EOVQ.avi      142  \n",
       "1AGCWGMH.avi      169  \n",
       "1AGV8XHL.avi      246  "
      ]
     },
     "execution_count": 290,
     "metadata": {},
     "output_type": "execute_result"
    }
   ],
   "source": [
    "grouped.head()"
   ]
  },
  {
   "cell_type": "code",
   "execution_count": 291,
   "metadata": {},
   "outputs": [
    {
     "data": {
      "text/plain": [
       "(array([1.000e+00, 1.000e+00, 1.100e+02, 7.300e+01, 7.600e+01, 5.900e+01,\n",
       "        8.100e+01, 1.820e+02, 1.910e+02, 3.000e+02, 4.120e+02, 5.060e+02,\n",
       "        5.210e+02, 5.400e+02, 5.690e+02, 7.730e+02, 8.240e+02, 1.057e+03,\n",
       "        1.226e+03, 1.362e+03, 1.637e+03, 1.980e+03, 2.238e+03, 3.116e+03,\n",
       "        3.083e+03, 3.268e+03, 3.653e+03, 3.843e+03, 3.984e+03, 4.423e+03,\n",
       "        4.567e+03, 4.523e+03, 4.361e+03, 4.550e+03, 4.279e+03, 3.983e+03,\n",
       "        3.846e+03, 3.734e+03, 3.517e+03, 4.154e+03, 3.789e+03, 2.573e+03,\n",
       "        2.320e+03, 1.978e+03, 1.766e+03, 1.561e+03, 1.411e+03, 1.211e+03,\n",
       "        1.091e+03, 9.147e+03]),\n",
       " array([  1.  ,   5.98,  10.96,  15.94,  20.92,  25.9 ,  30.88,  35.86,\n",
       "         40.84,  45.82,  50.8 ,  55.78,  60.76,  65.74,  70.72,  75.7 ,\n",
       "         80.68,  85.66,  90.64,  95.62, 100.6 , 105.58, 110.56, 115.54,\n",
       "        120.52, 125.5 , 130.48, 135.46, 140.44, 145.42, 150.4 , 155.38,\n",
       "        160.36, 165.34, 170.32, 175.3 , 180.28, 185.26, 190.24, 195.22,\n",
       "        200.2 , 205.18, 210.16, 215.14, 220.12, 225.1 , 230.08, 235.06,\n",
       "        240.04, 245.02, 250.  ]),\n",
       " <a list of 50 Patch objects>)"
      ]
     },
     "execution_count": 291,
     "metadata": {},
     "output_type": "execute_result"
    },
    {
     "data": {
      "image/png": "[encoded data removed]",
      "text/plain": [
       "<Figure size 432x288 with 1 Axes>"
      ]
     },
     "metadata": {
      "needs_background": "light"
     },
     "output_type": "display_data"
    }
   ],
   "source": [
    "plt.hist(grouped['frame number'],bins=50)"
   ]
  },
  {
   "cell_type": "code",
   "execution_count": 206,
   "metadata": {},
   "outputs": [
    {
     "data": {
      "image/png": "[encoded data removed]",
      "text/plain": [
       "<Figure size 432x288 with 1 Axes>"
      ]
     },
     "metadata": {
      "needs_background": "light"
     },
     "output_type": "display_data"
    },
    {
     "data": {
      "image/png": "[encoded data removed]",
      "text/plain": [
       "<Figure size 432x288 with 1 Axes>"
      ]
     },
     "metadata": {
      "needs_background": "light"
     },
     "output_type": "display_data"
    },
    {
     "data": {
      "image/png": "[encoded data removed]",
      "text/plain": [
       "<Figure size 432x288 with 1 Axes>"
      ]
     },
     "metadata": {
      "needs_background": "light"
     },
     "output_type": "display_data"
    },
    {
     "data": {
      "image/png": "[encoded data removed]",
      "text/plain": [
       "<Figure size 432x288 with 1 Axes>"
      ]
     },
     "metadata": {
      "needs_background": "light"
     },
     "output_type": "display_data"
    },
    {
     "data": {
      "image/png": "[encoded data removed]",
      "text/plain": [
       "<Figure size 432x288 with 1 Axes>"
      ]
     },
     "metadata": {
      "needs_background": "light"
     },
     "output_type": "display_data"
    },
    {
     "data": {
      "image/png": "[encoded data removed]",
      "text/plain": [
       "<Figure size 432x288 with 1 Axes>"
      ]
     },
     "metadata": {
      "needs_background": "light"
     },
     "output_type": "display_data"
    },
    {
     "data": {
      "image/png": "[encoded data removed]",
      "text/plain": [
       "<Figure size 432x288 with 1 Axes>"
      ]
     },
     "metadata": {
      "needs_background": "light"
     },
     "output_type": "display_data"
    },
    {
     "data": {
      "image/png": "[encoded data removed]",
      "text/plain": [
       "<Figure size 432x288 with 1 Axes>"
      ]
     },
     "metadata": {
      "needs_background": "light"
     },
     "output_type": "display_data"
    },
    {
     "data": {
      "text/html": [
       "<div>\n",
       "<style scoped>\n",
       "    .dataframe tbody tr th:only-of-type {\n",
       "        vertical-align: middle;\n",
       "    }\n",
       "\n",
       "    .dataframe tbody tr th {\n",
       "        vertical-align: top;\n",
       "    }\n",
       "\n",
       "    .dataframe thead th {\n",
       "        text-align: right;\n",
       "    }\n",
       "</style>\n",
       "<table border=\"1\" class=\"dataframe\">\n",
       "  <thead>\n",
       "    <tr style=\"text-align: right;\">\n",
       "      <th></th>\n",
       "      <th>frame number</th>\n",
       "      <th>Size</th>\n",
       "      <th>Volume</th>\n",
       "      <th>x1</th>\n",
       "      <th>y1</th>\n",
       "      <th>x2</th>\n",
       "      <th>y2</th>\n",
       "      <th>length</th>\n",
       "      <th>Degrees</th>\n",
       "    </tr>\n",
       "  </thead>\n",
       "  <tbody>\n",
       "    <tr>\n",
       "      <th>count</th>\n",
       "      <td>1.810020e+07</td>\n",
       "      <td>1.810020e+07</td>\n",
       "      <td>1.810020e+07</td>\n",
       "      <td>1.810020e+07</td>\n",
       "      <td>1.810020e+07</td>\n",
       "      <td>1.810020e+07</td>\n",
       "      <td>1.810020e+07</td>\n",
       "      <td>1.810020e+07</td>\n",
       "      <td>1.810020e+07</td>\n",
       "    </tr>\n",
       "    <tr>\n",
       "      <th>mean</th>\n",
       "      <td>8.986277e+01</td>\n",
       "      <td>1.549118e+03</td>\n",
       "      <td>3.144160e+04</td>\n",
       "      <td>6.917751e+01</td>\n",
       "      <td>8.189226e+01</td>\n",
       "      <td>5.734409e+01</td>\n",
       "      <td>2.697977e+01</td>\n",
       "      <td>5.673553e+01</td>\n",
       "      <td>-1.017952e+02</td>\n",
       "    </tr>\n",
       "    <tr>\n",
       "      <th>std</th>\n",
       "      <td>5.824986e+01</td>\n",
       "      <td>7.785258e+02</td>\n",
       "      <td>2.812042e+04</td>\n",
       "      <td>8.471938e+00</td>\n",
       "      <td>1.295455e+01</td>\n",
       "      <td>7.183818e+00</td>\n",
       "      <td>7.748476e+00</td>\n",
       "      <td>1.291094e+01</td>\n",
       "      <td>9.313073e+00</td>\n",
       "    </tr>\n",
       "    <tr>\n",
       "      <th>min</th>\n",
       "      <td>0.000000e+00</td>\n",
       "      <td>0.000000e+00</td>\n",
       "      <td>0.000000e+00</td>\n",
       "      <td>0.000000e+00</td>\n",
       "      <td>0.000000e+00</td>\n",
       "      <td>0.000000e+00</td>\n",
       "      <td>0.000000e+00</td>\n",
       "      <td>0.000000e+00</td>\n",
       "      <td>-1.786361e+02</td>\n",
       "    </tr>\n",
       "    <tr>\n",
       "      <th>25%</th>\n",
       "      <td>4.100000e+01</td>\n",
       "      <td>9.860000e+02</td>\n",
       "      <td>1.294785e+04</td>\n",
       "      <td>6.400000e+01</td>\n",
       "      <td>7.100000e+01</td>\n",
       "      <td>5.300000e+01</td>\n",
       "      <td>2.200000e+01</td>\n",
       "      <td>4.738143e+01</td>\n",
       "      <td>-1.069275e+02</td>\n",
       "    </tr>\n",
       "    <tr>\n",
       "      <th>50%</th>\n",
       "      <td>8.400000e+01</td>\n",
       "      <td>1.370000e+03</td>\n",
       "      <td>2.256766e+04</td>\n",
       "      <td>6.900000e+01</td>\n",
       "      <td>8.300000e+01</td>\n",
       "      <td>5.700000e+01</td>\n",
       "      <td>2.600000e+01</td>\n",
       "      <td>5.557877e+01</td>\n",
       "      <td>-1.018887e+02</td>\n",
       "    </tr>\n",
       "    <tr>\n",
       "      <th>75%</th>\n",
       "      <td>1.310000e+02</td>\n",
       "      <td>1.941000e+03</td>\n",
       "      <td>4.054263e+04</td>\n",
       "      <td>7.400000e+01</td>\n",
       "      <td>9.100000e+01</td>\n",
       "      <td>6.200000e+01</td>\n",
       "      <td>3.200000e+01</td>\n",
       "      <td>6.500000e+01</td>\n",
       "      <td>-9.691123e+01</td>\n",
       "    </tr>\n",
       "    <tr>\n",
       "      <th>max</th>\n",
       "      <td>2.490000e+02</td>\n",
       "      <td>7.707000e+03</td>\n",
       "      <td>4.616921e+05</td>\n",
       "      <td>1.110000e+02</td>\n",
       "      <td>1.110000e+02</td>\n",
       "      <td>1.110000e+02</td>\n",
       "      <td>1.110000e+02</td>\n",
       "      <td>1.317649e+02</td>\n",
       "      <td>1.800000e+02</td>\n",
       "    </tr>\n",
       "  </tbody>\n",
       "</table>\n",
       "</div>"
      ],
      "text/plain": [
       "       frame number          Size        Volume            x1            y1  \\\n",
       "count  1.810020e+07  1.810020e+07  1.810020e+07  1.810020e+07  1.810020e+07   \n",
       "mean   8.986277e+01  1.549118e+03  3.144160e+04  6.917751e+01  8.189226e+01   \n",
       "std    5.824986e+01  7.785258e+02  2.812042e+04  8.471938e+00  1.295455e+01   \n",
       "min    0.000000e+00  0.000000e+00  0.000000e+00  0.000000e+00  0.000000e+00   \n",
       "25%    4.100000e+01  9.860000e+02  1.294785e+04  6.400000e+01  7.100000e+01   \n",
       "50%    8.400000e+01  1.370000e+03  2.256766e+04  6.900000e+01  8.300000e+01   \n",
       "75%    1.310000e+02  1.941000e+03  4.054263e+04  7.400000e+01  9.100000e+01   \n",
       "max    2.490000e+02  7.707000e+03  4.616921e+05  1.110000e+02  1.110000e+02   \n",
       "\n",
       "                 x2            y2        length       Degrees  \n",
       "count  1.810020e+07  1.810020e+07  1.810020e+07  1.810020e+07  \n",
       "mean   5.734409e+01  2.697977e+01  5.673553e+01 -1.017952e+02  \n",
       "std    7.183818e+00  7.748476e+00  1.291094e+01  9.313073e+00  \n",
       "min    0.000000e+00  0.000000e+00  0.000000e+00 -1.786361e+02  \n",
       "25%    5.300000e+01  2.200000e+01  4.738143e+01 -1.069275e+02  \n",
       "50%    5.700000e+01  2.600000e+01  5.557877e+01 -1.018887e+02  \n",
       "75%    6.200000e+01  3.200000e+01  6.500000e+01 -9.691123e+01  \n",
       "max    1.110000e+02  1.110000e+02  1.317649e+02  1.800000e+02  "
      ]
     },
     "execution_count": 206,
     "metadata": {},
     "output_type": "execute_result"
    }
   ],
   "source": [
    "numerical = ['Size','Volume','x1','y1','x2','y2','length','Degrees']\n",
    "for col in numerical:\n",
    "    plt.hist(total[col],bins=50)\n",
    "    plt.title(col)\n",
    "    plt.show()\n",
    "total.describe()"
   ]
  },
  {
   "cell_type": "markdown",
   "metadata": {},
   "source": [
    "Comments:\n",
    "\n",
    "Size is right tailed, can possibly eliminate from the >3000 set\n",
    "\n",
    "volume is right tailed, can possibly eliminate from the > 100000 set\n",
    "\n",
    "x1 is bellshaped esque, can possibly eliminate from +=2 std\n",
    "\n",
    "y1 is bimodal, can possibly eliminate from <80 set\n",
    "\n",
    "x2 is bellshaped, +-2 std\n",
    "\n",
    "y2 is bellshaped\n",
    "\n",
    "length is bellshaped\n",
    "\n",
    "degrees is very narro, can possibly eliminate outside the main 4 bins"
   ]
  },
  {
   "cell_type": "code",
   "execution_count": 216,
   "metadata": {},
   "outputs": [
    {
     "name": "stdout",
     "output_type": "stream",
     "text": [
      "Size is right tailed, can possibly eliminate from the >3000 set\n",
      "14.345781466113417 %\n",
      "Videos to check ['6ICHLPJ3.avi' '7QWCN61Y.avi' '2MP7J3FL.avi' 'BPREGNA5.avi'\n",
      " 'BS2WQ4L4.avi']\n"
     ]
    }
   ],
   "source": [
    "print(\"Size is right tailed, can possibly eliminate from the >3000 set\")\n",
    "data = total[total.Size>3000].Filename.unique()\n",
    "print(len(data)*100/len(grouped.index),'%')\n",
    "print(\"Videos to check\",np.random.choice(data,5))"
   ]
  },
  {
   "cell_type": "code",
   "execution_count": 217,
   "metadata": {},
   "outputs": [
    {
     "name": "stdout",
     "output_type": "stream",
     "text": [
      "volume is right tailed, can possibly eliminate from the > 100000 set\n",
      "9.278930382664823 %\n",
      "Videos to check ['EEOSAEVG.avi' '7SQU1ZU9.avi' '5AP6P68T.avi' '5B6VUWO0.avi'\n",
      " '6GIHP75W.avi']\n"
     ]
    }
   ],
   "source": [
    "print(\"volume is right tailed, can possibly eliminate from the > 100000 set\")\n",
    "data = total[total.Volume>100000].Filename.unique()\n",
    "print(len(data)*100/len(grouped.index),'%')\n",
    "print(\"Videos to check\",np.random.choice(data,5))"
   ]
  },
  {
   "cell_type": "code",
   "execution_count": 259,
   "metadata": {},
   "outputs": [
    {
     "name": "stdout",
     "output_type": "stream",
     "text": [
      "x1 is bellshaped esque, can possibly eliminate from +=2 std\n",
      "16.772706316274782 %\n",
      "Videos to check ['1HSBE3OA.avi' '1F2KPSQF.avi' 'BRMJJSGT.avi' 'BSZZNAOO.avi'\n",
      " 'E3P6V2VQ.avi']\n"
     ]
    }
   ],
   "source": [
    "print(\"x1 is bellshaped esque, can possibly eliminate from +=2 std\")\n",
    "mean = np.mean(total.x1)\n",
    "std = np.std(total.x1)\n",
    "data = total[~(total.x1.between(mean-2*std,mean+2*std))].Filename.unique()\n",
    "print(len(data)*100/len(grouped.index),'%')\n",
    "print(\"Videos to check\",np.random.choice(data,5))"
   ]
  },
  {
   "cell_type": "code",
   "execution_count": 241,
   "metadata": {},
   "outputs": [
    {
     "name": "stdout",
     "output_type": "stream",
     "text": [
      "y1 is bimodal, can possibly eliminate from <80 set\n",
      "63.248501613646845 %\n",
      "Videos to check ['D1KUNF4G.avi' '1JMT2ZVN.avi' '43YZ40DM.avi' '5HL3GAUJ.avi'\n",
      " '1BUZ3KE9.avi']\n"
     ]
    }
   ],
   "source": [
    "print(\"y1 is bimodal, can possibly eliminate from <80 set\")\n",
    "data = total[total.y1<80].Filename.unique()\n",
    "print(len(data)*100/len(grouped.index),'%')\n",
    "print(\"Videos to check\",np.random.choice(data,5))"
   ]
  },
  {
   "cell_type": "code",
   "execution_count": 242,
   "metadata": {},
   "outputs": [
    {
     "name": "stdout",
     "output_type": "stream",
     "text": [
      "x2 is bellshaped esque, can possibly eliminate from +=2 std\n",
      "17.127708621484555 %\n",
      "Videos to check ['96CSHX3F.avi' '7O54GRR5.avi' '1CB6GEKU.avi' 'AEXYKUM4.avi'\n",
      " '6RJ90MB4.avi']\n"
     ]
    }
   ],
   "source": [
    "print(\"x2 is bellshaped esque, can possibly eliminate from +=2 std\")\n",
    "mean = np.mean(total.x2)\n",
    "std = np.std(total.x2)\n",
    "data = total[~(total.x2.between(mean-2*std,mean+2*std))].Filename.unique()\n",
    "print(len(data)*100/len(grouped.index),'%')\n",
    "print(\"Videos to check\",np.random.choice(data,5))"
   ]
  },
  {
   "cell_type": "code",
   "execution_count": 243,
   "metadata": {},
   "outputs": [
    {
     "name": "stdout",
     "output_type": "stream",
     "text": [
      "y2 is bellshaped esque, can possibly eliminate from +=2 std\n",
      "13.97602581834947 %\n",
      "Videos to check ['563TA9U0.avi' 'BSZTJP5E.avi' '46ABMF6I.avi' '563NEKK6.avi'\n",
      " '2RAXF1II.avi']\n"
     ]
    }
   ],
   "source": [
    "print(\"y2 is bellshaped esque, can possibly eliminate from +=2 std\")\n",
    "mean = np.mean(total.y2)\n",
    "std = np.std(total.y2)\n",
    "data = total[~(total.y2.between(mean-2*std,mean+2*std))].Filename.unique()\n",
    "print(len(data)*100/len(grouped.index),'%')\n",
    "print(\"Videos to check\",np.random.choice(data,5))"
   ]
  },
  {
   "cell_type": "code",
   "execution_count": 244,
   "metadata": {},
   "outputs": [
    {
     "name": "stdout",
     "output_type": "stream",
     "text": [
      "length is bellshaped esque, can possibly eliminate from +=2 std\n",
      "17.65329644997695 %\n",
      "Videos to check ['42M0MHK0.avi' 'AGRHHX10.avi' 'BPBUE0WO.avi' 'AIMAG1G1.avi'\n",
      " '3VPY5BGQ.avi']\n"
     ]
    }
   ],
   "source": [
    "print(\"length is bellshaped esque, can possibly eliminate from +=2 std\")\n",
    "mean = np.mean(total.length)\n",
    "std = np.std(total.length)\n",
    "data = total[~(total.length.between(mean-2*std,mean+2*std))].Filename.unique()\n",
    "print(len(data)*100/len(grouped.index),'%')\n",
    "print(\"Videos to check\",np.random.choice(data,5))"
   ]
  },
  {
   "cell_type": "code",
   "execution_count": 255,
   "metadata": {},
   "outputs": [
    {
     "name": "stdout",
     "output_type": "stream",
     "text": [
      "degrees is very narro, can possibly eliminate outside the main 4 bins\n",
      "48.93775933609958 %\n",
      "Videos to check ['942RKLT5.avi' 'D13BSGVQ.avi' '484Z9QBL.avi' '1LYNDY75.avi'\n",
      " '1J69KX2H.avi']\n"
     ]
    }
   ],
   "source": [
    "print(\"degrees is very narro, can possibly eliminate outside the main 4 bins\")\n",
    "mean = -101#np.mean(total.Degrees)\n",
    "std = 6#np.std(total.Degrees)\n",
    "data = total[~(total.Degrees.between(mean-2*std,mean+2*std))].Filename.unique()\n",
    "print(len(data)*100/len(grouped.index),'%')\n",
    "print(\"Videos to check\",np.random.choice(data,5))"
   ]
  },
  {
   "cell_type": "markdown",
   "metadata": {},
   "source": [
    "# Done with total, now onto mean"
   ]
  },
  {
   "cell_type": "code",
   "execution_count": 275,
   "metadata": {},
   "outputs": [
    {
     "data": {
      "image/png": "[encoded data removed]",
      "text/plain": [
       "<Figure size 432x288 with 1 Axes>"
      ]
     },
     "metadata": {
      "needs_background": "light"
     },
     "output_type": "display_data"
    },
    {
     "data": {
      "image/png": "[encoded data removed]",
      "text/plain": [
       "<Figure size 432x288 with 1 Axes>"
      ]
     },
     "metadata": {
      "needs_background": "light"
     },
     "output_type": "display_data"
    },
    {
     "data": {
      "image/png": "[encoded data removed]",
      "text/plain": [
       "<Figure size 432x288 with 1 Axes>"
      ]
     },
     "metadata": {
      "needs_background": "light"
     },
     "output_type": "display_data"
    },
    {
     "data": {
      "image/png": "[encoded data removed]",
      "text/plain": [
       "<Figure size 432x288 with 1 Axes>"
      ]
     },
     "metadata": {
      "needs_background": "light"
     },
     "output_type": "display_data"
    },
    {
     "data": {
      "image/png": "[encoded data removed]",
      "text/plain": [
       "<Figure size 432x288 with 1 Axes>"
      ]
     },
     "metadata": {
      "needs_background": "light"
     },
     "output_type": "display_data"
    },
    {
     "data": {
      "image/png": "[encoded data removed]",
      "text/plain": [
       "<Figure size 432x288 with 1 Axes>"
      ]
     },
     "metadata": {
      "needs_background": "light"
     },
     "output_type": "display_data"
    },
    {
     "data": {
      "image/png": "[encoded data removed]",
      "text/plain": [
       "<Figure size 432x288 with 1 Axes>"
      ]
     },
     "metadata": {
      "needs_background": "light"
     },
     "output_type": "display_data"
    },
    {
     "data": {
      "image/png": "[encoded data removed]",
      "text/plain": [
       "<Figure size 432x288 with 1 Axes>"
      ]
     },
     "metadata": {
      "needs_background": "light"
     },
     "output_type": "display_data"
    },
    {
     "data": {
      "text/html": [
       "<div>\n",
       "<style scoped>\n",
       "    .dataframe tbody tr th:only-of-type {\n",
       "        vertical-align: middle;\n",
       "    }\n",
       "\n",
       "    .dataframe tbody tr th {\n",
       "        vertical-align: top;\n",
       "    }\n",
       "\n",
       "    .dataframe thead th {\n",
       "        text-align: right;\n",
       "    }\n",
       "</style>\n",
       "<table border=\"1\" class=\"dataframe\">\n",
       "  <thead>\n",
       "    <tr style=\"text-align: right;\">\n",
       "      <th></th>\n",
       "      <th>frame number</th>\n",
       "      <th>Size</th>\n",
       "      <th>Volume</th>\n",
       "      <th>x1</th>\n",
       "      <th>y1</th>\n",
       "      <th>x2</th>\n",
       "      <th>y2</th>\n",
       "      <th>length</th>\n",
       "      <th>Degrees</th>\n",
       "    </tr>\n",
       "  </thead>\n",
       "  <tbody>\n",
       "    <tr>\n",
       "      <th>count</th>\n",
       "      <td>108450.000000</td>\n",
       "      <td>108450.000000</td>\n",
       "      <td>108450.000000</td>\n",
       "      <td>108450.000000</td>\n",
       "      <td>108450.000000</td>\n",
       "      <td>108450.000000</td>\n",
       "      <td>108450.000000</td>\n",
       "      <td>108450.000000</td>\n",
       "      <td>108450.000000</td>\n",
       "    </tr>\n",
       "    <tr>\n",
       "      <th>mean</th>\n",
       "      <td>82.950277</td>\n",
       "      <td>1512.396030</td>\n",
       "      <td>30188.776894</td>\n",
       "      <td>68.999567</td>\n",
       "      <td>81.377693</td>\n",
       "      <td>57.504131</td>\n",
       "      <td>27.059928</td>\n",
       "      <td>56.087036</td>\n",
       "      <td>-101.534947</td>\n",
       "    </tr>\n",
       "    <tr>\n",
       "      <th>std</th>\n",
       "      <td>24.017686</td>\n",
       "      <td>679.128571</td>\n",
       "      <td>23837.300877</td>\n",
       "      <td>7.657666</td>\n",
       "      <td>12.316706</td>\n",
       "      <td>6.441522</td>\n",
       "      <td>7.300609</td>\n",
       "      <td>11.639983</td>\n",
       "      <td>7.936075</td>\n",
       "    </tr>\n",
       "    <tr>\n",
       "      <th>min</th>\n",
       "      <td>4.500000</td>\n",
       "      <td>0.000000</td>\n",
       "      <td>0.000000</td>\n",
       "      <td>0.000000</td>\n",
       "      <td>0.000000</td>\n",
       "      <td>0.000000</td>\n",
       "      <td>0.000000</td>\n",
       "      <td>0.000000</td>\n",
       "      <td>-151.032339</td>\n",
       "    </tr>\n",
       "    <tr>\n",
       "      <th>25%</th>\n",
       "      <td>67.000000</td>\n",
       "      <td>1004.784643</td>\n",
       "      <td>13901.503924</td>\n",
       "      <td>64.111111</td>\n",
       "      <td>71.066667</td>\n",
       "      <td>53.359608</td>\n",
       "      <td>21.816256</td>\n",
       "      <td>47.233952</td>\n",
       "      <td>-106.178538</td>\n",
       "    </tr>\n",
       "    <tr>\n",
       "      <th>50%</th>\n",
       "      <td>82.500000</td>\n",
       "      <td>1376.610014</td>\n",
       "      <td>23286.796219</td>\n",
       "      <td>68.988220</td>\n",
       "      <td>83.038420</td>\n",
       "      <td>57.552232</td>\n",
       "      <td>26.607143</td>\n",
       "      <td>55.347739</td>\n",
       "      <td>-101.585358</td>\n",
       "    </tr>\n",
       "    <tr>\n",
       "      <th>75%</th>\n",
       "      <td>99.500000</td>\n",
       "      <td>1868.316580</td>\n",
       "      <td>38880.715883</td>\n",
       "      <td>73.917419</td>\n",
       "      <td>91.246855</td>\n",
       "      <td>61.747404</td>\n",
       "      <td>32.203987</td>\n",
       "      <td>63.804101</td>\n",
       "      <td>-97.156291</td>\n",
       "    </tr>\n",
       "    <tr>\n",
       "      <th>max</th>\n",
       "      <td>124.500000</td>\n",
       "      <td>6063.808000</td>\n",
       "      <td>271569.837355</td>\n",
       "      <td>103.444000</td>\n",
       "      <td>111.000000</td>\n",
       "      <td>96.000000</td>\n",
       "      <td>76.000000</td>\n",
       "      <td>108.594443</td>\n",
       "      <td>4.934287</td>\n",
       "    </tr>\n",
       "  </tbody>\n",
       "</table>\n",
       "</div>"
      ],
      "text/plain": [
       "        frame number           Size         Volume             x1  \\\n",
       "count  108450.000000  108450.000000  108450.000000  108450.000000   \n",
       "mean       82.950277    1512.396030   30188.776894      68.999567   \n",
       "std        24.017686     679.128571   23837.300877       7.657666   \n",
       "min         4.500000       0.000000       0.000000       0.000000   \n",
       "25%        67.000000    1004.784643   13901.503924      64.111111   \n",
       "50%        82.500000    1376.610014   23286.796219      68.988220   \n",
       "75%        99.500000    1868.316580   38880.715883      73.917419   \n",
       "max       124.500000    6063.808000  271569.837355     103.444000   \n",
       "\n",
       "                  y1             x2             y2         length  \\\n",
       "count  108450.000000  108450.000000  108450.000000  108450.000000   \n",
       "mean       81.377693      57.504131      27.059928      56.087036   \n",
       "std        12.316706       6.441522       7.300609      11.639983   \n",
       "min         0.000000       0.000000       0.000000       0.000000   \n",
       "25%        71.066667      53.359608      21.816256      47.233952   \n",
       "50%        83.038420      57.552232      26.607143      55.347739   \n",
       "75%        91.246855      61.747404      32.203987      63.804101   \n",
       "max       111.000000      96.000000      76.000000     108.594443   \n",
       "\n",
       "             Degrees  \n",
       "count  108450.000000  \n",
       "mean     -101.534947  \n",
       "std         7.936075  \n",
       "min      -151.032339  \n",
       "25%      -106.178538  \n",
       "50%      -101.585358  \n",
       "75%       -97.156291  \n",
       "max         4.934287  "
      ]
     },
     "execution_count": 275,
     "metadata": {},
     "output_type": "execute_result"
    }
   ],
   "source": [
    "numerical = ['Size','Volume','x1','y1','x2','y2','length','Degrees']\n",
    "for col in numerical:\n",
    "    plt.hist(mean_grouped[col],bins=50)\n",
    "    plt.title(col)\n",
    "    plt.show()\n",
    "mean_grouped.describe()"
   ]
  },
  {
   "cell_type": "markdown",
   "metadata": {},
   "source": [
    "Comments:\n",
    "\n",
    "Size is right tailed, can possibly eliminate from the >2000 set\n",
    "\n",
    "volume is right tailed, can possibly eliminate from the > 50000 set\n",
    "\n",
    "x1 is bellshaped esque, can possibly eliminate from +=2 std\n",
    "\n",
    "y1 is bimodal, can possibly eliminate from <80 or > 80 set\n",
    "\n",
    "x2 is bellshaped, +-2 std\n",
    "\n",
    "y2 is bellshaped\n",
    "\n",
    "length is bellshaped\n",
    "\n",
    "degrees is very narro, can possibly eliminate outside the main 4 bins"
   ]
  },
  {
   "cell_type": "code",
   "execution_count": 260,
   "metadata": {},
   "outputs": [
    {
     "name": "stdout",
     "output_type": "stream",
     "text": [
      "Size is right tailed, can possibly eliminate from the >2000 set\n",
      "20.177962194559704 %\n",
      "Videos to check ['ADJPXVEZ.avi' 'BNH7C8NS.avi' 'E8AWCBHM.avi' 'FE2W0SSI.avi'\n",
      " '7TNWQI0J.avi']\n"
     ]
    }
   ],
   "source": [
    "print(\"Size is right tailed, can possibly eliminate from the >2000 set\")\n",
    "data = mean_grouped[mean_grouped.Size>2000].index.unique()\n",
    "print(len(data)*100/len(grouped.index),'%')\n",
    "print(\"Videos to check\",np.random.choice(data,5))"
   ]
  },
  {
   "cell_type": "code",
   "execution_count": 261,
   "metadata": {},
   "outputs": [
    {
     "name": "stdout",
     "output_type": "stream",
     "text": [
      "volume is right tailed, can possibly eliminate from the > 100000 set\n",
      "14.934993084370678 %\n",
      "Videos to check ['D2HXH8ES.avi' 'E6WMKPV9.avi' '41O49TXR.avi' 'BQP508LT.avi'\n",
      " 'AEH4B2Y4.avi']\n"
     ]
    }
   ],
   "source": [
    "print(\"volume is right tailed, can possibly eliminate from the > 100000 set\")\n",
    "data = mean_grouped[mean_grouped.Volume>50000].index.unique()\n",
    "print(len(data)*100/len(grouped.index),'%')\n",
    "print(\"Videos to check\",np.random.choice(data,5))"
   ]
  },
  {
   "cell_type": "code",
   "execution_count": 263,
   "metadata": {},
   "outputs": [
    {
     "name": "stdout",
     "output_type": "stream",
     "text": [
      "x1 is bellshaped esque, can possibly eliminate from +=2 std\n",
      "4.097740894421392 %\n",
      "Videos to check ['6Q5H0EDN.avi' 'D0NS77A5.avi' 'ECFEYWL4.avi' '5BMLCYA7.avi'\n",
      " 'FKZMKRCM.avi']\n"
     ]
    }
   ],
   "source": [
    "print(\"x1 is bellshaped esque, can possibly eliminate from +=2 std\")\n",
    "mean = np.mean(mean_grouped.x1)\n",
    "std = np.std(mean_grouped.x1)\n",
    "data = mean_grouped[~(mean_grouped.x1.between(mean-2*std,mean+2*std))].index.unique()\n",
    "print(len(data)*100/len(grouped.index),'%')\n",
    "print(\"Videos to check\",np.random.choice(data,5))"
   ]
  },
  {
   "cell_type": "code",
   "execution_count": 267,
   "metadata": {},
   "outputs": [
    {
     "name": "stdout",
     "output_type": "stream",
     "text": [
      "y1 is bimodal, can possibly eliminate from <80 set\n",
      "43.453204241585986 %\n",
      "Videos to check ['3W5HS0LQ.avi' '571VPQSX.avi' 'EDTCY7RF.avi' '2OZEJBCL.avi'\n",
      " '484H26Y9.avi']\n"
     ]
    }
   ],
   "source": [
    "print(\"y1 is bimodal, can possibly eliminate from <80 set\")\n",
    "data = mean_grouped[mean_grouped.y1<80].index.unique()\n",
    "print(len(data)*100/len(grouped.index),'%')\n",
    "print(\"Videos to check\",np.random.choice(data,5))"
   ]
  },
  {
   "cell_type": "code",
   "execution_count": 268,
   "metadata": {},
   "outputs": [
    {
     "name": "stdout",
     "output_type": "stream",
     "text": [
      "x2 is bellshaped esque, can possibly eliminate from +=2 std\n",
      "4.024896265560166 %\n",
      "Videos to check ['6F5DSDCS.avi' '3Y0B34GG.avi' 'BTH10RPD.avi' 'BIEYCX69.avi'\n",
      " '564YO5IY.avi']\n"
     ]
    }
   ],
   "source": [
    "print(\"x2 is bellshaped esque, can possibly eliminate from +=2 std\")\n",
    "mean = np.mean(mean_grouped.x2)\n",
    "std = np.std(mean_grouped.x2)\n",
    "data = mean_grouped[~(mean_grouped.x2.between(mean-2*std,mean+2*std))].index.unique()\n",
    "print(len(data)*100/len(grouped.index),'%')\n",
    "print(\"Videos to check\",np.random.choice(data,5))"
   ]
  },
  {
   "cell_type": "code",
   "execution_count": 269,
   "metadata": {},
   "outputs": [
    {
     "name": "stdout",
     "output_type": "stream",
     "text": [
      "y2 is bellshaped esque, can possibly eliminate from +=2 std\n",
      "4.150299677270632 %\n",
      "Videos to check ['1GEP7AAA.avi' '3X38CDDB.avi' '2T4WRITD.avi' 'CTRDG4OP.avi'\n",
      " '1O7UQWJY.avi']\n"
     ]
    }
   ],
   "source": [
    "print(\"y2 is bellshaped esque, can possibly eliminate from +=2 std\")\n",
    "mean = np.mean(mean_grouped.y2)\n",
    "std = np.std(mean_grouped.y2)\n",
    "data = mean_grouped[~(mean_grouped.y2.between(mean-2*std,mean+2*std))].index.unique()\n",
    "print(len(data)*100/len(grouped.index),'%')\n",
    "print(\"Videos to check\",np.random.choice(data,5))"
   ]
  },
  {
   "cell_type": "code",
   "execution_count": 270,
   "metadata": {},
   "outputs": [
    {
     "name": "stdout",
     "output_type": "stream",
     "text": [
      "length is bellshaped esque, can possibly eliminate from +=2 std\n",
      "3.79253112033195 %\n",
      "Videos to check ['4778GQRE.avi' 'D20K7WOK.avi' 'D4BF5S24.avi' 'D2YB4KYK.avi'\n",
      " 'EF5BWL8R.avi']\n"
     ]
    }
   ],
   "source": [
    "print(\"length is bellshaped esque, can possibly eliminate from +=2 std\")\n",
    "mean = np.mean(mean_grouped.length)\n",
    "std = np.std(mean_grouped.length)\n",
    "data = mean_grouped[~(mean_grouped.length.between(mean-2*std,mean+2*std))].index.unique()\n",
    "print(len(data)*100/len(grouped.index),'%')\n",
    "print(\"Videos to check\",np.random.choice(data,5))"
   ]
  },
  {
   "cell_type": "code",
   "execution_count": 272,
   "metadata": {},
   "outputs": [
    {
     "name": "stdout",
     "output_type": "stream",
     "text": [
      "degrees is very narro, can possibly eliminate outside the main 4 bins\n",
      "10.16781927155371 %\n",
      "Videos to check ['6S0RVKBJ.avi' 'CU7QZFZB.avi' '3UTDBL2S.avi' '1BDLYBOZ.avi'\n",
      " '2KF0KXGE.avi']\n"
     ]
    }
   ],
   "source": [
    "print(\"degrees is very narro, can possibly eliminate outside the main 4 bins\")\n",
    "mean = -101#np.mean(total.Degrees)\n",
    "std = 6#np.std(total.Degrees)\n",
    "data = mean_grouped[~(mean_grouped.Degrees.between(mean-2*std,mean+2*std))].index.unique()\n",
    "print(len(data)*100/len(grouped.index),'%')\n",
    "print(\"Videos to check\",np.random.choice(data,5))"
   ]
  },
  {
   "cell_type": "markdown",
   "metadata": {},
   "source": [
    "# std"
   ]
  },
  {
   "cell_type": "code",
   "execution_count": 274,
   "metadata": {},
   "outputs": [
    {
     "name": "stderr",
     "output_type": "stream",
     "text": [
      "C:\\Users\\TheurerJ\\Anaconda3\\lib\\site-packages\\numpy\\lib\\histograms.py:839: RuntimeWarning: invalid value encountered in greater_equal\n",
      "  keep = (tmp_a >= first_edge)\n",
      "C:\\Users\\TheurerJ\\Anaconda3\\lib\\site-packages\\numpy\\lib\\histograms.py:840: RuntimeWarning: invalid value encountered in less_equal\n",
      "  keep &= (tmp_a <= last_edge)\n"
     ]
    },
    {
     "data": {
      "image/png": "[encoded data removed]",
      "text/plain": [
       "<Figure size 432x288 with 1 Axes>"
      ]
     },
     "metadata": {
      "needs_background": "light"
     },
     "output_type": "display_data"
    },
    {
     "data": {
      "image/png": "[encoded data removed]",
      "text/plain": [
       "<Figure size 432x288 with 1 Axes>"
      ]
     },
     "metadata": {
      "needs_background": "light"
     },
     "output_type": "display_data"
    },
    {
     "data": {
      "image/png": "[encoded data removed]",
      "text/plain": [
       "<Figure size 432x288 with 1 Axes>"
      ]
     },
     "metadata": {
      "needs_background": "light"
     },
     "output_type": "display_data"
    },
    {
     "data": {
      "image/png": "[encoded data removed]",
      "text/plain": [
       "<Figure size 432x288 with 1 Axes>"
      ]
     },
     "metadata": {
      "needs_background": "light"
     },
     "output_type": "display_data"
    },
    {
     "data": {
      "image/png": "[encoded data removed]",
      "text/plain": [
       "<Figure size 432x288 with 1 Axes>"
      ]
     },
     "metadata": {
      "needs_background": "light"
     },
     "output_type": "display_data"
    },
    {
     "data": {
      "image/png": "[encoded data removed]",
      "text/plain": [
       "<Figure size 432x288 with 1 Axes>"
      ]
     },
     "metadata": {
      "needs_background": "light"
     },
     "output_type": "display_data"
    },
    {
     "data": {
      "image/png": "[encoded data removed]",
      "text/plain": [
       "<Figure size 432x288 with 1 Axes>"
      ]
     },
     "metadata": {
      "needs_background": "light"
     },
     "output_type": "display_data"
    },
    {
     "data": {
      "image/png": "[encoded data removed]",
      "text/plain": [
       "<Figure size 432x288 with 1 Axes>"
      ]
     },
     "metadata": {
      "needs_background": "light"
     },
     "output_type": "display_data"
    },
    {
     "data": {
      "text/html": [
       "<div>\n",
       "<style scoped>\n",
       "    .dataframe tbody tr th:only-of-type {\n",
       "        vertical-align: middle;\n",
       "    }\n",
       "\n",
       "    .dataframe tbody tr th {\n",
       "        vertical-align: top;\n",
       "    }\n",
       "\n",
       "    .dataframe thead th {\n",
       "        text-align: right;\n",
       "    }\n",
       "</style>\n",
       "<table border=\"1\" class=\"dataframe\">\n",
       "  <thead>\n",
       "    <tr style=\"text-align: right;\">\n",
       "      <th></th>\n",
       "      <th>frame number</th>\n",
       "      <th>Size</th>\n",
       "      <th>Volume</th>\n",
       "      <th>x1</th>\n",
       "      <th>y1</th>\n",
       "      <th>x2</th>\n",
       "      <th>y2</th>\n",
       "      <th>length</th>\n",
       "      <th>Degrees</th>\n",
       "    </tr>\n",
       "  </thead>\n",
       "  <tbody>\n",
       "    <tr>\n",
       "      <th>count</th>\n",
       "      <td>108449.000000</td>\n",
       "      <td>108449.000000</td>\n",
       "      <td>108449.000000</td>\n",
       "      <td>108449.000000</td>\n",
       "      <td>108449.000000</td>\n",
       "      <td>108449.000000</td>\n",
       "      <td>108449.000000</td>\n",
       "      <td>108449.000000</td>\n",
       "      <td>108449.000000</td>\n",
       "    </tr>\n",
       "    <tr>\n",
       "      <th>mean</th>\n",
       "      <td>48.324133</td>\n",
       "      <td>282.229884</td>\n",
       "      <td>9414.661105</td>\n",
       "      <td>2.862770</td>\n",
       "      <td>3.407613</td>\n",
       "      <td>2.597447</td>\n",
       "      <td>1.991127</td>\n",
       "      <td>4.514102</td>\n",
       "      <td>3.771123</td>\n",
       "    </tr>\n",
       "    <tr>\n",
       "      <th>std</th>\n",
       "      <td>13.866781</td>\n",
       "      <td>158.157921</td>\n",
       "      <td>7674.376249</td>\n",
       "      <td>2.460470</td>\n",
       "      <td>2.677663</td>\n",
       "      <td>2.184005</td>\n",
       "      <td>1.709508</td>\n",
       "      <td>2.376410</td>\n",
       "      <td>3.918612</td>\n",
       "    </tr>\n",
       "    <tr>\n",
       "      <th>min</th>\n",
       "      <td>3.027650</td>\n",
       "      <td>0.000000</td>\n",
       "      <td>0.000000</td>\n",
       "      <td>0.000000</td>\n",
       "      <td>0.000000</td>\n",
       "      <td>0.000000</td>\n",
       "      <td>0.000000</td>\n",
       "      <td>0.000000</td>\n",
       "      <td>0.000000</td>\n",
       "    </tr>\n",
       "    <tr>\n",
       "      <th>25%</th>\n",
       "      <td>39.115214</td>\n",
       "      <td>169.990430</td>\n",
       "      <td>4195.425690</td>\n",
       "      <td>1.759329</td>\n",
       "      <td>2.187477</td>\n",
       "      <td>1.610386</td>\n",
       "      <td>1.242828</td>\n",
       "      <td>3.108244</td>\n",
       "      <td>2.419922</td>\n",
       "    </tr>\n",
       "    <tr>\n",
       "      <th>50%</th>\n",
       "      <td>48.064193</td>\n",
       "      <td>244.474640</td>\n",
       "      <td>7163.410090</td>\n",
       "      <td>2.317573</td>\n",
       "      <td>2.873140</td>\n",
       "      <td>2.109940</td>\n",
       "      <td>1.605087</td>\n",
       "      <td>4.040513</td>\n",
       "      <td>3.019086</td>\n",
       "    </tr>\n",
       "    <tr>\n",
       "      <th>75%</th>\n",
       "      <td>57.879185</td>\n",
       "      <td>356.924315</td>\n",
       "      <td>12256.514717</td>\n",
       "      <td>3.138913</td>\n",
       "      <td>3.815667</td>\n",
       "      <td>2.852187</td>\n",
       "      <td>2.153113</td>\n",
       "      <td>5.256378</td>\n",
       "      <td>3.887804</td>\n",
       "    </tr>\n",
       "    <tr>\n",
       "      <th>max</th>\n",
       "      <td>72.312977</td>\n",
       "      <td>2116.511650</td>\n",
       "      <td>102166.352722</td>\n",
       "      <td>47.306826</td>\n",
       "      <td>48.227728</td>\n",
       "      <td>46.120638</td>\n",
       "      <td>35.557865</td>\n",
       "      <td>41.833174</td>\n",
       "      <td>114.024071</td>\n",
       "    </tr>\n",
       "  </tbody>\n",
       "</table>\n",
       "</div>"
      ],
      "text/plain": [
       "        frame number           Size         Volume             x1  \\\n",
       "count  108449.000000  108449.000000  108449.000000  108449.000000   \n",
       "mean       48.324133     282.229884    9414.661105       2.862770   \n",
       "std        13.866781     158.157921    7674.376249       2.460470   \n",
       "min         3.027650       0.000000       0.000000       0.000000   \n",
       "25%        39.115214     169.990430    4195.425690       1.759329   \n",
       "50%        48.064193     244.474640    7163.410090       2.317573   \n",
       "75%        57.879185     356.924315   12256.514717       3.138913   \n",
       "max        72.312977    2116.511650  102166.352722      47.306826   \n",
       "\n",
       "                  y1             x2             y2         length  \\\n",
       "count  108449.000000  108449.000000  108449.000000  108449.000000   \n",
       "mean        3.407613       2.597447       1.991127       4.514102   \n",
       "std         2.677663       2.184005       1.709508       2.376410   \n",
       "min         0.000000       0.000000       0.000000       0.000000   \n",
       "25%         2.187477       1.610386       1.242828       3.108244   \n",
       "50%         2.873140       2.109940       1.605087       4.040513   \n",
       "75%         3.815667       2.852187       2.153113       5.256378   \n",
       "max        48.227728      46.120638      35.557865      41.833174   \n",
       "\n",
       "             Degrees  \n",
       "count  108449.000000  \n",
       "mean        3.771123  \n",
       "std         3.918612  \n",
       "min         0.000000  \n",
       "25%         2.419922  \n",
       "50%         3.019086  \n",
       "75%         3.887804  \n",
       "max       114.024071  "
      ]
     },
     "execution_count": 274,
     "metadata": {},
     "output_type": "execute_result"
    }
   ],
   "source": [
    "numerical = ['Size','Volume','x1','y1','x2','y2','length','Degrees']\n",
    "for col in numerical:\n",
    "    plt.hist(std_grouped[col],bins=50)\n",
    "    plt.title(col)\n",
    "    plt.show()\n",
    "std_grouped.describe()"
   ]
  },
  {
   "cell_type": "markdown",
   "metadata": {},
   "source": [
    "Comments:\n",
    "\n",
    "Size is right tailed, can possibly eliminate from the >500 set\n",
    "\n",
    "volume is right tailed, can possibly eliminate from the > 20000 set\n",
    "\n",
    "x1 is right tailed, can possibly eliminate from .9 quantile\n",
    "\n",
    "y1 is right tailed, can possibly eliminate from .9 quantile\n",
    "\n",
    "x2 is right tailed, can possibly eliminate from .9 quantile\n",
    "\n",
    "y2 is right tailed, can possibly eliminate from .9 quantile\n",
    "\n",
    "length is right tailed, can possibly eliminate from .9 quantile\n",
    "\n",
    "degrees is very narro, can possibly eliminate outside the 0.9 quantile"
   ]
  },
  {
   "cell_type": "code",
   "execution_count": 277,
   "metadata": {},
   "outputs": [],
   "source": [
    "frame = std_grouped"
   ]
  },
  {
   "cell_type": "code",
   "execution_count": 278,
   "metadata": {},
   "outputs": [
    {
     "name": "stdout",
     "output_type": "stream",
     "text": [
      "Size is right tailed, can possibly eliminate from the >2000 set\n",
      "8.766251728907331 %\n",
      "Videos to check ['7Z61BAO0.avi' '5D0PHZ7T.avi' 'FPKTXVTP.avi' '1JNSI9N4.avi'\n",
      " '1DOSRRJL.avi']\n"
     ]
    }
   ],
   "source": [
    "print(\"Size is right tailed, can possibly eliminate from the >2000 set\")\n",
    "data = frame[frame.Size>500].index.unique()\n",
    "print(len(data)*100/len(grouped.index),'%')\n",
    "print(\"Videos to check\",np.random.choice(data,5))"
   ]
  },
  {
   "cell_type": "code",
   "execution_count": 279,
   "metadata": {},
   "outputs": [
    {
     "name": "stdout",
     "output_type": "stream",
     "text": [
      "volume is right tailed, can possibly eliminate from the > 20000 set\n",
      "0.28031350852927617 %\n",
      "Videos to check ['2WT21I7U.avi' '2TL4D5XR.avi' 'D4RSOVL1.avi' '59SA70OJ.avi'\n",
      " '7WG51QKF.avi']\n"
     ]
    }
   ],
   "source": [
    "print(\"volume is right tailed, can possibly eliminate from the > 20000 set\")\n",
    "data = frame[frame.Volume>50000].index.unique()\n",
    "print(len(data)*100/len(grouped.index),'%')\n",
    "print(\"Videos to check\",np.random.choice(data,5))"
   ]
  },
  {
   "cell_type": "code",
   "execution_count": 283,
   "metadata": {},
   "outputs": [
    {
     "name": "stdout",
     "output_type": "stream",
     "text": [
      "x1 is right tailed, can possibly eliminate from 3 quartile\n",
      "10.0 %\n",
      "Videos to check ['7WG51K8M.avi' 'D20K9RSG.avi' 'E9NV0HMM.avi' 'CTQJOFYE.avi'\n",
      " 'E6WYD7SR.avi']\n"
     ]
    }
   ],
   "source": [
    "print(\"x1 is right tailed, can possibly eliminate from 3 quartile\")\n",
    "mean = np.mean(frame.x1)\n",
    "std = np.std(frame.x1)\n",
    "data = frame[frame.x1>frame.x1.quantile(0.9)].index.unique()\n",
    "print(len(data)*100/len(grouped.index),'%')\n",
    "print(\"Videos to check\",np.random.choice(data,5))"
   ]
  },
  {
   "cell_type": "code",
   "execution_count": 284,
   "metadata": {},
   "outputs": [
    {
     "name": "stdout",
     "output_type": "stream",
     "text": [
      "y1 is right tailed, can possibly eliminate from 3 quartile\n",
      "10.0 %\n",
      "Videos to check ['E96ANRMR.avi' '6RJKR2KJ.avi' '3W6HM347.avi' 'FBS6UYHF.avi'\n",
      " 'CU72XHJP.avi']\n"
     ]
    }
   ],
   "source": [
    "print(\"y1 is right tailed, can possibly eliminate from 3 quartile\")\n",
    "data = frame[frame.y1>frame.y1.quantile(0.9)].index.unique()\n",
    "print(len(data)*100/len(grouped.index),'%')\n",
    "print(\"Videos to check\",np.random.choice(data,5))"
   ]
  },
  {
   "cell_type": "code",
   "execution_count": 285,
   "metadata": {},
   "outputs": [
    {
     "name": "stdout",
     "output_type": "stream",
     "text": [
      "x2 is right tailed, can possibly eliminate from 3 quartile\n",
      "10.0 %\n",
      "Videos to check ['476WMOU8.avi' '7ZNWDNJ9.avi' '6F5DC9TM.avi' '47N3ZBXP.avi'\n",
      " '2KVE8DDN.avi']\n"
     ]
    }
   ],
   "source": [
    "print(\"x2 is right tailed, can possibly eliminate from 3 quartile\")\n",
    "data = frame[frame.x2>frame.x2.quantile(0.9)].index.unique()\n",
    "print(len(data)*100/len(grouped.index),'%')\n",
    "print(\"Videos to check\",np.random.choice(data,5))"
   ]
  },
  {
   "cell_type": "code",
   "execution_count": 286,
   "metadata": {},
   "outputs": [
    {
     "name": "stdout",
     "output_type": "stream",
     "text": [
      "y2 is right tailed, can possibly eliminate from 3 quartile\n",
      "10.0 %\n",
      "Videos to check ['9BVX1PP9.avi' '5APP0BH6.avi' 'D57C5761.avi' '46QVAKMS.avi'\n",
      " '1HCM04GC.avi']\n"
     ]
    }
   ],
   "source": [
    "print(\"y2 is right tailed, can possibly eliminate from 3 quartile\")\n",
    "data = frame[frame.y2>frame.y2.quantile(0.9)].index.unique()\n",
    "print(len(data)*100/len(grouped.index),'%')\n",
    "print(\"Videos to check\",np.random.choice(data,5))"
   ]
  },
  {
   "cell_type": "code",
   "execution_count": 287,
   "metadata": {},
   "outputs": [
    {
     "name": "stdout",
     "output_type": "stream",
     "text": [
      "length is right tailed, can possibly eliminate from 3 quartile\n",
      "10.0 %\n",
      "Videos to check ['1CB0XB5X.avi' '5GOUFC9P.avi' 'EA4QCCZ7.avi' 'FLFI4AIU.avi'\n",
      " 'BSJXX0AQ.avi']\n"
     ]
    }
   ],
   "source": [
    "print(\"length is right tailed, can possibly eliminate from 3 quartile\")\n",
    "data = frame[frame.length>frame.length.quantile(0.9)].index.unique()\n",
    "print(len(data)*100/len(grouped.index),'%')\n",
    "print(\"Videos to check\",np.random.choice(data,5))"
   ]
  },
  {
   "cell_type": "code",
   "execution_count": 288,
   "metadata": {},
   "outputs": [
    {
     "name": "stdout",
     "output_type": "stream",
     "text": [
      "Degrees is right tailed, can possibly eliminate from 3 quartile\n",
      "10.0 %\n",
      "Videos to check ['E8QF2TBR.avi' 'BVA5JC32.avi' '8YKB6ZLC.avi' '1BTBIDPV.avi'\n",
      " '6GIZME5B.avi']\n"
     ]
    }
   ],
   "source": [
    "print(\"Degrees is right tailed, can possibly eliminate from 3 quartile\")\n",
    "data = frame[frame.Degrees>frame.Degrees.quantile(0.9)].index.unique()\n",
    "print(len(data)*100/len(grouped.index),'%')\n",
    "print(\"Videos to check\",np.random.choice(data,5))"
   ]
  },
  {
   "cell_type": "markdown",
   "metadata": {},
   "source": [
    "# Range"
   ]
  },
  {
   "cell_type": "code",
   "execution_count": 289,
   "metadata": {},
   "outputs": [
    {
     "data": {
      "image/png": "[encoded data removed]",
      "text/plain": [
       "<Figure size 432x288 with 1 Axes>"
      ]
     },
     "metadata": {
      "needs_background": "light"
     },
     "output_type": "display_data"
    },
    {
     "data": {
      "image/png": "[encoded data removed]",
      "text/plain": [
       "<Figure size 432x288 with 1 Axes>"
      ]
     },
     "metadata": {
      "needs_background": "light"
     },
     "output_type": "display_data"
    },
    {
     "data": {
      "image/png": "[encoded data removed]",
      "text/plain": [
       "<Figure size 432x288 with 1 Axes>"
      ]
     },
     "metadata": {
      "needs_background": "light"
     },
     "output_type": "display_data"
    },
    {
     "data": {
      "image/png": "[encoded data removed]",
      "text/plain": [
       "<Figure size 432x288 with 1 Axes>"
      ]
     },
     "metadata": {
      "needs_background": "light"
     },
     "output_type": "display_data"
    },
    {
     "data": {
      "image/png": "[encoded data removed]",
      "text/plain": [
       "<Figure size 432x288 with 1 Axes>"
      ]
     },
     "metadata": {
      "needs_background": "light"
     },
     "output_type": "display_data"
    },
    {
     "data": {
      "image/png": "[encoded data removed]",
      "text/plain": [
       "<Figure size 432x288 with 1 Axes>"
      ]
     },
     "metadata": {
      "needs_background": "light"
     },
     "output_type": "display_data"
    },
    {
     "data": {
      "image/png": "[encoded data removed]",
      "text/plain": [
       "<Figure size 432x288 with 1 Axes>"
      ]
     },
     "metadata": {
      "needs_background": "light"
     },
     "output_type": "display_data"
    },
    {
     "data": {
      "image/png": "[encoded data removed]",
      "text/plain": [
       "<Figure size 432x288 with 1 Axes>"
      ]
     },
     "metadata": {
      "needs_background": "light"
     },
     "output_type": "display_data"
    },
    {
     "data": {
      "text/html": [
       "<div>\n",
       "<style scoped>\n",
       "    .dataframe tbody tr th:only-of-type {\n",
       "        vertical-align: middle;\n",
       "    }\n",
       "\n",
       "    .dataframe tbody tr th {\n",
       "        vertical-align: top;\n",
       "    }\n",
       "\n",
       "    .dataframe thead th {\n",
       "        text-align: right;\n",
       "    }\n",
       "</style>\n",
       "<table border=\"1\" class=\"dataframe\">\n",
       "  <thead>\n",
       "    <tr style=\"text-align: right;\">\n",
       "      <th></th>\n",
       "      <th>frame number</th>\n",
       "      <th>Size</th>\n",
       "      <th>Volume</th>\n",
       "      <th>x1</th>\n",
       "      <th>y1</th>\n",
       "      <th>x2</th>\n",
       "      <th>y2</th>\n",
       "      <th>length</th>\n",
       "      <th>Degrees</th>\n",
       "    </tr>\n",
       "  </thead>\n",
       "  <tbody>\n",
       "    <tr>\n",
       "      <th>count</th>\n",
       "      <td>108449.000000</td>\n",
       "      <td>108449.000000</td>\n",
       "      <td>108449.000000</td>\n",
       "      <td>108449.000000</td>\n",
       "      <td>108449.000000</td>\n",
       "      <td>108449.000000</td>\n",
       "      <td>108449.000000</td>\n",
       "      <td>108449.000000</td>\n",
       "      <td>108449.000000</td>\n",
       "    </tr>\n",
       "    <tr>\n",
       "      <th>mean</th>\n",
       "      <td>48.324133</td>\n",
       "      <td>282.229884</td>\n",
       "      <td>9414.661105</td>\n",
       "      <td>2.862770</td>\n",
       "      <td>3.407613</td>\n",
       "      <td>2.597447</td>\n",
       "      <td>1.991127</td>\n",
       "      <td>4.514102</td>\n",
       "      <td>3.771123</td>\n",
       "    </tr>\n",
       "    <tr>\n",
       "      <th>std</th>\n",
       "      <td>13.866781</td>\n",
       "      <td>158.157921</td>\n",
       "      <td>7674.376249</td>\n",
       "      <td>2.460470</td>\n",
       "      <td>2.677663</td>\n",
       "      <td>2.184005</td>\n",
       "      <td>1.709508</td>\n",
       "      <td>2.376410</td>\n",
       "      <td>3.918612</td>\n",
       "    </tr>\n",
       "    <tr>\n",
       "      <th>min</th>\n",
       "      <td>3.027650</td>\n",
       "      <td>0.000000</td>\n",
       "      <td>0.000000</td>\n",
       "      <td>0.000000</td>\n",
       "      <td>0.000000</td>\n",
       "      <td>0.000000</td>\n",
       "      <td>0.000000</td>\n",
       "      <td>0.000000</td>\n",
       "      <td>0.000000</td>\n",
       "    </tr>\n",
       "    <tr>\n",
       "      <th>25%</th>\n",
       "      <td>39.115214</td>\n",
       "      <td>169.990430</td>\n",
       "      <td>4195.425690</td>\n",
       "      <td>1.759329</td>\n",
       "      <td>2.187477</td>\n",
       "      <td>1.610386</td>\n",
       "      <td>1.242828</td>\n",
       "      <td>3.108244</td>\n",
       "      <td>2.419922</td>\n",
       "    </tr>\n",
       "    <tr>\n",
       "      <th>50%</th>\n",
       "      <td>48.064193</td>\n",
       "      <td>244.474640</td>\n",
       "      <td>7163.410090</td>\n",
       "      <td>2.317573</td>\n",
       "      <td>2.873140</td>\n",
       "      <td>2.109940</td>\n",
       "      <td>1.605087</td>\n",
       "      <td>4.040513</td>\n",
       "      <td>3.019086</td>\n",
       "    </tr>\n",
       "    <tr>\n",
       "      <th>75%</th>\n",
       "      <td>57.879185</td>\n",
       "      <td>356.924315</td>\n",
       "      <td>12256.514717</td>\n",
       "      <td>3.138913</td>\n",
       "      <td>3.815667</td>\n",
       "      <td>2.852187</td>\n",
       "      <td>2.153113</td>\n",
       "      <td>5.256378</td>\n",
       "      <td>3.887804</td>\n",
       "    </tr>\n",
       "    <tr>\n",
       "      <th>max</th>\n",
       "      <td>72.312977</td>\n",
       "      <td>2116.511650</td>\n",
       "      <td>102166.352722</td>\n",
       "      <td>47.306826</td>\n",
       "      <td>48.227728</td>\n",
       "      <td>46.120638</td>\n",
       "      <td>35.557865</td>\n",
       "      <td>41.833174</td>\n",
       "      <td>114.024071</td>\n",
       "    </tr>\n",
       "  </tbody>\n",
       "</table>\n",
       "</div>"
      ],
      "text/plain": [
       "        frame number           Size         Volume             x1  \\\n",
       "count  108449.000000  108449.000000  108449.000000  108449.000000   \n",
       "mean       48.324133     282.229884    9414.661105       2.862770   \n",
       "std        13.866781     158.157921    7674.376249       2.460470   \n",
       "min         3.027650       0.000000       0.000000       0.000000   \n",
       "25%        39.115214     169.990430    4195.425690       1.759329   \n",
       "50%        48.064193     244.474640    7163.410090       2.317573   \n",
       "75%        57.879185     356.924315   12256.514717       3.138913   \n",
       "max        72.312977    2116.511650  102166.352722      47.306826   \n",
       "\n",
       "                  y1             x2             y2         length  \\\n",
       "count  108449.000000  108449.000000  108449.000000  108449.000000   \n",
       "mean        3.407613       2.597447       1.991127       4.514102   \n",
       "std         2.677663       2.184005       1.709508       2.376410   \n",
       "min         0.000000       0.000000       0.000000       0.000000   \n",
       "25%         2.187477       1.610386       1.242828       3.108244   \n",
       "50%         2.873140       2.109940       1.605087       4.040513   \n",
       "75%         3.815667       2.852187       2.153113       5.256378   \n",
       "max        48.227728      46.120638      35.557865      41.833174   \n",
       "\n",
       "             Degrees  \n",
       "count  108449.000000  \n",
       "mean        3.771123  \n",
       "std         3.918612  \n",
       "min         0.000000  \n",
       "25%         2.419922  \n",
       "50%         3.019086  \n",
       "75%         3.887804  \n",
       "max       114.024071  "
      ]
     },
     "execution_count": 289,
     "metadata": {},
     "output_type": "execute_result"
    }
   ],
   "source": [
    "numerical = ['Size','Volume','x1','y1','x2','y2','length','Degrees']\n",
    "for col in numerical:\n",
    "    plt.hist(range_grouped[col],bins=50)\n",
    "    plt.title(col)\n",
    "    plt.show()\n",
    "std_grouped.describe()"
   ]
  },
  {
   "cell_type": "markdown",
   "metadata": {},
   "source": [
    "# TODO: Comments and below"
   ]
  },
  {
   "cell_type": "code",
   "execution_count": 277,
   "metadata": {},
   "outputs": [],
   "source": [
    "frame = range_grouped"
   ]
  },
  {
   "cell_type": "code",
   "execution_count": 278,
   "metadata": {},
   "outputs": [
    {
     "name": "stdout",
     "output_type": "stream",
     "text": [
      "Size is right tailed, can possibly eliminate from the >2000 set\n",
      "8.766251728907331 %\n",
      "Videos to check ['7Z61BAO0.avi' '5D0PHZ7T.avi' 'FPKTXVTP.avi' '1JNSI9N4.avi'\n",
      " '1DOSRRJL.avi']\n"
     ]
    }
   ],
   "source": [
    "print(\"Size is right tailed, can possibly eliminate from the >2000 set\")\n",
    "data = frame[frame.Size>500].index.unique()\n",
    "print(len(data)*100/len(grouped.index),'%')\n",
    "print(\"Videos to check\",np.random.choice(data,5))"
   ]
  },
  {
   "cell_type": "code",
   "execution_count": 279,
   "metadata": {},
   "outputs": [
    {
     "name": "stdout",
     "output_type": "stream",
     "text": [
      "volume is right tailed, can possibly eliminate from the > 20000 set\n",
      "0.28031350852927617 %\n",
      "Videos to check ['2WT21I7U.avi' '2TL4D5XR.avi' 'D4RSOVL1.avi' '59SA70OJ.avi'\n",
      " '7WG51QKF.avi']\n"
     ]
    }
   ],
   "source": [
    "print(\"volume is right tailed, can possibly eliminate from the > 20000 set\")\n",
    "data = frame[frame.Volume>50000].index.unique()\n",
    "print(len(data)*100/len(grouped.index),'%')\n",
    "print(\"Videos to check\",np.random.choice(data,5))"
   ]
  },
  {
   "cell_type": "code",
   "execution_count": 283,
   "metadata": {},
   "outputs": [
    {
     "name": "stdout",
     "output_type": "stream",
     "text": [
      "x1 is right tailed, can possibly eliminate from 3 quartile\n",
      "10.0 %\n",
      "Videos to check ['7WG51K8M.avi' 'D20K9RSG.avi' 'E9NV0HMM.avi' 'CTQJOFYE.avi'\n",
      " 'E6WYD7SR.avi']\n"
     ]
    }
   ],
   "source": [
    "print(\"x1 is right tailed, can possibly eliminate from 3 quartile\")\n",
    "mean = np.mean(frame.x1)\n",
    "std = np.std(frame.x1)\n",
    "data = frame[frame.x1>frame.x1.quantile(0.9)].index.unique()\n",
    "print(len(data)*100/len(grouped.index),'%')\n",
    "print(\"Videos to check\",np.random.choice(data,5))"
   ]
  },
  {
   "cell_type": "code",
   "execution_count": 284,
   "metadata": {},
   "outputs": [
    {
     "name": "stdout",
     "output_type": "stream",
     "text": [
      "y1 is right tailed, can possibly eliminate from 3 quartile\n",
      "10.0 %\n",
      "Videos to check ['E96ANRMR.avi' '6RJKR2KJ.avi' '3W6HM347.avi' 'FBS6UYHF.avi'\n",
      " 'CU72XHJP.avi']\n"
     ]
    }
   ],
   "source": [
    "print(\"y1 is right tailed, can possibly eliminate from 3 quartile\")\n",
    "data = frame[frame.y1>frame.y1.quantile(0.9)].index.unique()\n",
    "print(len(data)*100/len(grouped.index),'%')\n",
    "print(\"Videos to check\",np.random.choice(data,5))"
   ]
  },
  {
   "cell_type": "code",
   "execution_count": 285,
   "metadata": {},
   "outputs": [
    {
     "name": "stdout",
     "output_type": "stream",
     "text": [
      "x2 is right tailed, can possibly eliminate from 3 quartile\n",
      "10.0 %\n",
      "Videos to check ['476WMOU8.avi' '7ZNWDNJ9.avi' '6F5DC9TM.avi' '47N3ZBXP.avi'\n",
      " '2KVE8DDN.avi']\n"
     ]
    }
   ],
   "source": [
    "print(\"x2 is right tailed, can possibly eliminate from 3 quartile\")\n",
    "data = frame[frame.x2>frame.x2.quantile(0.9)].index.unique()\n",
    "print(len(data)*100/len(grouped.index),'%')\n",
    "print(\"Videos to check\",np.random.choice(data,5))"
   ]
  },
  {
   "cell_type": "code",
   "execution_count": 286,
   "metadata": {},
   "outputs": [
    {
     "name": "stdout",
     "output_type": "stream",
     "text": [
      "y2 is right tailed, can possibly eliminate from 3 quartile\n",
      "10.0 %\n",
      "Videos to check ['9BVX1PP9.avi' '5APP0BH6.avi' 'D57C5761.avi' '46QVAKMS.avi'\n",
      " '1HCM04GC.avi']\n"
     ]
    }
   ],
   "source": [
    "print(\"y2 is right tailed, can possibly eliminate from 3 quartile\")\n",
    "data = frame[frame.y2>frame.y2.quantile(0.9)].index.unique()\n",
    "print(len(data)*100/len(grouped.index),'%')\n",
    "print(\"Videos to check\",np.random.choice(data,5))"
   ]
  },
  {
   "cell_type": "code",
   "execution_count": 287,
   "metadata": {},
   "outputs": [
    {
     "name": "stdout",
     "output_type": "stream",
     "text": [
      "length is right tailed, can possibly eliminate from 3 quartile\n",
      "10.0 %\n",
      "Videos to check ['1CB0XB5X.avi' '5GOUFC9P.avi' 'EA4QCCZ7.avi' 'FLFI4AIU.avi'\n",
      " 'BSJXX0AQ.avi']\n"
     ]
    }
   ],
   "source": [
    "print(\"length is right tailed, can possibly eliminate from 3 quartile\")\n",
    "data = frame[frame.length>frame.length.quantile(0.9)].index.unique()\n",
    "print(len(data)*100/len(grouped.index),'%')\n",
    "print(\"Videos to check\",np.random.choice(data,5))"
   ]
  },
  {
   "cell_type": "code",
   "execution_count": 288,
   "metadata": {},
   "outputs": [
    {
     "name": "stdout",
     "output_type": "stream",
     "text": [
      "Degrees is right tailed, can possibly eliminate from 3 quartile\n",
      "10.0 %\n",
      "Videos to check ['E8QF2TBR.avi' 'BVA5JC32.avi' '8YKB6ZLC.avi' '1BTBIDPV.avi'\n",
      " '6GIZME5B.avi']\n"
     ]
    }
   ],
   "source": [
    "print(\"Degrees is right tailed, can possibly eliminate from 3 quartile\")\n",
    "data = frame[frame.Degrees>frame.Degrees.quantile(0.9)].index.unique()\n",
    "print(len(data)*100/len(grouped.index),'%')\n",
    "print(\"Videos to check\",np.random.choice(data,5))"
   ]
  },
  {
   "cell_type": "code",
   "execution_count": null,
   "metadata": {},
   "outputs": [],
   "source": []
  },
  {
   "cell_type": "markdown",
   "metadata": {},
   "source": [
    "# Plan from here\n",
    "\n",
    "1) go through every list of videos, if any video has 5 bad ones when chosen at random, and their size of dataset < 10%, then we throw it out. for every bin about 10%, they have to pass twice as many full bads\n",
    "\n",
    "2) apply same rule to the mask produced by other notebook\n",
    "\n",
    "3) join the two masks together, and I draw 30 randomly without seeing a bad, we are good?"
   ]
  },
  {
   "cell_type": "markdown",
   "metadata": {},
   "source": [
    "Script to identify the baseline point\n",
    "\n",
    "comments on code and pushed to github\n",
    "\n",
    "clear list of identified good\n",
    "\n",
    "see boss at place where I shadowed at 10 AM\n"
   ]
  },
  {
   "cell_type": "code",
   "execution_count": null,
   "metadata": {},
   "outputs": [],
   "source": []
  }
 ],
 "metadata": {
  "kernelspec": {
   "display_name": "Python 3",
   "language": "python",
   "name": "python3"
  },
  "language_info": {
   "codemirror_mode": {
    "name": "ipython",
    "version": 3
   },
   "file_extension": ".py",
   "mimetype": "text/x-python",
   "name": "python",
   "nbconvert_exporter": "python",
   "pygments_lexer": "ipython3",
   "version": "3.8.3"
  }
 },
 "nbformat": 4,
 "nbformat_minor": 4
}
