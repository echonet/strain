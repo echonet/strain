{
 "cells": [
  {
   "cell_type": "code",
   "execution_count": 7,
   "metadata": {},
   "outputs": [],
   "source": [
    "import pandas as pd\n",
    "import os\n",
    "from matplotlib import pyplot as plt\n",
    "from tqdm import tqdm\n",
    "import numpy as np"
   ]
  },
  {
   "cell_type": "code",
   "execution_count": 8,
   "metadata": {},
   "outputs": [
    {
     "data": {
      "text/html": [
       "<div>\n",
       "<style scoped>\n",
       "    .dataframe tbody tr th:only-of-type {\n",
       "        vertical-align: middle;\n",
       "    }\n",
       "\n",
       "    .dataframe tbody tr th {\n",
       "        vertical-align: top;\n",
       "    }\n",
       "\n",
       "    .dataframe thead th {\n",
       "        text-align: right;\n",
       "    }\n",
       "</style>\n",
       "<table border=\"1\" class=\"dataframe\">\n",
       "  <thead>\n",
       "    <tr style=\"text-align: right;\">\n",
       "      <th></th>\n",
       "      <th>Unnamed: 0</th>\n",
       "      <th>filenames</th>\n",
       "      <th>frame_num</th>\n",
       "      <th>x1</th>\n",
       "      <th>y1</th>\n",
       "      <th>error_1</th>\n",
       "      <th>x2</th>\n",
       "      <th>y2</th>\n",
       "      <th>error_2</th>\n",
       "      <th>length</th>\n",
       "      <th>angle</th>\n",
       "    </tr>\n",
       "  </thead>\n",
       "  <tbody>\n",
       "    <tr>\n",
       "      <th>0</th>\n",
       "      <td>0</td>\n",
       "      <td>0X100009310A3BD7FC.avi</td>\n",
       "      <td>0</td>\n",
       "      <td>50</td>\n",
       "      <td>70</td>\n",
       "      <td>0.0</td>\n",
       "      <td>75</td>\n",
       "      <td>69</td>\n",
       "      <td>7.071068</td>\n",
       "      <td>122</td>\n",
       "      <td>-2.914794</td>\n",
       "    </tr>\n",
       "    <tr>\n",
       "      <th>1</th>\n",
       "      <td>1</td>\n",
       "      <td>0X100009310A3BD7FC.avi</td>\n",
       "      <td>1</td>\n",
       "      <td>50</td>\n",
       "      <td>68</td>\n",
       "      <td>1.0</td>\n",
       "      <td>71</td>\n",
       "      <td>68</td>\n",
       "      <td>9.433981</td>\n",
       "      <td>120</td>\n",
       "      <td>-2.878598</td>\n",
       "    </tr>\n",
       "    <tr>\n",
       "      <th>2</th>\n",
       "      <td>2</td>\n",
       "      <td>0X100009310A3BD7FC.avi</td>\n",
       "      <td>2</td>\n",
       "      <td>50</td>\n",
       "      <td>69</td>\n",
       "      <td>0.0</td>\n",
       "      <td>72</td>\n",
       "      <td>69</td>\n",
       "      <td>8.062258</td>\n",
       "      <td>124</td>\n",
       "      <td>-2.878598</td>\n",
       "    </tr>\n",
       "    <tr>\n",
       "      <th>3</th>\n",
       "      <td>3</td>\n",
       "      <td>0X100009310A3BD7FC.avi</td>\n",
       "      <td>3</td>\n",
       "      <td>51</td>\n",
       "      <td>68</td>\n",
       "      <td>1.0</td>\n",
       "      <td>74</td>\n",
       "      <td>68</td>\n",
       "      <td>8.246211</td>\n",
       "      <td>110</td>\n",
       "      <td>-2.868584</td>\n",
       "    </tr>\n",
       "    <tr>\n",
       "      <th>4</th>\n",
       "      <td>4</td>\n",
       "      <td>0X100009310A3BD7FC.avi</td>\n",
       "      <td>4</td>\n",
       "      <td>52</td>\n",
       "      <td>68</td>\n",
       "      <td>2.0</td>\n",
       "      <td>73</td>\n",
       "      <td>69</td>\n",
       "      <td>6.324555</td>\n",
       "      <td>122</td>\n",
       "      <td>-2.868584</td>\n",
       "    </tr>\n",
       "  </tbody>\n",
       "</table>\n",
       "</div>"
      ],
      "text/plain": [
       "   Unnamed: 0               filenames  frame_num  x1  y1  error_1  x2  y2  \\\n",
       "0           0  0X100009310A3BD7FC.avi          0  50  70      0.0  75  69   \n",
       "1           1  0X100009310A3BD7FC.avi          1  50  68      1.0  71  68   \n",
       "2           2  0X100009310A3BD7FC.avi          2  50  69      0.0  72  69   \n",
       "3           3  0X100009310A3BD7FC.avi          3  51  68      1.0  74  68   \n",
       "4           4  0X100009310A3BD7FC.avi          4  52  68      2.0  73  69   \n",
       "\n",
       "    error_2  length     angle  \n",
       "0  7.071068     122 -2.914794  \n",
       "1  9.433981     120 -2.878598  \n",
       "2  8.062258     124 -2.878598  \n",
       "3  8.246211     110 -2.868584  \n",
       "4  6.324555     122 -2.868584  "
      ]
     },
     "execution_count": 8,
     "metadata": {},
     "output_type": "execute_result"
    }
   ],
   "source": [
    "strain = pd.read_csv(\"Strain.csv\")\n",
    "strain.head()"
   ]
  },
  {
   "cell_type": "code",
   "execution_count": 10,
   "metadata": {},
   "outputs": [
    {
     "name": "stderr",
     "output_type": "stream",
     "text": [
      "100%|██████████████████████████████████████████████████████████████████████████████| 3213/3213 [14:54<00:00,  3.59it/s]\n"
     ]
    }
   ],
   "source": [
    "strain_calc = []\n",
    "file_names = []\n",
    "for vid in tqdm(strain.filenames.unique()):\n",
    "    temp = strain[strain.filenames == vid]\n",
    "    strain_est = []\n",
    "    if len(temp.frame_num)>=32:\n",
    "        for frame in temp.frame_num[:-31]:\n",
    "            smaller = temp[(temp.frame_num >= frame) & (temp.frame_num <( frame + 32))]\n",
    "            strain_est.append(min(smaller.length)/max(smaller.length))\n",
    "        strain_calc.append(np.mean(strain_est))\n",
    "        plt.hist(strain_calc)\n",
    "        plt.title(vid)\n",
    "        plt.savefig(os.path.join('Strain Histogram',vid[:-4]+'.png'))\n",
    "        plt.clf()\n",
    "        plt.cla()\n",
    "        plt.close()\n",
    "        file_names.append(vid)"
   ]
  },
  {
   "cell_type": "code",
   "execution_count": 4,
   "metadata": {},
   "outputs": [
    {
     "data": {
      "text/plain": [
       "Text(0.5, 1.0, 'Mean Strain')"
      ]
     },
     "execution_count": 4,
     "metadata": {},
     "output_type": "execute_result"
    },
    {
     "data": {
      "image/png": "[encoded data removed]",
      "text/plain": [
       "<Figure size 432x288 with 1 Axes>"
      ]
     },
     "metadata": {
      "needs_background": "light"
     },
     "output_type": "display_data"
    }
   ],
   "source": [
    "plt.hist(strain_calc)\n",
    "plt.title(\"Mean Strain\")"
   ]
  },
  {
   "cell_type": "code",
   "execution_count": 5,
   "metadata": {},
   "outputs": [
    {
     "data": {
      "text/plain": [
       "Text(0.5, 1.0, '0X36D558075BB74018.avi')"
      ]
     },
     "execution_count": 5,
     "metadata": {},
     "output_type": "execute_result"
    },
    {
     "data": {
      "image/png": "[encoded data removed]",
      "text/plain": [
       "<Figure size 432x288 with 1 Axes>"
      ]
     },
     "metadata": {
      "needs_background": "light"
     },
     "output_type": "display_data"
    }
   ],
   "source": [
    "plt.hist(strain_est)\n",
    "plt.title(vid)"
   ]
  },
  {
   "cell_type": "code",
   "execution_count": null,
   "metadata": {},
   "outputs": [],
   "source": []
  }
 ],
 "metadata": {
  "kernelspec": {
   "display_name": "Python 3",
   "language": "python",
   "name": "python3"
  },
  "language_info": {
   "codemirror_mode": {
    "name": "ipython",
    "version": 3
   },
   "file_extension": ".py",
   "mimetype": "text/x-python",
   "name": "python",
   "nbconvert_exporter": "python",
   "pygments_lexer": "ipython3",
   "version": "3.8.3"
  }
 },
 "nbformat": 4,
 "nbformat_minor": 4
}
