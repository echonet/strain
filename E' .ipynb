{
 "cells": [
  {
   "cell_type": "code",
   "execution_count": 1,
   "metadata": {},
   "outputs": [],
   "source": [
    "import cv2"
   ]
  },
  {
   "cell_type": "code",
   "execution_count": 2,
   "metadata": {},
   "outputs": [
    {
     "data": {
      "text/plain": [
       "'4.0.1'"
      ]
     },
     "execution_count": 2,
     "metadata": {},
     "output_type": "execute_result"
    }
   ],
   "source": [
    "cv2.__version__"
   ]
  },
  {
   "cell_type": "code",
   "execution_count": 3,
   "metadata": {},
   "outputs": [
    {
     "data": {
      "text/plain": [
       "<TrackerBoosting 000001A4A30021B0>"
      ]
     },
     "execution_count": 3,
     "metadata": {},
     "output_type": "execute_result"
    }
   ],
   "source": [
    "cv2.TrackerBoosting_create()"
   ]
  },
  {
   "cell_type": "code",
   "execution_count": 4,
   "metadata": {},
   "outputs": [],
   "source": [
    "import cv2\n",
    "import numpy as np\n",
    "import math\n",
    "import typing\n",
    "import os\n",
    "def show(frame):\n",
    "    cv2.imshow(\"test\", frame)\n",
    "    cv2.waitKey(0)\n",
    "    cv2.destroyAllWindows()\n",
    "def plot_point(frame,x,y,color=(0,255,0)):\n",
    "    radius = 1\n",
    "    thickness = -1\n",
    "    return cv2.circle(frame, (x,y), radius, color, thickness)\n",
    "def plot_line(frame,p1,p2,color=(0,191,255)):\n",
    "    thickness = 2\n",
    "    return cv2.line(frame, (p1[0],p1[1]), (p2[0],p2[1]), color, thickness)\n",
    "def loadvideo(filename: str) -> np.ndarray:\n",
    "    \"\"\"Loads a video from a file.\n",
    "\n",
    "    Args:\n",
    "        filename (str): filename of video\n",
    "\n",
    "    Returns:\n",
    "        A np.ndarray with dimensions (channels=3, frames, height, width). The\n",
    "        values will be uint8's ranging from 0 to 255.\n",
    "\n",
    "    Raises:\n",
    "        FileNotFoundError: Could not find `filename`\n",
    "        ValueError: An error occurred while reading the video\n",
    "    \"\"\"\n",
    "\n",
    "    if not os.path.exists(filename):\n",
    "        raise FileNotFoundError(filename)\n",
    "    capture = cv2.VideoCapture(filename)\n",
    "\n",
    "    frame_count = int(capture.get(cv2.CAP_PROP_FRAME_COUNT))\n",
    "    frame_width = int(capture.get(cv2.CAP_PROP_FRAME_WIDTH))\n",
    "    frame_height = int(capture.get(cv2.CAP_PROP_FRAME_HEIGHT))\n",
    "\n",
    "    v = np.zeros((frame_count, frame_height, frame_width, 3), np.uint8)\n",
    "\n",
    "    for count in range(frame_count):\n",
    "        ret, frame = capture.read()\n",
    "        if not ret:\n",
    "            raise ValueError(\"Failed to load frame #{} of {}.\".format(count, filename))\n",
    "\n",
    "        frame = cv2.cvtColor(frame, cv2.COLOR_BGR2RGB)\n",
    "        v[count] = frame\n",
    "\n",
    "    v = v.transpose((3, 0, 1, 2))\n",
    "\n",
    "    return v\n",
    "def savevideo(filename: str, array: np.ndarray, fps: typing.Union[float, int] = 1):\n",
    "    \"\"\"Saves a video to a file.\n",
    "\n",
    "    Args:\n",
    "        filename (str): filename of video\n",
    "        array (np.ndarray): video of uint8's with shape (channels=3, frames, height, width)\n",
    "        fps (float or int): frames per second\n",
    "\n",
    "    Returns:\n",
    "        None\n",
    "    \"\"\"\n",
    "\n",
    "    c, f, height, width = array.shape\n",
    "\n",
    "    if c != 3:\n",
    "        raise ValueError(\"savevideo expects array of shape (channels=3, frames, height, width), got shape ({})\".format(\", \".join(map(str, array.shape))))\n",
    "    fourcc = cv2.VideoWriter_fourcc('M', 'J', 'P', 'G')\n",
    "    out = cv2.VideoWriter(filename, fourcc, fps, (width, height))\n",
    "\n",
    "    for i in range(f):\n",
    "        out.write(array[:, i, :, :].transpose((1, 2, 0)))\n",
    "\n",
    "        \n"
   ]
  },
  {
   "cell_type": "code",
   "execution_count": 5,
   "metadata": {},
   "outputs": [],
   "source": [
    "import cv2\n",
    "import numpy as np\n",
    "def show(frame):\n",
    "    cv2.imshow(\"test\", frame)\n",
    "    cv2.waitKey(0)\n",
    "    cv2.destroyAllWindows()\n",
    "def load(vid):\n",
    "    vid = loadvideo(vid)\n",
    "    #vid = np.transpose(vid,(1,2,3,0))\n",
    "    vid = vid[:,:,:,:112]\n",
    "    return vid"
   ]
  },
  {
   "cell_type": "code",
   "execution_count": null,
   "metadata": {},
   "outputs": [],
   "source": []
  },
  {
   "cell_type": "code",
   "execution_count": 6,
   "metadata": {},
   "outputs": [],
   "source": [
    "def midpoint(point1,point2):\n",
    "    return (point1+point2)/2\n",
    "def change(points):\n",
    "    point_arr = [points[0]]\n",
    "    for i in points[1:]:\n",
    "        point_arr.append(midpoint(point_arr[-1],i))\n",
    "    return np.array(point_arr)\n",
    "import matplotlib.pyplot as plt\n",
    "def delta(points):\n",
    "    point_arr = [points[0]]\n",
    "    for i in points[1:]:\n",
    "        if np.linalg.norm(i-point_arr[-1])<2:\n",
    "            point_arr.append(point_arr[-1])\n",
    "        else:\n",
    "            point_arr.append(i)\n",
    "    return np.array(point_arr)\n",
    "    #plt.hist(point_arr,bins=50)\n",
    "    #plt.show()\n",
    "    #for i in range(1,len(points)):\n",
    "    #    print(np.linalg.norm(points[i]-points[i-1]))"
   ]
  },
  {
   "cell_type": "code",
   "execution_count": 7,
   "metadata": {},
   "outputs": [],
   "source": [
    "key_points = []\n",
    "import pandas as pd\n",
    "df = pd.read_csv('C:\\\\Users\\\\TheurerJ\\\\Documents\\\\John\\\\dynamic\\\\echonet_segmentation_analysis\\\\Midpoint.csv')"
   ]
  },
  {
   "cell_type": "code",
   "execution_count": 8,
   "metadata": {},
   "outputs": [
    {
     "data": {
      "text/html": [
       "<div>\n",
       "<style scoped>\n",
       "    .dataframe tbody tr th:only-of-type {\n",
       "        vertical-align: middle;\n",
       "    }\n",
       "\n",
       "    .dataframe tbody tr th {\n",
       "        vertical-align: top;\n",
       "    }\n",
       "\n",
       "    .dataframe thead th {\n",
       "        text-align: right;\n",
       "    }\n",
       "</style>\n",
       "<table border=\"1\" class=\"dataframe\">\n",
       "  <thead>\n",
       "    <tr style=\"text-align: right;\">\n",
       "      <th></th>\n",
       "      <th>Unnamed: 0</th>\n",
       "      <th>FileNames</th>\n",
       "      <th>Frame</th>\n",
       "      <th>X1</th>\n",
       "      <th>Y1</th>\n",
       "      <th>X2</th>\n",
       "      <th>Y2</th>\n",
       "    </tr>\n",
       "  </thead>\n",
       "  <tbody>\n",
       "    <tr>\n",
       "      <th>0</th>\n",
       "      <td>0</td>\n",
       "      <td>0X100009310A3BD7FC.avi</td>\n",
       "      <td>0</td>\n",
       "      <td>50</td>\n",
       "      <td>70</td>\n",
       "      <td>76</td>\n",
       "      <td>67</td>\n",
       "    </tr>\n",
       "    <tr>\n",
       "      <th>1</th>\n",
       "      <td>1</td>\n",
       "      <td>0X100009310A3BD7FC.avi</td>\n",
       "      <td>1</td>\n",
       "      <td>50</td>\n",
       "      <td>69</td>\n",
       "      <td>76</td>\n",
       "      <td>67</td>\n",
       "    </tr>\n",
       "    <tr>\n",
       "      <th>2</th>\n",
       "      <td>2</td>\n",
       "      <td>0X100009310A3BD7FC.avi</td>\n",
       "      <td>2</td>\n",
       "      <td>50</td>\n",
       "      <td>69</td>\n",
       "      <td>76</td>\n",
       "      <td>67</td>\n",
       "    </tr>\n",
       "    <tr>\n",
       "      <th>3</th>\n",
       "      <td>3</td>\n",
       "      <td>0X100009310A3BD7FC.avi</td>\n",
       "      <td>3</td>\n",
       "      <td>51</td>\n",
       "      <td>69</td>\n",
       "      <td>76</td>\n",
       "      <td>67</td>\n",
       "    </tr>\n",
       "    <tr>\n",
       "      <th>4</th>\n",
       "      <td>4</td>\n",
       "      <td>0X100009310A3BD7FC.avi</td>\n",
       "      <td>4</td>\n",
       "      <td>50</td>\n",
       "      <td>68</td>\n",
       "      <td>75</td>\n",
       "      <td>67</td>\n",
       "    </tr>\n",
       "  </tbody>\n",
       "</table>\n",
       "</div>"
      ],
      "text/plain": [
       "   Unnamed: 0               FileNames  Frame  X1  Y1  X2  Y2\n",
       "0           0  0X100009310A3BD7FC.avi      0  50  70  76  67\n",
       "1           1  0X100009310A3BD7FC.avi      1  50  69  76  67\n",
       "2           2  0X100009310A3BD7FC.avi      2  50  69  76  67\n",
       "3           3  0X100009310A3BD7FC.avi      3  51  69  76  67\n",
       "4           4  0X100009310A3BD7FC.avi      4  50  68  75  67"
      ]
     },
     "execution_count": 8,
     "metadata": {},
     "output_type": "execute_result"
    }
   ],
   "source": [
    "df.head()"
   ]
  },
  {
   "cell_type": "code",
   "execution_count": 9,
   "metadata": {
    "scrolled": false
   },
   "outputs": [
    {
     "name": "stderr",
     "output_type": "stream",
     "text": [
      "  3%|██▋                                                                            | 111/3229 [00:58<21:16,  2.44it/s]"
     ]
    },
    {
     "name": "stdout",
     "output_type": "stream",
     "text": [
      "0X112505A983BB4D8E.avi\n"
     ]
    },
    {
     "name": "stderr",
     "output_type": "stream",
     "text": [
      "  5%|███▋                                                                           | 149/3229 [01:22<32:46,  1.57it/s]"
     ]
    },
    {
     "name": "stdout",
     "output_type": "stream",
     "text": [
      "0X118EF5AEED2E28EC.avi\n"
     ]
    },
    {
     "name": "stderr",
     "output_type": "stream",
     "text": [
      " 18%|██████████████▌                                                                | 597/3229 [05:17<17:57,  2.44it/s]"
     ]
    },
    {
     "name": "stdout",
     "output_type": "stream",
     "text": [
      "0X17828CD670289D36.avi\n"
     ]
    },
    {
     "name": "stderr",
     "output_type": "stream",
     "text": [
      " 35%|███████████████████████████▏                                                  | 1127/3229 [09:35<12:13,  2.87it/s]"
     ]
    },
    {
     "name": "stdout",
     "output_type": "stream",
     "text": [
      "0X1E3989E1CA499ADC.avi\n"
     ]
    },
    {
     "name": "stderr",
     "output_type": "stream",
     "text": [
      " 49%|██████████████████████████████████████▌                                       | 1594/3229 [13:29<10:46,  2.53it/s]"
     ]
    },
    {
     "name": "stdout",
     "output_type": "stream",
     "text": [
      "0X23D7360CB2EF9A53.avi\n"
     ]
    },
    {
     "name": "stderr",
     "output_type": "stream",
     "text": [
      " 51%|████████████████████████████████████████                                      | 1656/3229 [13:59<09:56,  2.64it/s]"
     ]
    },
    {
     "name": "stdout",
     "output_type": "stream",
     "text": [
      "0X249FE2498B57B632.avi\n"
     ]
    },
    {
     "name": "stderr",
     "output_type": "stream",
     "text": [
      " 65%|███████████████████████████████████████████████████                           | 2113/3229 [17:31<07:51,  2.37it/s]"
     ]
    },
    {
     "name": "stdout",
     "output_type": "stream",
     "text": [
      "0X2A2C1D627826C72.avi\n"
     ]
    },
    {
     "name": "stderr",
     "output_type": "stream",
     "text": [
      " 70%|██████████████████████████████████████████████████████▎                       | 2248/3229 [18:33<06:43,  2.43it/s]"
     ]
    },
    {
     "name": "stdout",
     "output_type": "stream",
     "text": [
      "0X2BB72AFEFA5753AA.avi\n"
     ]
    },
    {
     "name": "stderr",
     "output_type": "stream",
     "text": [
      " 75%|██████████████████████████████████████████████████████████▊                   | 2433/3229 [20:01<05:37,  2.36it/s]"
     ]
    },
    {
     "name": "stdout",
     "output_type": "stream",
     "text": [
      "0X2DE58B024738E3C7.avi\n"
     ]
    },
    {
     "name": "stderr",
     "output_type": "stream",
     "text": [
      " 76%|███████████████████████████████████████████████████████████▌                  | 2467/3229 [20:20<06:37,  1.91it/s]"
     ]
    },
    {
     "name": "stdout",
     "output_type": "stream",
     "text": [
      "0X2E52102EE379C357.avi\n"
     ]
    },
    {
     "name": "stderr",
     "output_type": "stream",
     "text": [
      "100%|██████████████████████████████████████████████████████████████████████████████| 3229/3229 [26:43<00:00,  2.01it/s]\n"
     ]
    }
   ],
   "source": [
    "from tqdm import tqdm\n",
    "folder = 'C:\\\\Users\\\\TheurerJ\\\\Documents\\\\Data\\\\segmented'\n",
    "output = 'C:\\\\Users\\\\TheurerJ\\\\Documents\\\\John\\\\dynamic\\\\echonet_segmentation_analysis\\\\E_prime'\n",
    "filenames = []\n",
    "frame_num = []\n",
    "length1 = []\n",
    "length2 = []\n",
    "\n",
    "for vid in tqdm(os.listdir(folder)):\n",
    "    try:\n",
    "        if len(df[df.FileNames==vid])>0:\n",
    "            temp = df[df.FileNames==vid]\n",
    "            exists = True\n",
    "\n",
    "        video_file = os.path.join(folder,vid)\n",
    "        first = load(video_file)\n",
    "        spare = first.copy()\n",
    "        first = np.transpose(first,(1,2,3,0))\n",
    "        video = []\n",
    "\n",
    "        for i in range(0,len(first)):\n",
    "            \n",
    "            X1 = int(temp[temp.Frame ==i].X1.tolist()[0])\n",
    "            Y1 = int(temp[temp.Frame ==i].Y1.tolist()[0])\n",
    "            X2 = int(temp[temp.Frame ==i].X2.tolist()[0])\n",
    "            Y2 = int(temp[temp.Frame ==i].Y2.tolist()[0])\n",
    "            img = plot_point(first[i],X1,Y1)\n",
    "            img = plot_line(img,[X1,Y1],[60,5])\n",
    "            img = plot_point(img,X2,Y2)\n",
    "            img = plot_line(img,[X2,Y2],[60,5])\n",
    "            img = plot_point(img,60,5,color=(255,0,255))\n",
    "            filenames.append(vid)\n",
    "            frame_num.append(i)\n",
    "            length1.append(np.sqrt((X1-60)**2+(Y1-5)**2))\n",
    "            length2.append(np.sqrt((X2-60)**2+(Y2-5)**2))\n",
    "\n",
    "            video.append(img)\n",
    "        video = np.transpose(np.array(video),(3,0,1,2))\n",
    "\n",
    "        savevideo(os.path.join(output,vid),video,fps=30)\n",
    "    except:\n",
    "        print(vid)\n"
   ]
  },
  {
   "cell_type": "code",
   "execution_count": 10,
   "metadata": {},
   "outputs": [
    {
     "data": {
      "text/plain": [
       "(array([5.38000e+02, 8.41200e+03, 7.59940e+04, 1.95469e+05, 1.27602e+05,\n",
       "        8.48740e+04, 5.70530e+04, 1.82640e+04, 2.55400e+03, 1.28000e+02]),\n",
       " array([ 34.0147027,  42.3746099,  50.7345171,  59.0944243,  67.4543315,\n",
       "         75.8142387,  84.1741459,  92.5340531, 100.8939603, 109.2538675,\n",
       "        117.6137747]),\n",
       " <a list of 10 Patch objects>)"
      ]
     },
     "execution_count": 10,
     "metadata": {},
     "output_type": "execute_result"
    },
    {
     "data": {
      "image/png": "[encoded data removed]",
      "text/plain": [
       "<Figure size 432x288 with 1 Axes>"
      ]
     },
     "metadata": {
      "needs_background": "light"
     },
     "output_type": "display_data"
    }
   ],
   "source": [
    "plt.hist(length2)"
   ]
  },
  {
   "cell_type": "code",
   "execution_count": 11,
   "metadata": {},
   "outputs": [],
   "source": [
    "E_Prime = pd.DataFrame({\"filenames\":filenames,\"Frame\":frame_num,\"Length 1\":length1,\"Length 2\":length2})"
   ]
  },
  {
   "cell_type": "code",
   "execution_count": 12,
   "metadata": {},
   "outputs": [
    {
     "name": "stdout",
     "output_type": "stream",
     "text": [
      "570888 570888 570888 570888\n"
     ]
    }
   ],
   "source": [
    "print(len(filenames),len(frame_num),len(length1),len(length2))"
   ]
  },
  {
   "cell_type": "code",
   "execution_count": 13,
   "metadata": {},
   "outputs": [],
   "source": [
    "E_Prime.to_csv(\"E_Prime.csv\")"
   ]
  },
  {
   "cell_type": "code",
   "execution_count": null,
   "metadata": {},
   "outputs": [],
   "source": []
  }
 ],
 "metadata": {
  "kernelspec": {
   "display_name": "Python 3",
   "language": "python",
   "name": "python3"
  },
  "language_info": {
   "codemirror_mode": {
    "name": "ipython",
    "version": 3
   },
   "file_extension": ".py",
   "mimetype": "text/x-python",
   "name": "python",
   "nbconvert_exporter": "python",
   "pygments_lexer": "ipython3",
   "version": "3.8.3"
  }
 },
 "nbformat": 4,
 "nbformat_minor": 4
}
